{
  "cells": [
    {
      "cell_type": "markdown",
      "id": "78ae1834-ae30-4799-8aa4-5786ee49d845",
      "metadata": {
        "id": "78ae1834-ae30-4799-8aa4-5786ee49d845"
      },
      "source": [
        "### Baseline модель для определения именованных сущностей по кейсу от Rutube.\n",
        "Поскольку нам нужно распознать нестандартные NER, можно воспользоваться помощью языковых моделей, в данном случае - Bert.\n",
        "Данные вы уже получили  - это разметка, сделанная на Толоке, она не идеальна, но это часть практической задачи, с которой можно столкнуться в реальности.\n",
        "\n",
        "Небольшое введение в NER https://habr.com/ru/companies/contentai/articles/449514/"
      ]
    },
    {
      "cell_type": "code",
      "execution_count": null,
      "id": "34f651cc-6e8c-431c-a84e-2e7d310c9d20",
      "metadata": {
        "id": "34f651cc-6e8c-431c-a84e-2e7d310c9d20"
      },
      "outputs": [],
      "source": [
        "# считаем данные\n",
        "import pandas as pd\n",
        "data = pd.read_csv(\"/content/drive/MyDrive/ner_DP/ner_data_train.csv\")"
      ]
    },
    {
      "cell_type": "code",
      "execution_count": null,
      "id": "5105af13-906b-43cc-b795-bdae96d030ca",
      "metadata": {
        "scrolled": true,
        "colab": {
          "base_uri": "https://localhost:8080/",
          "height": 7264
        },
        "id": "5105af13-906b-43cc-b795-bdae96d030ca",
        "outputId": "d8faee4d-7698-4b3e-c7ee-57c301dcc15c"
      },
      "outputs": [
        {
          "output_type": "execute_result",
          "data": {
            "text/plain": [
              "                                             video_info  \\\n",
              "0     <НАЗВАНИЕ:> Агент 117: Из Африки с любовью — Р...   \n",
              "1     <НАЗВАНИЕ:> Коленвал Инфинити Ку икс 56= 5.6 V...   \n",
              "2     <НАЗВАНИЕ:> ВЫЗОВ ДЕМОНА = Вызвал Серого Челов...   \n",
              "3     <НАЗВАНИЕ:> Довоенная немецкая кирха в Калинин...   \n",
              "4     <НАЗВАНИЕ:> \"Спартаку\" помогли судьи? Локомоти...   \n",
              "...                                                 ...   \n",
              "6417  <НАЗВАНИЕ:> ЗАПРЕЩЕННЫЙ УДАР! Полный бой Вадим...   \n",
              "6418  <НАЗВАНИЕ:> Как создаются медали: оптические и...   \n",
              "6419  <НАЗВАНИЕ:> Ремонт ломовоза камаз, монтаж гидр...   \n",
              "6420  <НАЗВАНИЕ:> Голодные игры: Баллада о змеях и п...   \n",
              "6421  <НАЗВАНИЕ:> Экскаватор на Дровах! Часть 15. За...   \n",
              "\n",
              "                                               entities  \n",
              "0     {\"label\":\"локация\"\\,\"offset\":26\\,\"length\":6\\,\"...  \n",
              "1     {\"label\":\"организация\"\\,\"offset\":196\\,\"length\"...  \n",
              "2     {\"label\":\"название проекта\"\\,\"offset\":12\\,\"len...  \n",
              "3     {\"label\":\"не найдено\"\\,\"offset\":162\\,\"length\":...  \n",
              "4     {\"label\":\"команда\"\\,\"offset\":13\\,\"length\":8\\,\"...  \n",
              "...                                                 ...  \n",
              "6417  {\"label\":\"персона\"\\,\"offset\":41\\,\"length\":12\\,...  \n",
              "6418  {\"label\":\"локация\"\\,\"offset\":88\\,\"length\":10\\,...  \n",
              "6419  {\"label\":\"бренд\"\\,\"offset\":28\\,\"length\":5\\,\"se...  \n",
              "6420  {\"label\":\"Дата\"\\,\"offset\":78\\,\"length\":4\\,\"seg...  \n",
              "6421  {\"label\":\"название проекта\"\\,\"offset\":12\\,\"len...  \n",
              "\n",
              "[6422 rows x 2 columns]"
            ],
            "text/html": [
              "\n",
              "  <div id=\"df-d3ea1706-0d6b-496f-b421-e1dfb155b26e\" class=\"colab-df-container\">\n",
              "    <div>\n",
              "<style scoped>\n",
              "    .dataframe tbody tr th:only-of-type {\n",
              "        vertical-align: middle;\n",
              "    }\n",
              "\n",
              "    .dataframe tbody tr th {\n",
              "        vertical-align: top;\n",
              "    }\n",
              "\n",
              "    .dataframe thead th {\n",
              "        text-align: right;\n",
              "    }\n",
              "</style>\n",
              "<table border=\"1\" class=\"dataframe\">\n",
              "  <thead>\n",
              "    <tr style=\"text-align: right;\">\n",
              "      <th></th>\n",
              "      <th>video_info</th>\n",
              "      <th>entities</th>\n",
              "    </tr>\n",
              "  </thead>\n",
              "  <tbody>\n",
              "    <tr>\n",
              "      <th>0</th>\n",
              "      <td>&lt;НАЗВАНИЕ:&gt; Агент 117: Из Африки с любовью — Р...</td>\n",
              "      <td>{\"label\":\"локация\"\\,\"offset\":26\\,\"length\":6\\,\"...</td>\n",
              "    </tr>\n",
              "    <tr>\n",
              "      <th>1</th>\n",
              "      <td>&lt;НАЗВАНИЕ:&gt; Коленвал Инфинити Ку икс 56= 5.6 V...</td>\n",
              "      <td>{\"label\":\"организация\"\\,\"offset\":196\\,\"length\"...</td>\n",
              "    </tr>\n",
              "    <tr>\n",
              "      <th>2</th>\n",
              "      <td>&lt;НАЗВАНИЕ:&gt; ВЫЗОВ ДЕМОНА = Вызвал Серого Челов...</td>\n",
              "      <td>{\"label\":\"название проекта\"\\,\"offset\":12\\,\"len...</td>\n",
              "    </tr>\n",
              "    <tr>\n",
              "      <th>3</th>\n",
              "      <td>&lt;НАЗВАНИЕ:&gt; Довоенная немецкая кирха в Калинин...</td>\n",
              "      <td>{\"label\":\"не найдено\"\\,\"offset\":162\\,\"length\":...</td>\n",
              "    </tr>\n",
              "    <tr>\n",
              "      <th>4</th>\n",
              "      <td>&lt;НАЗВАНИЕ:&gt; \"Спартаку\" помогли судьи? Локомоти...</td>\n",
              "      <td>{\"label\":\"команда\"\\,\"offset\":13\\,\"length\":8\\,\"...</td>\n",
              "    </tr>\n",
              "    <tr>\n",
              "      <th>...</th>\n",
              "      <td>...</td>\n",
              "      <td>...</td>\n",
              "    </tr>\n",
              "    <tr>\n",
              "      <th>6417</th>\n",
              "      <td>&lt;НАЗВАНИЕ:&gt; ЗАПРЕЩЕННЫЙ УДАР! Полный бой Вадим...</td>\n",
              "      <td>{\"label\":\"персона\"\\,\"offset\":41\\,\"length\":12\\,...</td>\n",
              "    </tr>\n",
              "    <tr>\n",
              "      <th>6418</th>\n",
              "      <td>&lt;НАЗВАНИЕ:&gt; Как создаются медали: оптические и...</td>\n",
              "      <td>{\"label\":\"локация\"\\,\"offset\":88\\,\"length\":10\\,...</td>\n",
              "    </tr>\n",
              "    <tr>\n",
              "      <th>6419</th>\n",
              "      <td>&lt;НАЗВАНИЕ:&gt; Ремонт ломовоза камаз, монтаж гидр...</td>\n",
              "      <td>{\"label\":\"бренд\"\\,\"offset\":28\\,\"length\":5\\,\"se...</td>\n",
              "    </tr>\n",
              "    <tr>\n",
              "      <th>6420</th>\n",
              "      <td>&lt;НАЗВАНИЕ:&gt; Голодные игры: Баллада о змеях и п...</td>\n",
              "      <td>{\"label\":\"Дата\"\\,\"offset\":78\\,\"length\":4\\,\"seg...</td>\n",
              "    </tr>\n",
              "    <tr>\n",
              "      <th>6421</th>\n",
              "      <td>&lt;НАЗВАНИЕ:&gt; Экскаватор на Дровах! Часть 15. За...</td>\n",
              "      <td>{\"label\":\"название проекта\"\\,\"offset\":12\\,\"len...</td>\n",
              "    </tr>\n",
              "  </tbody>\n",
              "</table>\n",
              "<p>6422 rows × 2 columns</p>\n",
              "</div>\n",
              "    <div class=\"colab-df-buttons\">\n",
              "\n",
              "  <div class=\"colab-df-container\">\n",
              "    <button class=\"colab-df-convert\" onclick=\"convertToInteractive('df-d3ea1706-0d6b-496f-b421-e1dfb155b26e')\"\n",
              "            title=\"Convert this dataframe to an interactive table.\"\n",
              "            style=\"display:none;\">\n",
              "\n",
              "  <svg xmlns=\"http://www.w3.org/2000/svg\" height=\"24px\" viewBox=\"0 -960 960 960\">\n",
              "    <path d=\"M120-120v-720h720v720H120Zm60-500h600v-160H180v160Zm220 220h160v-160H400v160Zm0 220h160v-160H400v160ZM180-400h160v-160H180v160Zm440 0h160v-160H620v160ZM180-180h160v-160H180v160Zm440 0h160v-160H620v160Z\"/>\n",
              "  </svg>\n",
              "    </button>\n",
              "\n",
              "  <style>\n",
              "    .colab-df-container {\n",
              "      display:flex;\n",
              "      gap: 12px;\n",
              "    }\n",
              "\n",
              "    .colab-df-convert {\n",
              "      background-color: #E8F0FE;\n",
              "      border: none;\n",
              "      border-radius: 50%;\n",
              "      cursor: pointer;\n",
              "      display: none;\n",
              "      fill: #1967D2;\n",
              "      height: 32px;\n",
              "      padding: 0 0 0 0;\n",
              "      width: 32px;\n",
              "    }\n",
              "\n",
              "    .colab-df-convert:hover {\n",
              "      background-color: #E2EBFA;\n",
              "      box-shadow: 0px 1px 2px rgba(60, 64, 67, 0.3), 0px 1px 3px 1px rgba(60, 64, 67, 0.15);\n",
              "      fill: #174EA6;\n",
              "    }\n",
              "\n",
              "    .colab-df-buttons div {\n",
              "      margin-bottom: 4px;\n",
              "    }\n",
              "\n",
              "    [theme=dark] .colab-df-convert {\n",
              "      background-color: #3B4455;\n",
              "      fill: #D2E3FC;\n",
              "    }\n",
              "\n",
              "    [theme=dark] .colab-df-convert:hover {\n",
              "      background-color: #434B5C;\n",
              "      box-shadow: 0px 1px 3px 1px rgba(0, 0, 0, 0.15);\n",
              "      filter: drop-shadow(0px 1px 2px rgba(0, 0, 0, 0.3));\n",
              "      fill: #FFFFFF;\n",
              "    }\n",
              "  </style>\n",
              "\n",
              "    <script>\n",
              "      const buttonEl =\n",
              "        document.querySelector('#df-d3ea1706-0d6b-496f-b421-e1dfb155b26e button.colab-df-convert');\n",
              "      buttonEl.style.display =\n",
              "        google.colab.kernel.accessAllowed ? 'block' : 'none';\n",
              "\n",
              "      async function convertToInteractive(key) {\n",
              "        const element = document.querySelector('#df-d3ea1706-0d6b-496f-b421-e1dfb155b26e');\n",
              "        const dataTable =\n",
              "          await google.colab.kernel.invokeFunction('convertToInteractive',\n",
              "                                                    [key], {});\n",
              "        if (!dataTable) return;\n",
              "\n",
              "        const docLinkHtml = 'Like what you see? Visit the ' +\n",
              "          '<a target=\"_blank\" href=https://colab.research.google.com/notebooks/data_table.ipynb>data table notebook</a>'\n",
              "          + ' to learn more about interactive tables.';\n",
              "        element.innerHTML = '';\n",
              "        dataTable['output_type'] = 'display_data';\n",
              "        await google.colab.output.renderOutput(dataTable, element);\n",
              "        const docLink = document.createElement('div');\n",
              "        docLink.innerHTML = docLinkHtml;\n",
              "        element.appendChild(docLink);\n",
              "      }\n",
              "    </script>\n",
              "  </div>\n",
              "\n",
              "\n",
              "<div id=\"df-7200c25f-4ed9-4a87-89a8-f9045199797c\">\n",
              "  <button class=\"colab-df-quickchart\" onclick=\"quickchart('df-7200c25f-4ed9-4a87-89a8-f9045199797c')\"\n",
              "            title=\"Suggest charts.\"\n",
              "            style=\"display:none;\">\n",
              "\n",
              "<svg xmlns=\"http://www.w3.org/2000/svg\" height=\"24px\"viewBox=\"0 0 24 24\"\n",
              "     width=\"24px\">\n",
              "    <g>\n",
              "        <path d=\"M19 3H5c-1.1 0-2 .9-2 2v14c0 1.1.9 2 2 2h14c1.1 0 2-.9 2-2V5c0-1.1-.9-2-2-2zM9 17H7v-7h2v7zm4 0h-2V7h2v10zm4 0h-2v-4h2v4z\"/>\n",
              "    </g>\n",
              "</svg>\n",
              "  </button>\n",
              "\n",
              "<style>\n",
              "  .colab-df-quickchart {\n",
              "      --bg-color: #E8F0FE;\n",
              "      --fill-color: #1967D2;\n",
              "      --hover-bg-color: #E2EBFA;\n",
              "      --hover-fill-color: #174EA6;\n",
              "      --disabled-fill-color: #AAA;\n",
              "      --disabled-bg-color: #DDD;\n",
              "  }\n",
              "\n",
              "  [theme=dark] .colab-df-quickchart {\n",
              "      --bg-color: #3B4455;\n",
              "      --fill-color: #D2E3FC;\n",
              "      --hover-bg-color: #434B5C;\n",
              "      --hover-fill-color: #FFFFFF;\n",
              "      --disabled-bg-color: #3B4455;\n",
              "      --disabled-fill-color: #666;\n",
              "  }\n",
              "\n",
              "  .colab-df-quickchart {\n",
              "    background-color: var(--bg-color);\n",
              "    border: none;\n",
              "    border-radius: 50%;\n",
              "    cursor: pointer;\n",
              "    display: none;\n",
              "    fill: var(--fill-color);\n",
              "    height: 32px;\n",
              "    padding: 0;\n",
              "    width: 32px;\n",
              "  }\n",
              "\n",
              "  .colab-df-quickchart:hover {\n",
              "    background-color: var(--hover-bg-color);\n",
              "    box-shadow: 0 1px 2px rgba(60, 64, 67, 0.3), 0 1px 3px 1px rgba(60, 64, 67, 0.15);\n",
              "    fill: var(--button-hover-fill-color);\n",
              "  }\n",
              "\n",
              "  .colab-df-quickchart-complete:disabled,\n",
              "  .colab-df-quickchart-complete:disabled:hover {\n",
              "    background-color: var(--disabled-bg-color);\n",
              "    fill: var(--disabled-fill-color);\n",
              "    box-shadow: none;\n",
              "  }\n",
              "\n",
              "  .colab-df-spinner {\n",
              "    border: 2px solid var(--fill-color);\n",
              "    border-color: transparent;\n",
              "    border-bottom-color: var(--fill-color);\n",
              "    animation:\n",
              "      spin 1s steps(1) infinite;\n",
              "  }\n",
              "\n",
              "  @keyframes spin {\n",
              "    0% {\n",
              "      border-color: transparent;\n",
              "      border-bottom-color: var(--fill-color);\n",
              "      border-left-color: var(--fill-color);\n",
              "    }\n",
              "    20% {\n",
              "      border-color: transparent;\n",
              "      border-left-color: var(--fill-color);\n",
              "      border-top-color: var(--fill-color);\n",
              "    }\n",
              "    30% {\n",
              "      border-color: transparent;\n",
              "      border-left-color: var(--fill-color);\n",
              "      border-top-color: var(--fill-color);\n",
              "      border-right-color: var(--fill-color);\n",
              "    }\n",
              "    40% {\n",
              "      border-color: transparent;\n",
              "      border-right-color: var(--fill-color);\n",
              "      border-top-color: var(--fill-color);\n",
              "    }\n",
              "    60% {\n",
              "      border-color: transparent;\n",
              "      border-right-color: var(--fill-color);\n",
              "    }\n",
              "    80% {\n",
              "      border-color: transparent;\n",
              "      border-right-color: var(--fill-color);\n",
              "      border-bottom-color: var(--fill-color);\n",
              "    }\n",
              "    90% {\n",
              "      border-color: transparent;\n",
              "      border-bottom-color: var(--fill-color);\n",
              "    }\n",
              "  }\n",
              "</style>\n",
              "\n",
              "  <script>\n",
              "    async function quickchart(key) {\n",
              "      const quickchartButtonEl =\n",
              "        document.querySelector('#' + key + ' button');\n",
              "      quickchartButtonEl.disabled = true;  // To prevent multiple clicks.\n",
              "      quickchartButtonEl.classList.add('colab-df-spinner');\n",
              "      try {\n",
              "        const charts = await google.colab.kernel.invokeFunction(\n",
              "            'suggestCharts', [key], {});\n",
              "      } catch (error) {\n",
              "        console.error('Error during call to suggestCharts:', error);\n",
              "      }\n",
              "      quickchartButtonEl.classList.remove('colab-df-spinner');\n",
              "      quickchartButtonEl.classList.add('colab-df-quickchart-complete');\n",
              "    }\n",
              "    (() => {\n",
              "      let quickchartButtonEl =\n",
              "        document.querySelector('#df-7200c25f-4ed9-4a87-89a8-f9045199797c button');\n",
              "      quickchartButtonEl.style.display =\n",
              "        google.colab.kernel.accessAllowed ? 'block' : 'none';\n",
              "    })();\n",
              "  </script>\n",
              "</div>\n",
              "    </div>\n",
              "  </div>\n"
            ]
          },
          "metadata": {},
          "execution_count": 3
        }
      ],
      "source": [
        "data"
      ]
    },
    {
      "cell_type": "code",
      "execution_count": null,
      "id": "902ad843-b9a6-4aeb-b283-6590444aea06",
      "metadata": {
        "id": "902ad843-b9a6-4aeb-b283-6590444aea06"
      },
      "outputs": [],
      "source": [
        "# данные спарсены с Толоки, поэтому могут иметь проблемы с символами и их нужно избежать,\n",
        "# удалить лишние '\\' например, преобразовать из str в список dict-ов\n",
        "import json\n",
        "df = data.copy()\n",
        "df['entities'] = df['entities'].apply(lambda l: l.replace('\\,', ',')if isinstance(l, str) else l)\n",
        "df['entities'] = df['entities'].apply(lambda l: l.replace('\\\\\\\\', '\\\\')if isinstance(l, str) else l)\n",
        "df['entities'] = df['entities'].apply(lambda l: '[' + l + ']'if isinstance(l, str) else l)\n",
        "df['entities'] = df['entities'].apply(lambda l: json.loads(l)if isinstance(l, str) else l)"
      ]
    },
    {
      "cell_type": "code",
      "execution_count": null,
      "id": "8768495c-c2a5-4c74-a5de-a60bbd60898f",
      "metadata": {
        "id": "8768495c-c2a5-4c74-a5de-a60bbd60898f",
        "outputId": "8a457524-f69c-4d41-d0c4-7cd73a1809a4"
      },
      "outputs": [
        {
          "data": {
            "text/html": [
              "<div>\n",
              "<style scoped>\n",
              "    .dataframe tbody tr th:only-of-type {\n",
              "        vertical-align: middle;\n",
              "    }\n",
              "\n",
              "    .dataframe tbody tr th {\n",
              "        vertical-align: top;\n",
              "    }\n",
              "\n",
              "    .dataframe thead th {\n",
              "        text-align: right;\n",
              "    }\n",
              "</style>\n",
              "<table border=\"1\" class=\"dataframe\">\n",
              "  <thead>\n",
              "    <tr style=\"text-align: right;\">\n",
              "      <th></th>\n",
              "      <th>video_info</th>\n",
              "      <th>entities</th>\n",
              "    </tr>\n",
              "  </thead>\n",
              "  <tbody>\n",
              "    <tr>\n",
              "      <th>0</th>\n",
              "      <td>&lt;НАЗВАНИЕ:&gt; Агент 117: Из Африки с любовью — Р...</td>\n",
              "      <td>[{'label': 'локация', 'offset': 26, 'length': ...</td>\n",
              "    </tr>\n",
              "    <tr>\n",
              "      <th>1</th>\n",
              "      <td>&lt;НАЗВАНИЕ:&gt; Коленвал Инфинити Ку икс 56= 5.6 V...</td>\n",
              "      <td>[{'label': 'организация', 'offset': 196, 'leng...</td>\n",
              "    </tr>\n",
              "    <tr>\n",
              "      <th>2</th>\n",
              "      <td>&lt;НАЗВАНИЕ:&gt; ВЫЗОВ ДЕМОНА = Вызвал Серого Челов...</td>\n",
              "      <td>[{'label': 'название проекта', 'offset': 12, '...</td>\n",
              "    </tr>\n",
              "  </tbody>\n",
              "</table>\n",
              "</div>"
            ],
            "text/plain": [
              "                                          video_info  \\\n",
              "0  <НАЗВАНИЕ:> Агент 117: Из Африки с любовью — Р...   \n",
              "1  <НАЗВАНИЕ:> Коленвал Инфинити Ку икс 56= 5.6 V...   \n",
              "2  <НАЗВАНИЕ:> ВЫЗОВ ДЕМОНА = Вызвал Серого Челов...   \n",
              "\n",
              "                                            entities  \n",
              "0  [{'label': 'локация', 'offset': 26, 'length': ...  \n",
              "1  [{'label': 'организация', 'offset': 196, 'leng...  \n",
              "2  [{'label': 'название проекта', 'offset': 12, '...  "
            ]
          },
          "execution_count": 4,
          "metadata": {},
          "output_type": "execute_result"
        }
      ],
      "source": [
        "df.head(3)"
      ]
    },
    {
      "cell_type": "markdown",
      "id": "3ce7c226-ba06-4b25-8e7c-1423f3d49e00",
      "metadata": {
        "id": "3ce7c226-ba06-4b25-8e7c-1423f3d49e00"
      },
      "source": [
        "#### Оригинал туториала на медицинских данных можно посмотреть тут https://gist.github.com/avidale/cacf235aebeaaf4c578389e1146c3c57"
      ]
    },
    {
      "cell_type": "code",
      "source": [
        "!pip install razdel"
      ],
      "metadata": {
        "colab": {
          "base_uri": "https://localhost:8080/"
        },
        "id": "o2Vp7jElyHXt",
        "outputId": "15cfe83c-a97a-4d54-c981-01a584fa60ce"
      },
      "id": "o2Vp7jElyHXt",
      "execution_count": null,
      "outputs": [
        {
          "output_type": "stream",
          "name": "stdout",
          "text": [
            "Requirement already satisfied: razdel in /usr/local/lib/python3.10/dist-packages (0.5.0)\n"
          ]
        }
      ]
    },
    {
      "cell_type": "code",
      "execution_count": null,
      "id": "ee336880-48fd-4c3c-9b84-4f9487d5d74b",
      "metadata": {
        "id": "ee336880-48fd-4c3c-9b84-4f9487d5d74b"
      },
      "outputs": [],
      "source": [
        "# Теперь из наших данных нам нужно извлечь для каждого слова (токена) его тег (label) из разметки, чтобы потом предать в модель классификации токенов\n",
        "from razdel import tokenize\n",
        "\n",
        "def extract_labels(item):\n",
        "\n",
        "    # воспользуемся удобным токенайзером из библиотеки razdel,\n",
        "    # она помимо разбиения на слова, сохраняет важные для нас числа - начало и конец слова в токенах\n",
        "\n",
        "    raw_toks = list(tokenize(item['video_info']))\n",
        "    words = [tok.text for tok in raw_toks]\n",
        "    # присвоим для начала каждому слову тег 'О' - тег, означающий отсутствие NER-а\n",
        "    word_labels = ['O'] * len(raw_toks)\n",
        "    char2word = [None] * len(item['video_info'])\n",
        "    # так как NER можем состаять из нескольких слов, то нам нужно сохранить эту инфорцию\n",
        "    for i, word in enumerate(raw_toks):\n",
        "        char2word[word.start:word.stop] = [i] * len(word.text)\n",
        "\n",
        "    labels = item['entities']\n",
        "    if isinstance(labels, dict):\n",
        "        labels = [labels]\n",
        "    if labels is not None:\n",
        "        for e in labels:\n",
        "            if e['label'] != 'не найдено':\n",
        "                e_words = sorted({idx for idx in char2word[e['offset']:e['offset']+e['length']] if idx is not None})\n",
        "                if e_words:\n",
        "                    word_labels[e_words[0]] = 'B-' + e['label']\n",
        "                    for idx in e_words[1:]:\n",
        "                        word_labels[idx] = 'I-' + e['label']\n",
        "                else:\n",
        "                    continue\n",
        "            else:\n",
        "                continue\n",
        "        return {'tokens': words, 'tags': word_labels}\n",
        "    else: return {'tokens': words, 'tags': word_labels}"
      ]
    },
    {
      "cell_type": "code",
      "source": [
        "ner_train[0]"
      ],
      "metadata": {
        "id": "ACdnzFRS8p4G"
      },
      "id": "ACdnzFRS8p4G",
      "execution_count": null,
      "outputs": []
    },
    {
      "cell_type": "code",
      "execution_count": null,
      "id": "0e2d3224-bd70-4a99-bdb3-fee8945ce2b2",
      "metadata": {
        "id": "0e2d3224-bd70-4a99-bdb3-fee8945ce2b2",
        "outputId": "5c3086ef-7532-4f91-d139-9c39a8255ebc",
        "colab": {
          "base_uri": "https://localhost:8080/"
        }
      },
      "outputs": [
        {
          "output_type": "stream",
          "name": "stdout",
          "text": [
            "{'tokens': ['<', 'НАЗВАНИЕ', ':', '>', 'Агент', '117', ':', 'Из', 'Африки', 'с', 'любовью', '—', 'Русский', 'тизер', '=', 'трейлер', '(', '2021', ')', '<', 'ОПИСАНИЕ', ':', '>', 'Лучший', 'Telegram', 'канал', 'о', 'кино', '<', 'LINK', '>', 'Сотрудничество', '<', 'LINK', '>', 'Дата', 'выхода', '26', 'августа', '2021', 'Оригинальное', 'название', ':', 'OSS', '117', ':', 'Alerte', 'rouge', 'en', 'Afrique', 'noire', 'Страна', ':', 'Франция', 'Режиссер', ':', 'Николя', 'Бедос', 'Жанр', ':', 'боевик', ',', 'комедия', 'В', 'главных', 'ролях', ':', 'Жан', 'Дюжарден', ',', 'Пьер', 'Нинэ', ',', 'Мелоди', 'Каста', ',', 'Наташа', 'Линдинжер', ',', 'Владимир', 'Иорданов', ',', 'Фату', 'Н', '’', 'Диайе', ',', 'Пол', 'Уайт', 'Мир', 'изменился', '.', 'Он', 'нет', '.', 'Судьба', 'заносит', 'легендарного', 'Агента', '117', 'в', 'Африку', ',', 'где', 'горячее', 'пустыни', 'только', 'женщины', '.', 'Вооруженный', 'неиссякаемой', 'уверенностью', 'в', 'себе', 'и', 'убийственной', 'харизмой', ',', 'он', 'может', 'справиться', 'со', 'всеми', 'врагами', ',', 'кроме', 'самого', 'себя', '.', 'По', 'вопросам', 'авторского', 'права', ',', 'пожалуйста', ',', 'свяжитесь', 'с', 'нами', 'по', 'адресу', ':', '<', 'AT', '>'], 'tags': ['O', 'O', 'O', 'O', 'O', 'O', 'O', 'O', 'B-локация', 'O', 'O', 'O', 'O', 'O', 'O', 'O', 'O', 'O', 'O', 'O', 'O', 'O', 'O', 'O', 'O', 'O', 'O', 'O', 'O', 'O', 'O', 'O', 'O', 'O', 'O', 'O', 'O', 'B-Дата', 'I-Дата', 'I-Дата', 'O', 'O', 'O', 'B-название проекта', 'I-название проекта', 'I-название проекта', 'I-название проекта', 'I-название проекта', 'I-название проекта', 'I-название проекта', 'I-название проекта', 'O', 'O', 'B-локация', 'O', 'O', 'B-персона', 'I-персона', 'O', 'O', 'O', 'O', 'O', 'O', 'O', 'O', 'O', 'B-персона', 'I-персона', 'O', 'B-персона', 'I-персона', 'O', 'B-персона', 'I-персона', 'O', 'B-персона', 'I-персона', 'O', 'B-персона', 'I-персона', 'O', 'B-персона', 'I-персона', 'I-персона', 'I-персона', 'O', 'B-персона', 'I-персона', 'O', 'O', 'O', 'O', 'O', 'O', 'O', 'O', 'O', 'O', 'O', 'O', 'B-локация', 'O', 'O', 'O', 'O', 'O', 'O', 'O', 'O', 'O', 'O', 'O', 'O', 'O', 'O', 'O', 'O', 'O', 'O', 'O', 'O', 'O', 'O', 'O', 'O', 'O', 'O', 'O', 'O', 'O', 'O', 'O', 'O', 'O', 'O', 'O', 'O', 'O', 'O', 'O', 'O', 'O', 'O', 'O']}\n"
          ]
        }
      ],
      "source": [
        "print(extract_labels(df.iloc[0]))"
      ]
    },
    {
      "cell_type": "markdown",
      "id": "d43db9d6-76f9-4f24-87ce-bea724a238a9",
      "metadata": {
        "id": "d43db9d6-76f9-4f24-87ce-bea724a238a9"
      },
      "source": [
        "### Обработаем датасет и разобьем на трейн и тест"
      ]
    },
    {
      "cell_type": "code",
      "execution_count": null,
      "id": "fea76082-efcc-44da-ba3c-7dd466d3ecb2",
      "metadata": {
        "scrolled": true,
        "id": "fea76082-efcc-44da-ba3c-7dd466d3ecb2",
        "colab": {
          "base_uri": "https://localhost:8080/",
          "height": 210
        },
        "outputId": "9ecdc169-47b3-44ee-f1df-8d1c0b3fdc30"
      },
      "outputs": [
        {
          "output_type": "error",
          "ename": "NameError",
          "evalue": "ignored",
          "traceback": [
            "\u001b[0;31m---------------------------------------------------------------------------\u001b[0m",
            "\u001b[0;31mNameError\u001b[0m                                 Traceback (most recent call last)",
            "\u001b[0;32m<ipython-input-17-70ad1817c349>\u001b[0m in \u001b[0;36m<cell line: 2>\u001b[0;34m()\u001b[0m\n\u001b[1;32m      1\u001b[0m \u001b[0;32mfrom\u001b[0m \u001b[0msklearn\u001b[0m\u001b[0;34m.\u001b[0m\u001b[0mmodel_selection\u001b[0m \u001b[0;32mimport\u001b[0m \u001b[0mtrain_test_split\u001b[0m\u001b[0;34m\u001b[0m\u001b[0;34m\u001b[0m\u001b[0m\n\u001b[0;32m----> 2\u001b[0;31m \u001b[0mner_data\u001b[0m \u001b[0;34m=\u001b[0m \u001b[0;34m[\u001b[0m\u001b[0mextract_labels\u001b[0m\u001b[0;34m(\u001b[0m\u001b[0mitem\u001b[0m\u001b[0;34m)\u001b[0m \u001b[0;32mfor\u001b[0m \u001b[0mi\u001b[0m\u001b[0;34m,\u001b[0m \u001b[0mitem\u001b[0m \u001b[0;32min\u001b[0m \u001b[0mdf\u001b[0m\u001b[0;34m.\u001b[0m\u001b[0miterrows\u001b[0m\u001b[0;34m(\u001b[0m\u001b[0;34m)\u001b[0m\u001b[0;34m]\u001b[0m\u001b[0;34m\u001b[0m\u001b[0;34m\u001b[0m\u001b[0m\n\u001b[0m\u001b[1;32m      3\u001b[0m \u001b[0mner_train\u001b[0m\u001b[0;34m,\u001b[0m \u001b[0mner_test\u001b[0m \u001b[0;34m=\u001b[0m \u001b[0mtrain_test_split\u001b[0m\u001b[0;34m(\u001b[0m\u001b[0mner_data\u001b[0m\u001b[0;34m,\u001b[0m \u001b[0mtest_size\u001b[0m\u001b[0;34m=\u001b[0m\u001b[0;36m0.2\u001b[0m\u001b[0;34m,\u001b[0m \u001b[0mrandom_state\u001b[0m\u001b[0;34m=\u001b[0m\u001b[0;36m1\u001b[0m\u001b[0;34m)\u001b[0m\u001b[0;34m\u001b[0m\u001b[0;34m\u001b[0m\u001b[0m\n",
            "\u001b[0;31mNameError\u001b[0m: name 'df' is not defined"
          ]
        }
      ],
      "source": [
        "from sklearn.model_selection import train_test_split\n",
        "ner_data = [extract_labels(item) for i, item in df.iterrows()]\n",
        "ner_train, ner_test = train_test_split(ner_data, test_size=0.2, random_state=1)"
      ]
    },
    {
      "cell_type": "code",
      "execution_count": null,
      "id": "6f181346-579e-4804-975a-f6133a86a985",
      "metadata": {
        "id": "6f181346-579e-4804-975a-f6133a86a985",
        "outputId": "1d3ba552-32af-4f92-ddb4-e4d86d35c0a4",
        "colab": {
          "base_uri": "https://localhost:8080/",
          "height": 1000
        }
      },
      "outputs": [
        {
          "output_type": "execute_result",
          "data": {
            "text/plain": [
              "                                                                                                                                                                                                                                                                                                           tokens  \\\n",
              "2995  [<, НАЗВАНИЕ, :, >, ДРИФТ, КОРЧ, ИЗ, КАМАЗА, !, ОПЕРСКОЙ, КАМАЗ, С, МАКСИМАЛКОЙ, 300, КМ, /, Ч, В, GTA, :, КРМП, (, RADMIR, RP, CRMP, ), <, ОПИСАНИЕ, :, >, Играю, в, GTA, :, КРМП, ., Криминальная, Россия, на, Radmir, ', e, ., Создал, самый, лютый, камаз, на, сервере, в, опер, дрифт, стиле, !, На...   \n",
              "1632  [<, НАЗВАНИЕ, :, >, Сначала, гоночка, ,, затем, елочка, !, Как, праздновать, Новый, год, от, команды, RUMOS, RACING, !, <, ОПИСАНИЕ, :, >, Сначала, гоночка, ,, затем, елочка, !, Как, праздновать, Новый, год, от, команды, RUMOS, RACING, !, Как, пилоты, отметили, окончание, сезона, и, наступление,...   \n",
              "1647  [<, НАЗВАНИЕ, :, >, Воспитанные, волками, \\, ВЫШЛИ, 2, СЕРИИ, ВТОРОГО, СЕЗОНА, \\, трейлер, <, ОПИСАНИЕ, :, >, <, LINK, >, Год, производства, 2020, (, 2, сезона, ), Страна, США, Жанр, фантастика, ,, триллер, ,, драма, 2145, год, ., Человечество, захлебнулось, в, кровопролитной, войне, между, веру...   \n",
              "2547  [<, НАЗВАНИЕ, :, >, ФИЛЬМ, ЧЕРНОБЫЛЬ, 2021, ИЛИ, КОНЕЦ, КАРЬЕРЫ, ДАНИЛЫ, КОЗЛОВСКОГО, ?, <, ОПИСАНИЕ, :, >, Всем, привет, !, В, этом, видео, я, расскажу, вам, ,, как, я, и, Вкусаня, сходили, в, кинотеатр, на, фильм, Чернобыль, 2021, ., Авария, на, Чернобыльской, АЭС, ставит, под, угрозу, мечту, ...   \n",
              "335   [<, НАЗВАНИЕ, :, >, Teenage, Mutant, Ninja, Turtles, полное, прохождение, на, русском, языке, Dendy, Денди, NES, Nintendo, Famicom, <, ОПИСАНИЕ, :, >, СОГЛАСЕН, НА, ВЗАИМНУЮ, ПОДПИСКУ, ПИШИ, В, КОМЕНТЕ, Прохождение, со, взломом, (, хаком, ), игры, на, здоровье, ., Очень, веселой, интересной, и, ...   \n",
              "2562  [<, НАЗВАНИЕ, :, >, КВН, Радио, Свобода, =, 2016, Высшая, лига, Первая, 1/8, Приветствие, <, ОПИСАНИЕ, :, >, КВН, 2016, Высшая, лига, Первая, 1/8, YouTube, <, LINK, >, Официальный, сайт, КВН, <, LINK, >, /, Vkontakte, <, LINK, >, Приобрести, билет, на, игры, Высшей, Лиги, КВН, <, LINK, >, #, KVN...   \n",
              "1663  [<, НАЗВАНИЕ, :, >, YV, =, 2022, Шорт, =, лист, –, \", Мой, Магнитогорск, \", –, Алексей, Рогалин, (, Магнитогорск, ), <, ОПИСАНИЕ, :, >, IV, Международный, фестиваль, социальных, роликов, \", Твой, <, AT, >, \", Организаторы, :, Культурный, центр, \", Век, \", г, ., Магнитогорска, ,, Объединение, гор...   \n",
              "846   [<, НАЗВАНИЕ, :, >, [, Трек, ], Баран, гора, ,, Яхрома, ., Первый, боевой, выезд, на, новом, моторе, и, резине, <, ОПИСАНИЕ, :, >, Маршрут, в, МО, Яхрома, ,, для, авто, средней, подготовки, ., Актуально, для, зимнего, времени, ., Минимум, 30, \", легким, и, 32, \", тяжелым, ., Шноркель, и, лебедка...   \n",
              "2559  [<, НАЗВАНИЕ, :, >, #, ГеографияКино, =, Александр, Горчилин, и, кинематографический, Берлин, <, ОПИСАНИЕ, :, >, Спецвыпуск, «, Географии, кино, », :, Берлин, кинематографический, и, не, только, ., Александр, Горчилин, и, Максим, Заговора, гуляют, по, столице, Германии, в, поисках, известных, с...   \n",
              "305   [<, НАЗВАНИЕ, :, >, Купить, Двигатель, BMW, 320, 2.0, N, 20, B, 20, A, N, 20, B, 20, B, N, 20, B, 20, D, Двигатель, БМВ, 3, серии, 2.0, N, 20, B, 20, A, B, D, Наличие, <, ОПИСАНИЕ, :, >, Звоните, :, +, 7, 495, 230, 21, 41, <, LINK, >, kupit, dvigatel, bmw, ., html, Двигатель, БМВ, 3, серии, 2.0,...   \n",
              "\n",
              "                                                                                                                                                                                                                                                                                                             tags  \n",
              "2995  [O, O, O, O, O, O, O, B-модель, O, O, B-модель, O, O, O, O, O, O, O, B-видеоигра, O, B-видеоигра, O, B-видеоигра, I-видеоигра, I-видеоигра, O, O, O, O, O, O, O, B-видеоигра, I-видеоигра, I-видеоигра, O, O, O, O, O, O, O, O, O, O, O, O, O, O, O, O, O, O, O, O, O, O, O, O, O, O, O, O, O, O, O, O, ...  \n",
              "1632                                                                                [O, O, O, O, O, O, O, O, O, O, O, O, O, O, O, O, B-команда, I-команда, O, O, O, O, O, O, O, O, O, O, O, O, O, O, O, O, O, B-команда, I-команда, O, O, O, O, O, O, O, O, O, O, O, O, O, O, O, O, O, O, O, O, O, O, O, O, O, O]  \n",
              "1647                       [O, O, O, O, O, O, O, O, O, O, B-сезон, O, O, O, O, O, O, O, O, O, O, O, O, O, O, O, O, O, O, O, O, O, O, O, O, O, B-Дата, O, O, O, O, O, O, O, O, O, O, O, O, O, O, O, O, O, O, O, O, O, O, O, O, O, O, O, O, O, O, O, O, O, O, O, O, O, O, O, O, O, O, O, O, O, O, O, O, O, O, O, O]  \n",
              "2547  [O, O, O, O, B-название проекта, I-название проекта, B-Дата, O, O, O, B-персона, I-персона, O, O, O, O, O, O, O, O, O, O, O, O, O, O, O, O, O, O, B-персона, O, O, O, O, O, B-название проекта, I-название проекта, O, O, O, B-организация, I-организация, O, O, O, O, B-персона, O, O, O, O, O, O, O, O...  \n",
              "335   [O, O, O, O, B-видеоигра, I-видеоигра, I-видеоигра, I-видеоигра, O, O, O, O, O, O, O, B-видеоигра, I-видеоигра, I-видеоигра, O, O, O, O, O, O, O, O, O, O, O, O, O, O, O, O, O, O, O, O, O, O, O, O, O, O, O, O, O, O, O, O, O, O, O, O, O, O, O, O, B-видеоигра, I-видеоигра, I-видеоигра, I-видеоигра,...  \n",
              "2562  [O, O, O, O, B-организация, B-организация, I-организация, O, B-Дата, B-название проекта, I-название проекта, I-название проекта, I-название проекта, I-название проекта, O, O, O, O, B-организация, B-Дата, B-название проекта, I-название проекта, I-название проекта, I-название проекта, O, O, O, O, ...  \n",
              "1663  [O, O, O, O, O, O, B-Дата, O, O, O, O, O, O, O, O, O, B-персона, I-персона, O, B-локация, O, O, O, O, O, O, O, O, O, O, O, B-название проекта, I-название проекта, I-название проекта, O, O, O, O, O, O, O, O, O, O, O, B-локация, O, O, O, O, O, O, B-локация, O, O, O, O, O, O, B-локация, O, O, O, O,...  \n",
              "846   [O, O, O, O, O, O, O, B-локация, I-локация, I-локация, I-локация, I-локация, I-локация, O, O, O, O, O, O, O, O, O, O, O, O, O, O, O, O, O, O, O, O, O, O, O, O, O, O, O, O, O, O, O, O, O, O, O, O, O, O, O, O, O, O, O, O, O, O, O, O, O, O, O, O, O, O, O, O, O, O, O, O, O, O, O, O, O, O, O, O, O, O...  \n",
              "2559  [O, O, O, O, O, O, O, B-персона, I-персона, O, O, B-локация, O, O, O, O, O, O, B-название проекта, I-название проекта, O, O, B-локация, O, O, O, O, O, B-персона, I-персона, O, B-персона, I-персона, O, O, O, O, O, O, O, O, O, O, O, B-название проекта, I-название проекта, I-название проекта, I-наз...  \n",
              "305   [O, O, O, O, O, O, B-бренд, B-модель, I-модель, I-модель, I-модель, I-модель, I-модель, I-модель, I-модель, I-модель, I-модель, I-модель, I-модель, I-модель, I-модель, I-модель, I-модель, I-модель, O, B-бренд, B-модель, I-модель, I-модель, I-модель, I-модель, I-модель, I-модель, I-модель, I-моде...  "
            ],
            "text/html": [
              "\n",
              "  <div id=\"df-fedfe0d6-7242-4c4c-b210-8cee01933c64\" class=\"colab-df-container\">\n",
              "    <div>\n",
              "<style scoped>\n",
              "    .dataframe tbody tr th:only-of-type {\n",
              "        vertical-align: middle;\n",
              "    }\n",
              "\n",
              "    .dataframe tbody tr th {\n",
              "        vertical-align: top;\n",
              "    }\n",
              "\n",
              "    .dataframe thead th {\n",
              "        text-align: right;\n",
              "    }\n",
              "</style>\n",
              "<table border=\"1\" class=\"dataframe\">\n",
              "  <thead>\n",
              "    <tr style=\"text-align: right;\">\n",
              "      <th></th>\n",
              "      <th>tokens</th>\n",
              "      <th>tags</th>\n",
              "    </tr>\n",
              "  </thead>\n",
              "  <tbody>\n",
              "    <tr>\n",
              "      <th>2995</th>\n",
              "      <td>[&lt;, НАЗВАНИЕ, :, &gt;, ДРИФТ, КОРЧ, ИЗ, КАМАЗА, !, ОПЕРСКОЙ, КАМАЗ, С, МАКСИМАЛКОЙ, 300, КМ, /, Ч, В, GTA, :, КРМП, (, RADMIR, RP, CRMP, ), &lt;, ОПИСАНИЕ, :, &gt;, Играю, в, GTA, :, КРМП, ., Криминальная, Россия, на, Radmir, ', e, ., Создал, самый, лютый, камаз, на, сервере, в, опер, дрифт, стиле, !, На...</td>\n",
              "      <td>[O, O, O, O, O, O, O, B-модель, O, O, B-модель, O, O, O, O, O, O, O, B-видеоигра, O, B-видеоигра, O, B-видеоигра, I-видеоигра, I-видеоигра, O, O, O, O, O, O, O, B-видеоигра, I-видеоигра, I-видеоигра, O, O, O, O, O, O, O, O, O, O, O, O, O, O, O, O, O, O, O, O, O, O, O, O, O, O, O, O, O, O, O, O, ...</td>\n",
              "    </tr>\n",
              "    <tr>\n",
              "      <th>1632</th>\n",
              "      <td>[&lt;, НАЗВАНИЕ, :, &gt;, Сначала, гоночка, ,, затем, елочка, !, Как, праздновать, Новый, год, от, команды, RUMOS, RACING, !, &lt;, ОПИСАНИЕ, :, &gt;, Сначала, гоночка, ,, затем, елочка, !, Как, праздновать, Новый, год, от, команды, RUMOS, RACING, !, Как, пилоты, отметили, окончание, сезона, и, наступление,...</td>\n",
              "      <td>[O, O, O, O, O, O, O, O, O, O, O, O, O, O, O, O, B-команда, I-команда, O, O, O, O, O, O, O, O, O, O, O, O, O, O, O, O, O, B-команда, I-команда, O, O, O, O, O, O, O, O, O, O, O, O, O, O, O, O, O, O, O, O, O, O, O, O, O, O]</td>\n",
              "    </tr>\n",
              "    <tr>\n",
              "      <th>1647</th>\n",
              "      <td>[&lt;, НАЗВАНИЕ, :, &gt;, Воспитанные, волками, \\, ВЫШЛИ, 2, СЕРИИ, ВТОРОГО, СЕЗОНА, \\, трейлер, &lt;, ОПИСАНИЕ, :, &gt;, &lt;, LINK, &gt;, Год, производства, 2020, (, 2, сезона, ), Страна, США, Жанр, фантастика, ,, триллер, ,, драма, 2145, год, ., Человечество, захлебнулось, в, кровопролитной, войне, между, веру...</td>\n",
              "      <td>[O, O, O, O, O, O, O, O, O, O, B-сезон, O, O, O, O, O, O, O, O, O, O, O, O, O, O, O, O, O, O, O, O, O, O, O, O, O, B-Дата, O, O, O, O, O, O, O, O, O, O, O, O, O, O, O, O, O, O, O, O, O, O, O, O, O, O, O, O, O, O, O, O, O, O, O, O, O, O, O, O, O, O, O, O, O, O, O, O, O, O, O, O]</td>\n",
              "    </tr>\n",
              "    <tr>\n",
              "      <th>2547</th>\n",
              "      <td>[&lt;, НАЗВАНИЕ, :, &gt;, ФИЛЬМ, ЧЕРНОБЫЛЬ, 2021, ИЛИ, КОНЕЦ, КАРЬЕРЫ, ДАНИЛЫ, КОЗЛОВСКОГО, ?, &lt;, ОПИСАНИЕ, :, &gt;, Всем, привет, !, В, этом, видео, я, расскажу, вам, ,, как, я, и, Вкусаня, сходили, в, кинотеатр, на, фильм, Чернобыль, 2021, ., Авария, на, Чернобыльской, АЭС, ставит, под, угрозу, мечту, ...</td>\n",
              "      <td>[O, O, O, O, B-название проекта, I-название проекта, B-Дата, O, O, O, B-персона, I-персона, O, O, O, O, O, O, O, O, O, O, O, O, O, O, O, O, O, O, B-персона, O, O, O, O, O, B-название проекта, I-название проекта, O, O, O, B-организация, I-организация, O, O, O, O, B-персона, O, O, O, O, O, O, O, O...</td>\n",
              "    </tr>\n",
              "    <tr>\n",
              "      <th>335</th>\n",
              "      <td>[&lt;, НАЗВАНИЕ, :, &gt;, Teenage, Mutant, Ninja, Turtles, полное, прохождение, на, русском, языке, Dendy, Денди, NES, Nintendo, Famicom, &lt;, ОПИСАНИЕ, :, &gt;, СОГЛАСЕН, НА, ВЗАИМНУЮ, ПОДПИСКУ, ПИШИ, В, КОМЕНТЕ, Прохождение, со, взломом, (, хаком, ), игры, на, здоровье, ., Очень, веселой, интересной, и, ...</td>\n",
              "      <td>[O, O, O, O, B-видеоигра, I-видеоигра, I-видеоигра, I-видеоигра, O, O, O, O, O, O, O, B-видеоигра, I-видеоигра, I-видеоигра, O, O, O, O, O, O, O, O, O, O, O, O, O, O, O, O, O, O, O, O, O, O, O, O, O, O, O, O, O, O, O, O, O, O, O, O, O, O, O, O, B-видеоигра, I-видеоигра, I-видеоигра, I-видеоигра,...</td>\n",
              "    </tr>\n",
              "    <tr>\n",
              "      <th>2562</th>\n",
              "      <td>[&lt;, НАЗВАНИЕ, :, &gt;, КВН, Радио, Свобода, =, 2016, Высшая, лига, Первая, 1/8, Приветствие, &lt;, ОПИСАНИЕ, :, &gt;, КВН, 2016, Высшая, лига, Первая, 1/8, YouTube, &lt;, LINK, &gt;, Официальный, сайт, КВН, &lt;, LINK, &gt;, /, Vkontakte, &lt;, LINK, &gt;, Приобрести, билет, на, игры, Высшей, Лиги, КВН, &lt;, LINK, &gt;, #, KVN...</td>\n",
              "      <td>[O, O, O, O, B-организация, B-организация, I-организация, O, B-Дата, B-название проекта, I-название проекта, I-название проекта, I-название проекта, I-название проекта, O, O, O, O, B-организация, B-Дата, B-название проекта, I-название проекта, I-название проекта, I-название проекта, O, O, O, O, ...</td>\n",
              "    </tr>\n",
              "    <tr>\n",
              "      <th>1663</th>\n",
              "      <td>[&lt;, НАЗВАНИЕ, :, &gt;, YV, =, 2022, Шорт, =, лист, –, \", Мой, Магнитогорск, \", –, Алексей, Рогалин, (, Магнитогорск, ), &lt;, ОПИСАНИЕ, :, &gt;, IV, Международный, фестиваль, социальных, роликов, \", Твой, &lt;, AT, &gt;, \", Организаторы, :, Культурный, центр, \", Век, \", г, ., Магнитогорска, ,, Объединение, гор...</td>\n",
              "      <td>[O, O, O, O, O, O, B-Дата, O, O, O, O, O, O, O, O, O, B-персона, I-персона, O, B-локация, O, O, O, O, O, O, O, O, O, O, O, B-название проекта, I-название проекта, I-название проекта, O, O, O, O, O, O, O, O, O, O, O, B-локация, O, O, O, O, O, O, B-локация, O, O, O, O, O, O, B-локация, O, O, O, O,...</td>\n",
              "    </tr>\n",
              "    <tr>\n",
              "      <th>846</th>\n",
              "      <td>[&lt;, НАЗВАНИЕ, :, &gt;, [, Трек, ], Баран, гора, ,, Яхрома, ., Первый, боевой, выезд, на, новом, моторе, и, резине, &lt;, ОПИСАНИЕ, :, &gt;, Маршрут, в, МО, Яхрома, ,, для, авто, средней, подготовки, ., Актуально, для, зимнего, времени, ., Минимум, 30, \", легким, и, 32, \", тяжелым, ., Шноркель, и, лебедка...</td>\n",
              "      <td>[O, O, O, O, O, O, O, B-локация, I-локация, I-локация, I-локация, I-локация, I-локация, O, O, O, O, O, O, O, O, O, O, O, O, O, O, O, O, O, O, O, O, O, O, O, O, O, O, O, O, O, O, O, O, O, O, O, O, O, O, O, O, O, O, O, O, O, O, O, O, O, O, O, O, O, O, O, O, O, O, O, O, O, O, O, O, O, O, O, O, O, O...</td>\n",
              "    </tr>\n",
              "    <tr>\n",
              "      <th>2559</th>\n",
              "      <td>[&lt;, НАЗВАНИЕ, :, &gt;, #, ГеографияКино, =, Александр, Горчилин, и, кинематографический, Берлин, &lt;, ОПИСАНИЕ, :, &gt;, Спецвыпуск, «, Географии, кино, », :, Берлин, кинематографический, и, не, только, ., Александр, Горчилин, и, Максим, Заговора, гуляют, по, столице, Германии, в, поисках, известных, с...</td>\n",
              "      <td>[O, O, O, O, O, O, O, B-персона, I-персона, O, O, B-локация, O, O, O, O, O, O, B-название проекта, I-название проекта, O, O, B-локация, O, O, O, O, O, B-персона, I-персона, O, B-персона, I-персона, O, O, O, O, O, O, O, O, O, O, O, B-название проекта, I-название проекта, I-название проекта, I-наз...</td>\n",
              "    </tr>\n",
              "    <tr>\n",
              "      <th>305</th>\n",
              "      <td>[&lt;, НАЗВАНИЕ, :, &gt;, Купить, Двигатель, BMW, 320, 2.0, N, 20, B, 20, A, N, 20, B, 20, B, N, 20, B, 20, D, Двигатель, БМВ, 3, серии, 2.0, N, 20, B, 20, A, B, D, Наличие, &lt;, ОПИСАНИЕ, :, &gt;, Звоните, :, +, 7, 495, 230, 21, 41, &lt;, LINK, &gt;, kupit, dvigatel, bmw, ., html, Двигатель, БМВ, 3, серии, 2.0,...</td>\n",
              "      <td>[O, O, O, O, O, O, B-бренд, B-модель, I-модель, I-модель, I-модель, I-модель, I-модель, I-модель, I-модель, I-модель, I-модель, I-модель, I-модель, I-модель, I-модель, I-модель, I-модель, I-модель, O, B-бренд, B-модель, I-модель, I-модель, I-модель, I-модель, I-модель, I-модель, I-модель, I-моде...</td>\n",
              "    </tr>\n",
              "  </tbody>\n",
              "</table>\n",
              "</div>\n",
              "    <div class=\"colab-df-buttons\">\n",
              "\n",
              "  <div class=\"colab-df-container\">\n",
              "    <button class=\"colab-df-convert\" onclick=\"convertToInteractive('df-fedfe0d6-7242-4c4c-b210-8cee01933c64')\"\n",
              "            title=\"Convert this dataframe to an interactive table.\"\n",
              "            style=\"display:none;\">\n",
              "\n",
              "  <svg xmlns=\"http://www.w3.org/2000/svg\" height=\"24px\" viewBox=\"0 -960 960 960\">\n",
              "    <path d=\"M120-120v-720h720v720H120Zm60-500h600v-160H180v160Zm220 220h160v-160H400v160Zm0 220h160v-160H400v160ZM180-400h160v-160H180v160Zm440 0h160v-160H620v160ZM180-180h160v-160H180v160Zm440 0h160v-160H620v160Z\"/>\n",
              "  </svg>\n",
              "    </button>\n",
              "\n",
              "  <style>\n",
              "    .colab-df-container {\n",
              "      display:flex;\n",
              "      gap: 12px;\n",
              "    }\n",
              "\n",
              "    .colab-df-convert {\n",
              "      background-color: #E8F0FE;\n",
              "      border: none;\n",
              "      border-radius: 50%;\n",
              "      cursor: pointer;\n",
              "      display: none;\n",
              "      fill: #1967D2;\n",
              "      height: 32px;\n",
              "      padding: 0 0 0 0;\n",
              "      width: 32px;\n",
              "    }\n",
              "\n",
              "    .colab-df-convert:hover {\n",
              "      background-color: #E2EBFA;\n",
              "      box-shadow: 0px 1px 2px rgba(60, 64, 67, 0.3), 0px 1px 3px 1px rgba(60, 64, 67, 0.15);\n",
              "      fill: #174EA6;\n",
              "    }\n",
              "\n",
              "    .colab-df-buttons div {\n",
              "      margin-bottom: 4px;\n",
              "    }\n",
              "\n",
              "    [theme=dark] .colab-df-convert {\n",
              "      background-color: #3B4455;\n",
              "      fill: #D2E3FC;\n",
              "    }\n",
              "\n",
              "    [theme=dark] .colab-df-convert:hover {\n",
              "      background-color: #434B5C;\n",
              "      box-shadow: 0px 1px 3px 1px rgba(0, 0, 0, 0.15);\n",
              "      filter: drop-shadow(0px 1px 2px rgba(0, 0, 0, 0.3));\n",
              "      fill: #FFFFFF;\n",
              "    }\n",
              "  </style>\n",
              "\n",
              "    <script>\n",
              "      const buttonEl =\n",
              "        document.querySelector('#df-fedfe0d6-7242-4c4c-b210-8cee01933c64 button.colab-df-convert');\n",
              "      buttonEl.style.display =\n",
              "        google.colab.kernel.accessAllowed ? 'block' : 'none';\n",
              "\n",
              "      async function convertToInteractive(key) {\n",
              "        const element = document.querySelector('#df-fedfe0d6-7242-4c4c-b210-8cee01933c64');\n",
              "        const dataTable =\n",
              "          await google.colab.kernel.invokeFunction('convertToInteractive',\n",
              "                                                    [key], {});\n",
              "        if (!dataTable) return;\n",
              "\n",
              "        const docLinkHtml = 'Like what you see? Visit the ' +\n",
              "          '<a target=\"_blank\" href=https://colab.research.google.com/notebooks/data_table.ipynb>data table notebook</a>'\n",
              "          + ' to learn more about interactive tables.';\n",
              "        element.innerHTML = '';\n",
              "        dataTable['output_type'] = 'display_data';\n",
              "        await google.colab.output.renderOutput(dataTable, element);\n",
              "        const docLink = document.createElement('div');\n",
              "        docLink.innerHTML = docLinkHtml;\n",
              "        element.appendChild(docLink);\n",
              "      }\n",
              "    </script>\n",
              "  </div>\n",
              "\n",
              "\n",
              "<div id=\"df-7cd2cb8d-8a5e-46f2-8840-1401f5b84102\">\n",
              "  <button class=\"colab-df-quickchart\" onclick=\"quickchart('df-7cd2cb8d-8a5e-46f2-8840-1401f5b84102')\"\n",
              "            title=\"Suggest charts.\"\n",
              "            style=\"display:none;\">\n",
              "\n",
              "<svg xmlns=\"http://www.w3.org/2000/svg\" height=\"24px\"viewBox=\"0 0 24 24\"\n",
              "     width=\"24px\">\n",
              "    <g>\n",
              "        <path d=\"M19 3H5c-1.1 0-2 .9-2 2v14c0 1.1.9 2 2 2h14c1.1 0 2-.9 2-2V5c0-1.1-.9-2-2-2zM9 17H7v-7h2v7zm4 0h-2V7h2v10zm4 0h-2v-4h2v4z\"/>\n",
              "    </g>\n",
              "</svg>\n",
              "  </button>\n",
              "\n",
              "<style>\n",
              "  .colab-df-quickchart {\n",
              "      --bg-color: #E8F0FE;\n",
              "      --fill-color: #1967D2;\n",
              "      --hover-bg-color: #E2EBFA;\n",
              "      --hover-fill-color: #174EA6;\n",
              "      --disabled-fill-color: #AAA;\n",
              "      --disabled-bg-color: #DDD;\n",
              "  }\n",
              "\n",
              "  [theme=dark] .colab-df-quickchart {\n",
              "      --bg-color: #3B4455;\n",
              "      --fill-color: #D2E3FC;\n",
              "      --hover-bg-color: #434B5C;\n",
              "      --hover-fill-color: #FFFFFF;\n",
              "      --disabled-bg-color: #3B4455;\n",
              "      --disabled-fill-color: #666;\n",
              "  }\n",
              "\n",
              "  .colab-df-quickchart {\n",
              "    background-color: var(--bg-color);\n",
              "    border: none;\n",
              "    border-radius: 50%;\n",
              "    cursor: pointer;\n",
              "    display: none;\n",
              "    fill: var(--fill-color);\n",
              "    height: 32px;\n",
              "    padding: 0;\n",
              "    width: 32px;\n",
              "  }\n",
              "\n",
              "  .colab-df-quickchart:hover {\n",
              "    background-color: var(--hover-bg-color);\n",
              "    box-shadow: 0 1px 2px rgba(60, 64, 67, 0.3), 0 1px 3px 1px rgba(60, 64, 67, 0.15);\n",
              "    fill: var(--button-hover-fill-color);\n",
              "  }\n",
              "\n",
              "  .colab-df-quickchart-complete:disabled,\n",
              "  .colab-df-quickchart-complete:disabled:hover {\n",
              "    background-color: var(--disabled-bg-color);\n",
              "    fill: var(--disabled-fill-color);\n",
              "    box-shadow: none;\n",
              "  }\n",
              "\n",
              "  .colab-df-spinner {\n",
              "    border: 2px solid var(--fill-color);\n",
              "    border-color: transparent;\n",
              "    border-bottom-color: var(--fill-color);\n",
              "    animation:\n",
              "      spin 1s steps(1) infinite;\n",
              "  }\n",
              "\n",
              "  @keyframes spin {\n",
              "    0% {\n",
              "      border-color: transparent;\n",
              "      border-bottom-color: var(--fill-color);\n",
              "      border-left-color: var(--fill-color);\n",
              "    }\n",
              "    20% {\n",
              "      border-color: transparent;\n",
              "      border-left-color: var(--fill-color);\n",
              "      border-top-color: var(--fill-color);\n",
              "    }\n",
              "    30% {\n",
              "      border-color: transparent;\n",
              "      border-left-color: var(--fill-color);\n",
              "      border-top-color: var(--fill-color);\n",
              "      border-right-color: var(--fill-color);\n",
              "    }\n",
              "    40% {\n",
              "      border-color: transparent;\n",
              "      border-right-color: var(--fill-color);\n",
              "      border-top-color: var(--fill-color);\n",
              "    }\n",
              "    60% {\n",
              "      border-color: transparent;\n",
              "      border-right-color: var(--fill-color);\n",
              "    }\n",
              "    80% {\n",
              "      border-color: transparent;\n",
              "      border-right-color: var(--fill-color);\n",
              "      border-bottom-color: var(--fill-color);\n",
              "    }\n",
              "    90% {\n",
              "      border-color: transparent;\n",
              "      border-bottom-color: var(--fill-color);\n",
              "    }\n",
              "  }\n",
              "</style>\n",
              "\n",
              "  <script>\n",
              "    async function quickchart(key) {\n",
              "      const quickchartButtonEl =\n",
              "        document.querySelector('#' + key + ' button');\n",
              "      quickchartButtonEl.disabled = true;  // To prevent multiple clicks.\n",
              "      quickchartButtonEl.classList.add('colab-df-spinner');\n",
              "      try {\n",
              "        const charts = await google.colab.kernel.invokeFunction(\n",
              "            'suggestCharts', [key], {});\n",
              "      } catch (error) {\n",
              "        console.error('Error during call to suggestCharts:', error);\n",
              "      }\n",
              "      quickchartButtonEl.classList.remove('colab-df-spinner');\n",
              "      quickchartButtonEl.classList.add('colab-df-quickchart-complete');\n",
              "    }\n",
              "    (() => {\n",
              "      let quickchartButtonEl =\n",
              "        document.querySelector('#df-7cd2cb8d-8a5e-46f2-8840-1401f5b84102 button');\n",
              "      quickchartButtonEl.style.display =\n",
              "        google.colab.kernel.accessAllowed ? 'block' : 'none';\n",
              "    })();\n",
              "  </script>\n",
              "</div>\n",
              "    </div>\n",
              "  </div>\n"
            ]
          },
          "metadata": {},
          "execution_count": 8
        }
      ],
      "source": [
        "import pandas as pd\n",
        "pd.options.display.max_colwidth = 300\n",
        "pd.DataFrame(ner_train).sample(10)"
      ]
    },
    {
      "cell_type": "markdown",
      "id": "21fc651f-f5f7-48f6-82d3-acfbb38a5296",
      "metadata": {
        "id": "21fc651f-f5f7-48f6-82d3-acfbb38a5296"
      },
      "source": [
        "#### Посмотрим на получившиеся теги\n",
        "Подробнее почитать про BIO теги можно тут https://datascience.stackexchange.com/questions/63399/what-is-bio-tags-for-creating-custom-ner-named-entity-recognization"
      ]
    },
    {
      "cell_type": "code",
      "execution_count": null,
      "id": "1d154c93-c038-4c4a-b9ee-8dba7bd1a21c",
      "metadata": {
        "scrolled": true,
        "id": "1d154c93-c038-4c4a-b9ee-8dba7bd1a21c",
        "outputId": "d8e6dd1e-e95b-4ece-f8ac-2b556e2386ed"
      },
      "outputs": [
        {
          "data": {
            "text/plain": [
              "['O',\n",
              " 'B-Дата',\n",
              " 'B-бренд',\n",
              " 'B-вид спорта',\n",
              " 'B-видеоигра',\n",
              " 'B-команда',\n",
              " 'B-лига',\n",
              " 'B-локация',\n",
              " 'B-модель',\n",
              " 'B-название проекта',\n",
              " 'B-организация',\n",
              " 'B-персона',\n",
              " 'B-сезон',\n",
              " 'B-серия',\n",
              " 'I-Дата',\n",
              " 'I-бренд',\n",
              " 'I-вид спорта',\n",
              " 'I-видеоигра',\n",
              " 'I-команда',\n",
              " 'I-лига',\n",
              " 'I-локация',\n",
              " 'I-модель',\n",
              " 'I-название проекта',\n",
              " 'I-организация',\n",
              " 'I-персона',\n",
              " 'I-сезон',\n",
              " 'I-серия']"
            ]
          },
          "execution_count": 9,
          "metadata": {},
          "output_type": "execute_result"
        }
      ],
      "source": [
        "label_list = sorted({label for item in ner_train for label in item['tags']})\n",
        "if 'O' in label_list:\n",
        "    label_list.remove('O')\n",
        "    label_list = ['O'] + label_list\n",
        "label_list"
      ]
    },
    {
      "cell_type": "code",
      "execution_count": null,
      "id": "803e14bf-5ca9-42bf-8c67-f3718b53d373",
      "metadata": {
        "id": "803e14bf-5ca9-42bf-8c67-f3718b53d373"
      },
      "outputs": [],
      "source": [
        "from datasets import Dataset, DatasetDict"
      ]
    },
    {
      "cell_type": "code",
      "execution_count": null,
      "id": "4612e752-dc7d-41e6-bede-73e67319aa8b",
      "metadata": {
        "id": "4612e752-dc7d-41e6-bede-73e67319aa8b",
        "outputId": "955b8e6a-9511-4cab-9cf8-350c14e0449c",
        "colab": {
          "base_uri": "https://localhost:8080/",
          "height": 245
        }
      },
      "outputs": [
        {
          "output_type": "error",
          "ename": "NameError",
          "evalue": "ignored",
          "traceback": [
            "\u001b[0;31m---------------------------------------------------------------------------\u001b[0m",
            "\u001b[0;31mNameError\u001b[0m                                 Traceback (most recent call last)",
            "\u001b[0;32m<ipython-input-15-bd418fdbe960>\u001b[0m in \u001b[0;36m<cell line: 1>\u001b[0;34m()\u001b[0m\n\u001b[1;32m      1\u001b[0m ner_data = DatasetDict({\n\u001b[0;32m----> 2\u001b[0;31m     \u001b[0;34m'train'\u001b[0m\u001b[0;34m:\u001b[0m \u001b[0mDataset\u001b[0m\u001b[0;34m.\u001b[0m\u001b[0mfrom_pandas\u001b[0m\u001b[0;34m(\u001b[0m\u001b[0mpd\u001b[0m\u001b[0;34m.\u001b[0m\u001b[0mDataFrame\u001b[0m\u001b[0;34m(\u001b[0m\u001b[0mner_train\u001b[0m\u001b[0;34m)\u001b[0m\u001b[0;34m)\u001b[0m\u001b[0;34m,\u001b[0m\u001b[0;34m\u001b[0m\u001b[0;34m\u001b[0m\u001b[0m\n\u001b[0m\u001b[1;32m      3\u001b[0m     \u001b[0;34m'test'\u001b[0m\u001b[0;34m:\u001b[0m \u001b[0mDataset\u001b[0m\u001b[0;34m.\u001b[0m\u001b[0mfrom_pandas\u001b[0m\u001b[0;34m(\u001b[0m\u001b[0mpd\u001b[0m\u001b[0;34m.\u001b[0m\u001b[0mDataFrame\u001b[0m\u001b[0;34m(\u001b[0m\u001b[0mner_test\u001b[0m\u001b[0;34m)\u001b[0m\u001b[0;34m)\u001b[0m\u001b[0;34m\u001b[0m\u001b[0;34m\u001b[0m\u001b[0m\n\u001b[1;32m      4\u001b[0m })\n\u001b[1;32m      5\u001b[0m \u001b[0mner_data\u001b[0m\u001b[0;34m\u001b[0m\u001b[0;34m\u001b[0m\u001b[0m\n",
            "\u001b[0;31mNameError\u001b[0m: name 'ner_train' is not defined"
          ]
        }
      ],
      "source": [
        "ner_data = DatasetDict({\n",
        "    'train': Dataset.from_pandas(pd.DataFrame(ner_train)),\n",
        "    'test': Dataset.from_pandas(pd.DataFrame(ner_test))\n",
        "})\n",
        "ner_data"
      ]
    },
    {
      "cell_type": "markdown",
      "id": "bd286f0c-d748-4289-bf3e-8064e45186cc",
      "metadata": {
        "id": "bd286f0c-d748-4289-bf3e-8064e45186cc"
      },
      "source": [
        "### Запустим модель RuBert-tiny - классический Bert, поверх которого навешен слой классификации токенов."
      ]
    },
    {
      "cell_type": "code",
      "execution_count": null,
      "id": "417623f9-c9ac-488f-9e1b-31dbf61e049f",
      "metadata": {
        "id": "417623f9-c9ac-488f-9e1b-31dbf61e049f"
      },
      "outputs": [],
      "source": [
        "from transformers import AutoTokenizer\n",
        "from datasets import load_dataset, load_metric\n",
        "\n",
        "model_checkpoint = \"cointegrated/rubert-tiny\"\n",
        "batch_size = 16\n",
        "\n",
        "tokenizer = AutoTokenizer.from_pretrained(model_checkpoint, device='cpu')"
      ]
    },
    {
      "cell_type": "code",
      "execution_count": null,
      "id": "b58c25f2-b144-4b0c-9dd6-76760d26152f",
      "metadata": {
        "id": "b58c25f2-b144-4b0c-9dd6-76760d26152f",
        "outputId": "b3cc9137-8490-452f-811d-f436790cbaff",
        "colab": {
          "base_uri": "https://localhost:8080/",
          "height": 192
        }
      },
      "outputs": [
        {
          "output_type": "error",
          "ename": "NameError",
          "evalue": "ignored",
          "traceback": [
            "\u001b[0;31m---------------------------------------------------------------------------\u001b[0m",
            "\u001b[0;31mNameError\u001b[0m                                 Traceback (most recent call last)",
            "\u001b[0;32m<ipython-input-16-1ce7e1e354e2>\u001b[0m in \u001b[0;36m<cell line: 1>\u001b[0;34m()\u001b[0m\n\u001b[0;32m----> 1\u001b[0;31m \u001b[0mexample\u001b[0m \u001b[0;34m=\u001b[0m \u001b[0mner_train\u001b[0m\u001b[0;34m[\u001b[0m\u001b[0;36m5\u001b[0m\u001b[0;34m]\u001b[0m\u001b[0;34m\u001b[0m\u001b[0;34m\u001b[0m\u001b[0m\n\u001b[0m\u001b[1;32m      2\u001b[0m \u001b[0mprint\u001b[0m\u001b[0;34m(\u001b[0m\u001b[0mexample\u001b[0m\u001b[0;34m[\u001b[0m\u001b[0;34m\"tokens\"\u001b[0m\u001b[0;34m]\u001b[0m\u001b[0;34m)\u001b[0m\u001b[0;34m\u001b[0m\u001b[0;34m\u001b[0m\u001b[0m\n",
            "\u001b[0;31mNameError\u001b[0m: name 'ner_train' is not defined"
          ]
        }
      ],
      "source": [
        "example = ner_train[5]\n",
        "print(example[\"tokens\"])"
      ]
    },
    {
      "cell_type": "code",
      "execution_count": null,
      "id": "40bf5c30-7ee2-46d3-9733-da3ff8b803fd",
      "metadata": {
        "id": "40bf5c30-7ee2-46d3-9733-da3ff8b803fd",
        "outputId": "f0f5afa1-dac6-4e7d-fe06-5fa60a742f36"
      },
      "outputs": [
        {
          "name": "stdout",
          "output_type": "stream",
          "text": [
            "['[CLS]', '<', 'Н', '##АЗ', '##В', '##АН', '##И', '##Е', ':', '>', 'Московский', 'между', '##народный', 'фестиваль', 'мира', '=', '89', 'и', 'С', '##тас', 'На', '##мин', '.', '«', 'Главный', 'день', '»', '<', 'О', '##П', '##И', '##С', '##АН', '##И', '##Е', ':', '>', '12', 'и', '13', 'июня', '1989', 'года', 'на', 'Центр', '##альном', 'стадион', '##е', 'имени', 'В', '.', 'И', '.', 'Ленина', 'состоялся', 'первый', 'между', '##народный', 'рок', 'фестиваль', '.', 'К', '##он', '##цер', '##т', 'со', '##брал', 'свыше', '100', 'тысяч', 'зрителей', '.', 'Советская', 'м', '##оло', '##де', '##ж', '##ь', 'тогда', 'у', '##вид', '##ела', 'и', 'у', '##сл', '##ыш', '##ала', 'признан', '##ных', 'мир', '##овых', 'к', '##уми', '##ров', ':', 'Sc', '##orp', '##ions', ',', 'Bon', 'Jovi', ',', 'Oz', '##zy', 'Os', '##bour', '##ne', ',', 'Ci', '##nder', '##ella', ',', 'Mot', '##ley', 'C', '##rue', '.', 'При', '##езд', 'запад', '##ных', 'зв', '##езд', 'каз', '##ался', 'о', '##жив', '##шей', 'ф', '##ант', '##аст', '##икой', '.', 'Ф', '##естивал', '##ь', 'стал', 'не', 'только', 'музыкальной', ',', 'но', 'и', 'ва', '##жной', 'политической', 'а', '##к', '##цией', '.', 'В', '##ся', 'мир', '##овая', 'пре', '##сса', 'писал', '##а', 'о', 'том', ',', 'что', 'СССР', 'и', 'США', ',', 'долго', '##е', 'время', 'на', '##ходив', '##шиеся', 'в', 'состоянии', '\"', 'х', '##оло', '##дной', 'войны', '\"', ',', 'наконец', 'то', 'стали', 'на', '##ла', '##живать', 'др', '##у', '##же', '##ственные', 'отношения', 'на', 'культур', '##ном', 'фронте', '.', 'При', '##езд', 'запад', '##ных', 'музыка', '##нтов', 'раз', '##ру', '##шил', 'ми', '##фы', 'и', 'ст', '##ере', '##оти', '##пы', 'о', 'Совет', '##ском', 'Союз', '##е', ',', 'как', 'о', 'су', '##рово', '##й', 'и', 'за', '##крыт', '##ой', 'стране', '.', 'Но', 'что', 'ос', '##тал', '##ось', 'за', 'ка', '##дром', 'этой', 'музыкальной', 'революции', '?', 'Главный', 'органи', '##затор', 'фестиваля', 'музыка', '##нт', 'и', 'продюсер', 'С', '##тас', 'На', '##мин', ',', 'а', 'также', 'некоторые', 'участники', 'со', '##гла', '##сили', '##сь', 'под', '##ели', '##ться', 'своими', 'ли', '##чными', 'во', '##споминания', '##ми', '.', '[SEP]']\n"
          ]
        }
      ],
      "source": [
        "tokenized_input = tokenizer(example[\"tokens\"], is_split_into_words=True)\n",
        "tokens = tokenizer.convert_ids_to_tokens(tokenized_input[\"input_ids\"])\n",
        "print(tokens)"
      ]
    },
    {
      "cell_type": "code",
      "execution_count": null,
      "id": "4163cecf-a14b-4c26-9273-3fa400055163",
      "metadata": {
        "id": "4163cecf-a14b-4c26-9273-3fa400055163",
        "outputId": "400e43de-70b1-4333-8eea-d697bdd7fc47"
      },
      "outputs": [
        {
          "data": {
            "text/plain": [
              "(170, 274)"
            ]
          },
          "execution_count": 15,
          "metadata": {},
          "output_type": "execute_result"
        }
      ],
      "source": [
        "len(example[\"tags\"]), len(tokenized_input[\"input_ids\"])"
      ]
    },
    {
      "cell_type": "code",
      "execution_count": null,
      "id": "ba2321f2-8b2e-4178-bbd8-0b0a803aedd3",
      "metadata": {
        "id": "ba2321f2-8b2e-4178-bbd8-0b0a803aedd3",
        "outputId": "d676620a-b60e-43cd-fe08-21885483adb2"
      },
      "outputs": [
        {
          "name": "stdout",
          "output_type": "stream",
          "text": [
            "[None, 0, 1, 1, 1, 1, 1, 1, 2, 3, 4, 5, 5, 6, 7, 8, 9, 10, 11, 11, 12, 12, 13, 14, 15, 16, 17, 18, 19, 19, 19, 19, 19, 19, 19, 20, 21, 22, 23, 24, 25, 26, 27, 28, 29, 29, 30, 30, 31, 32, 33, 34, 35, 36, 37, 38, 39, 39, 40, 41, 42, 43, 43, 43, 43, 44, 44, 45, 46, 47, 48, 49, 50, 51, 51, 51, 51, 51, 52, 53, 53, 53, 54, 55, 55, 55, 55, 56, 56, 57, 57, 58, 58, 58, 59, 60, 60, 60, 61, 62, 63, 64, 65, 65, 66, 66, 66, 67, 68, 68, 68, 69, 70, 70, 71, 71, 72, 73, 73, 74, 74, 75, 75, 76, 76, 77, 77, 77, 78, 78, 78, 78, 79, 80, 80, 80, 81, 82, 83, 84, 85, 86, 87, 88, 88, 89, 90, 90, 90, 91, 92, 92, 93, 93, 94, 94, 95, 95, 96, 97, 98, 99, 100, 101, 102, 103, 104, 104, 105, 106, 106, 106, 107, 108, 109, 110, 110, 110, 111, 112, 113, 114, 115, 116, 117, 117, 117, 118, 118, 118, 118, 119, 120, 121, 121, 122, 123, 124, 124, 125, 125, 126, 126, 127, 127, 127, 128, 128, 129, 130, 130, 130, 130, 131, 132, 132, 133, 133, 134, 135, 136, 137, 137, 137, 138, 139, 139, 139, 140, 141, 142, 143, 144, 144, 144, 145, 146, 146, 147, 148, 149, 150, 151, 152, 152, 153, 154, 154, 155, 156, 157, 157, 158, 158, 159, 160, 161, 162, 163, 164, 164, 164, 164, 165, 165, 165, 166, 167, 167, 168, 168, 168, 169, None]\n"
          ]
        }
      ],
      "source": [
        "print(tokenized_input.word_ids())"
      ]
    },
    {
      "cell_type": "code",
      "execution_count": null,
      "id": "17363352-e562-450a-a54f-f30cf6a3ede5",
      "metadata": {
        "id": "17363352-e562-450a-a54f-f30cf6a3ede5",
        "outputId": "eca55486-2404-40ae-fee1-40b4b692c1d1"
      },
      "outputs": [
        {
          "name": "stdout",
          "output_type": "stream",
          "text": [
            "274 274\n"
          ]
        }
      ],
      "source": [
        "word_ids = tokenized_input.word_ids()\n",
        "aligned_labels = [-100 if i is None else example[\"tags\"][i] for i in word_ids]\n",
        "print(len(aligned_labels), len(tokenized_input[\"input_ids\"]))"
      ]
    },
    {
      "cell_type": "markdown",
      "id": "9fa21220-e351-4259-83c5-c60cdb73dfe2",
      "metadata": {
        "id": "9fa21220-e351-4259-83c5-c60cdb73dfe2"
      },
      "source": [
        "#### У Bert свой собсвенный токенайзер, который разбивает слова на мелкие токены, поэтому нам нужно корректно сопоставить токены и соответсвующие им неры."
      ]
    },
    {
      "cell_type": "code",
      "execution_count": null,
      "id": "80cb5952-a6aa-4032-8940-ec397d2bb68b",
      "metadata": {
        "id": "80cb5952-a6aa-4032-8940-ec397d2bb68b"
      },
      "outputs": [],
      "source": [
        "def tokenize_and_align_labels(examples, label_all_tokens=True):\n",
        "    tokenized_inputs = tokenizer(examples[\"tokens\"], truncation=True, is_split_into_words=True)\n",
        "\n",
        "    labels = []\n",
        "    for i, label in enumerate(examples['tags']):\n",
        "        word_ids = tokenized_inputs.word_ids(batch_index=i)\n",
        "        previous_word_idx = None\n",
        "        label_ids = []\n",
        "        for word_idx in word_ids:\n",
        "            # Special tokens have a word id that is None. We set the label to -100 so they are automatically\n",
        "            # ignored in the loss function.\n",
        "            if word_idx is None:\n",
        "                label_ids.append(-100)\n",
        "            # We set the label for the first token of each word.\n",
        "            elif word_idx != previous_word_idx:\n",
        "                label_ids.append(label[word_idx])\n",
        "            # For the other tokens in a word, we set the label to either the current label or -100, depending on\n",
        "            # the label_all_tokens flag.\n",
        "            else:\n",
        "                label_ids.append(label[word_idx] if label_all_tokens else -100)\n",
        "            previous_word_idx = word_idx\n",
        "\n",
        "        label_ids = [label_list.index(idx) if isinstance(idx, str) else idx for idx in label_ids]\n",
        "\n",
        "        labels.append(label_ids)\n",
        "\n",
        "    tokenized_inputs[\"labels\"] = labels\n",
        "    return tokenized_inputs"
      ]
    },
    {
      "cell_type": "code",
      "execution_count": null,
      "id": "2735bc96-92cc-4361-8c44-583eabf4bb77",
      "metadata": {
        "scrolled": true,
        "id": "2735bc96-92cc-4361-8c44-583eabf4bb77",
        "outputId": "53c1375e-7459-4417-abc1-47476fd1f83e"
      },
      "outputs": [
        {
          "data": {
            "text/plain": [
              "{'input_ids': [[2, 32, 293, 16218, 8117, 20795, 8759, 14386, 30, 34, 16992, 12449, 19314, 9147, 705, 19062, 1211, 2179, 15349, 603, 32, 294, 3932, 8759, 3330, 20795, 8759, 14386, 30, 34, 294, 18147, 5972, 2386, 1928, 733, 22970, 613, 17565, 29484, 15479, 12122, 18398, 13334, 1, 16992, 12449, 19314, 9147, 705, 19062, 1211, 2179, 15349, 603, 18, 282, 3200, 860, 20727, 12029, 4375, 29463, 2013, 2262, 18, 294, 15735, 29137, 320, 18029, 18398, 24952, 753, 705, 11316, 4307, 329, 22067, 12427, 283, 4297, 292, 29172, 3330, 1928, 705, 13790, 294, 22797, 1768, 10203, 761, 13951, 3243, 2535, 2641, 18, 3]], 'token_type_ids': [[0, 0, 0, 0, 0, 0, 0, 0, 0, 0, 0, 0, 0, 0, 0, 0, 0, 0, 0, 0, 0, 0, 0, 0, 0, 0, 0, 0, 0, 0, 0, 0, 0, 0, 0, 0, 0, 0, 0, 0, 0, 0, 0, 0, 0, 0, 0, 0, 0, 0, 0, 0, 0, 0, 0, 0, 0, 0, 0, 0, 0, 0, 0, 0, 0, 0, 0, 0, 0, 0, 0, 0, 0, 0, 0, 0, 0, 0, 0, 0, 0, 0, 0, 0, 0, 0, 0, 0, 0, 0, 0, 0, 0, 0, 0, 0, 0, 0, 0]], 'attention_mask': [[1, 1, 1, 1, 1, 1, 1, 1, 1, 1, 1, 1, 1, 1, 1, 1, 1, 1, 1, 1, 1, 1, 1, 1, 1, 1, 1, 1, 1, 1, 1, 1, 1, 1, 1, 1, 1, 1, 1, 1, 1, 1, 1, 1, 1, 1, 1, 1, 1, 1, 1, 1, 1, 1, 1, 1, 1, 1, 1, 1, 1, 1, 1, 1, 1, 1, 1, 1, 1, 1, 1, 1, 1, 1, 1, 1, 1, 1, 1, 1, 1, 1, 1, 1, 1, 1, 1, 1, 1, 1, 1, 1, 1, 1, 1, 1, 1, 1, 1]], 'labels': [[-100, 0, 0, 0, 0, 0, 0, 0, 0, 0, 0, 0, 0, 0, 0, 0, 0, 0, 0, 0, 0, 0, 0, 0, 0, 0, 0, 0, 0, 0, 0, 0, 0, 0, 0, 0, 0, 0, 0, 0, 0, 0, 0, 0, 0, 0, 0, 0, 0, 0, 0, 0, 0, 0, 0, 0, 0, 0, 0, 0, 7, 7, 7, 20, 0, 0, 0, 0, 0, 0, 0, 0, 0, 0, 0, 0, 0, 0, 0, 0, 0, 0, 0, 0, 0, 0, 0, 0, 0, 0, 0, 0, 0, 0, 0, 0, 0, 0, -100]]}"
            ]
          },
          "execution_count": 19,
          "metadata": {},
          "output_type": "execute_result"
        }
      ],
      "source": [
        "tokenize_and_align_labels(ner_data['train'][1:2])"
      ]
    },
    {
      "cell_type": "code",
      "execution_count": null,
      "id": "39acdcaf-7f6b-467f-a143-9820b4f13ea6",
      "metadata": {
        "colab": {
          "referenced_widgets": [
            ""
          ]
        },
        "id": "39acdcaf-7f6b-467f-a143-9820b4f13ea6",
        "outputId": "973db283-8065-4ce3-e4a1-56043f4fcee3"
      },
      "outputs": [
        {
          "name": "stdout",
          "output_type": "stream",
          "text": [
            "huggingface/tokenizers: The current process just got forked, after parallelism has already been used. Disabling parallelism to avoid deadlocks...\n",
            "To disable this warning, you can either:\n",
            "\t- Avoid using `tokenizers` before the fork if possible\n",
            "\t- Explicitly set the environment variable TOKENIZERS_PARALLELISM=(true | false)\n"
          ]
        },
        {
          "data": {
            "application/vnd.jupyter.widget-view+json": {
              "model_id": "",
              "version_major": 2,
              "version_minor": 0
            },
            "text/plain": [
              "Map:   0%|          | 0/5137 [00:00<?, ? examples/s]"
            ]
          },
          "metadata": {},
          "output_type": "display_data"
        },
        {
          "data": {
            "application/vnd.jupyter.widget-view+json": {
              "model_id": "",
              "version_major": 2,
              "version_minor": 0
            },
            "text/plain": [
              "Map:   0%|          | 0/1285 [00:00<?, ? examples/s]"
            ]
          },
          "metadata": {},
          "output_type": "display_data"
        }
      ],
      "source": [
        "tokenized_datasets = ner_data.map(tokenize_and_align_labels, batched=True)"
      ]
    },
    {
      "cell_type": "markdown",
      "id": "e8cce292-6c29-43be-909b-adb1536b6ebf",
      "metadata": {
        "id": "e8cce292-6c29-43be-909b-adb1536b6ebf"
      },
      "source": [
        "#### Сохраняем словарик соотвествия тега и его индекса внутри модели"
      ]
    },
    {
      "cell_type": "code",
      "execution_count": null,
      "id": "5edcbfc0-6bbd-4be1-9da7-6fe6e348753e",
      "metadata": {
        "id": "5edcbfc0-6bbd-4be1-9da7-6fe6e348753e",
        "outputId": "50070dbb-828e-4576-b191-1d21ef3d6281"
      },
      "outputs": [
        {
          "name": "stderr",
          "output_type": "stream",
          "text": [
            "Some weights of the model checkpoint at cointegrated/rubert-tiny were not used when initializing BertForTokenClassification: ['cls.predictions.transform.LayerNorm.weight', 'cls.predictions.transform.dense.weight', 'cls.predictions.transform.LayerNorm.bias', 'cls.seq_relationship.weight', 'cls.seq_relationship.bias', 'cls.predictions.bias', 'cls.predictions.transform.dense.bias']\n",
            "- This IS expected if you are initializing BertForTokenClassification from the checkpoint of a model trained on another task or with another architecture (e.g. initializing a BertForSequenceClassification model from a BertForPreTraining model).\n",
            "- This IS NOT expected if you are initializing BertForTokenClassification from the checkpoint of a model that you expect to be exactly identical (initializing a BertForSequenceClassification model from a BertForSequenceClassification model).\n",
            "Some weights of BertForTokenClassification were not initialized from the model checkpoint at cointegrated/rubert-tiny and are newly initialized: ['classifier.weight', 'classifier.bias']\n",
            "You should probably TRAIN this model on a down-stream task to be able to use it for predictions and inference.\n"
          ]
        }
      ],
      "source": [
        "from transformers import AutoModelForTokenClassification, TrainingArguments, Trainer\n",
        "\n",
        "model = AutoModelForTokenClassification.from_pretrained(model_checkpoint, num_labels=len(label_list))\n",
        "model.config.id2label = dict(enumerate(label_list))\n",
        "model.config.label2id = {v: k for k, v in model.config.id2label.items()}"
      ]
    },
    {
      "cell_type": "code",
      "execution_count": null,
      "id": "b7118790-3483-4fca-b3d9-950287202381",
      "metadata": {
        "id": "b7118790-3483-4fca-b3d9-950287202381"
      },
      "outputs": [],
      "source": [
        "# Специальный объект для удобного формирования батчей\n",
        "from transformers import DataCollatorForTokenClassification\n",
        "\n",
        "data_collator = DataCollatorForTokenClassification(tokenizer)"
      ]
    },
    {
      "cell_type": "markdown",
      "id": "4bcbfb44-68cc-42d1-98da-1a12a87aac10",
      "metadata": {
        "id": "4bcbfb44-68cc-42d1-98da-1a12a87aac10"
      },
      "source": [
        "### В качестве метрик возьмем precision, recall, accuracy, для этого воспользуемся специализированной под Ner задачу библиотеку seqeval"
      ]
    },
    {
      "cell_type": "code",
      "execution_count": null,
      "id": "bcc2483f-93f8-4207-92e2-1f91217a42d9",
      "metadata": {
        "id": "bcc2483f-93f8-4207-92e2-1f91217a42d9",
        "outputId": "02b77960-f37a-4f97-a461-ee0262ea673e"
      },
      "outputs": [
        {
          "name": "stderr",
          "output_type": "stream",
          "text": [
            "/var/folders/pw/qs4ys1kd68sbr86_46f_tgz80000gp/T/ipykernel_20329/152412463.py:1: FutureWarning: load_metric is deprecated and will be removed in the next major version of datasets. Use 'evaluate.load' instead, from the new library 🤗 Evaluate: https://huggingface.co/docs/evaluate\n",
            "  metric = load_metric(\"seqeval\")\n"
          ]
        }
      ],
      "source": [
        "metric = load_metric(\"seqeval\")"
      ]
    },
    {
      "cell_type": "code",
      "execution_count": null,
      "id": "73d999fc-9eeb-4cd3-b358-762fdfd80f5d",
      "metadata": {
        "id": "73d999fc-9eeb-4cd3-b358-762fdfd80f5d",
        "outputId": "6758edf0-5dbb-407a-974f-843a9f112c59"
      },
      "outputs": [
        {
          "data": {
            "text/plain": [
              "{'бренд': {'precision': 1.0, 'recall': 1.0, 'f1': 1.0, 'number': 1},\n",
              " 'локация': {'precision': 1.0, 'recall': 1.0, 'f1': 1.0, 'number': 1},\n",
              " 'overall_precision': 1.0,\n",
              " 'overall_recall': 1.0,\n",
              " 'overall_f1': 1.0,\n",
              " 'overall_accuracy': 1.0}"
            ]
          },
          "execution_count": 24,
          "metadata": {},
          "output_type": "execute_result"
        }
      ],
      "source": [
        "example = ner_train[4]\n",
        "labels = example['tags']\n",
        "metric.compute(predictions=[labels], references=[labels])"
      ]
    },
    {
      "cell_type": "code",
      "execution_count": null,
      "id": "ac26e3f4-52f8-4d98-b629-cd2b32fd8c1f",
      "metadata": {
        "id": "ac26e3f4-52f8-4d98-b629-cd2b32fd8c1f"
      },
      "outputs": [],
      "source": [
        "args = TrainingArguments(\n",
        "    \"ner\",\n",
        "    evaluation_strategy = \"epoch\",\n",
        "    learning_rate=1e-5,\n",
        "    per_device_train_batch_size=batch_size,\n",
        "    per_device_eval_batch_size=batch_size,\n",
        "    num_train_epochs=20,\n",
        "    weight_decay=0.01,\n",
        "    save_strategy='no',\n",
        "    report_to='none',\n",
        ")"
      ]
    },
    {
      "cell_type": "code",
      "execution_count": null,
      "id": "e1dbfdd9-443e-4b5e-90a7-e9abac9d4976",
      "metadata": {
        "id": "e1dbfdd9-443e-4b5e-90a7-e9abac9d4976",
        "outputId": "8e324753-52d6-416a-bc11-cf7b2d7a418d"
      },
      "outputs": [
        {
          "name": "stderr",
          "output_type": "stream",
          "text": [
            "You're using a BertTokenizerFast tokenizer. Please note that with a fast tokenizer, using the `__call__` method is faster than using a method to encode the text followed by a call to the `pad` method to get a padded encoding.\n"
          ]
        },
        {
          "ename": "RuntimeError",
          "evalue": "Placeholder storage has not been allocated on MPS device!",
          "output_type": "error",
          "traceback": [
            "\u001b[0;31m---------------------------------------------------------------------------\u001b[0m",
            "\u001b[0;31mRuntimeError\u001b[0m                              Traceback (most recent call last)",
            "\u001b[0;32m/var/folders/pw/qs4ys1kd68sbr86_46f_tgz80000gp/T/ipykernel_20329/2760453783.py\u001b[0m in \u001b[0;36m<cell line: 35>\u001b[0;34m()\u001b[0m\n\u001b[1;32m     33\u001b[0m )\n\u001b[1;32m     34\u001b[0m \u001b[0;34m\u001b[0m\u001b[0m\n\u001b[0;32m---> 35\u001b[0;31m \u001b[0mtrainer\u001b[0m\u001b[0;34m.\u001b[0m\u001b[0mevaluate\u001b[0m\u001b[0;34m(\u001b[0m\u001b[0;34m)\u001b[0m\u001b[0;34m\u001b[0m\u001b[0;34m\u001b[0m\u001b[0m\n\u001b[0m",
            "\u001b[0;32m~/.venv/lib/python3.9/site-packages/transformers/trainer.py\u001b[0m in \u001b[0;36mevaluate\u001b[0;34m(self, eval_dataset, ignore_keys, metric_key_prefix)\u001b[0m\n\u001b[1;32m   3051\u001b[0m \u001b[0;34m\u001b[0m\u001b[0m\n\u001b[1;32m   3052\u001b[0m         \u001b[0meval_loop\u001b[0m \u001b[0;34m=\u001b[0m \u001b[0mself\u001b[0m\u001b[0;34m.\u001b[0m\u001b[0mprediction_loop\u001b[0m \u001b[0;32mif\u001b[0m \u001b[0mself\u001b[0m\u001b[0;34m.\u001b[0m\u001b[0margs\u001b[0m\u001b[0;34m.\u001b[0m\u001b[0muse_legacy_prediction_loop\u001b[0m \u001b[0;32melse\u001b[0m \u001b[0mself\u001b[0m\u001b[0;34m.\u001b[0m\u001b[0mevaluation_loop\u001b[0m\u001b[0;34m\u001b[0m\u001b[0;34m\u001b[0m\u001b[0m\n\u001b[0;32m-> 3053\u001b[0;31m         output = eval_loop(\n\u001b[0m\u001b[1;32m   3054\u001b[0m             \u001b[0meval_dataloader\u001b[0m\u001b[0;34m,\u001b[0m\u001b[0;34m\u001b[0m\u001b[0;34m\u001b[0m\u001b[0m\n\u001b[1;32m   3055\u001b[0m             \u001b[0mdescription\u001b[0m\u001b[0;34m=\u001b[0m\u001b[0;34m\"Evaluation\"\u001b[0m\u001b[0;34m,\u001b[0m\u001b[0;34m\u001b[0m\u001b[0;34m\u001b[0m\u001b[0m\n",
            "\u001b[0;32m~/.venv/lib/python3.9/site-packages/transformers/trainer.py\u001b[0m in \u001b[0;36mevaluation_loop\u001b[0;34m(self, dataloader, description, prediction_loss_only, ignore_keys, metric_key_prefix)\u001b[0m\n\u001b[1;32m   3243\u001b[0m \u001b[0;34m\u001b[0m\u001b[0m\n\u001b[1;32m   3244\u001b[0m             \u001b[0;31m# Prediction step\u001b[0m\u001b[0;34m\u001b[0m\u001b[0;34m\u001b[0m\u001b[0;34m\u001b[0m\u001b[0m\n\u001b[0;32m-> 3245\u001b[0;31m             \u001b[0mloss\u001b[0m\u001b[0;34m,\u001b[0m \u001b[0mlogits\u001b[0m\u001b[0;34m,\u001b[0m \u001b[0mlabels\u001b[0m \u001b[0;34m=\u001b[0m \u001b[0mself\u001b[0m\u001b[0;34m.\u001b[0m\u001b[0mprediction_step\u001b[0m\u001b[0;34m(\u001b[0m\u001b[0mmodel\u001b[0m\u001b[0;34m,\u001b[0m \u001b[0minputs\u001b[0m\u001b[0;34m,\u001b[0m \u001b[0mprediction_loss_only\u001b[0m\u001b[0;34m,\u001b[0m \u001b[0mignore_keys\u001b[0m\u001b[0;34m=\u001b[0m\u001b[0mignore_keys\u001b[0m\u001b[0;34m)\u001b[0m\u001b[0;34m\u001b[0m\u001b[0;34m\u001b[0m\u001b[0m\n\u001b[0m\u001b[1;32m   3246\u001b[0m             \u001b[0minputs_decode\u001b[0m \u001b[0;34m=\u001b[0m \u001b[0mself\u001b[0m\u001b[0;34m.\u001b[0m\u001b[0m_prepare_input\u001b[0m\u001b[0;34m(\u001b[0m\u001b[0minputs\u001b[0m\u001b[0;34m[\u001b[0m\u001b[0;34m\"input_ids\"\u001b[0m\u001b[0;34m]\u001b[0m\u001b[0;34m)\u001b[0m \u001b[0;32mif\u001b[0m \u001b[0margs\u001b[0m\u001b[0;34m.\u001b[0m\u001b[0minclude_inputs_for_metrics\u001b[0m \u001b[0;32melse\u001b[0m \u001b[0;32mNone\u001b[0m\u001b[0;34m\u001b[0m\u001b[0;34m\u001b[0m\u001b[0m\n\u001b[1;32m   3247\u001b[0m \u001b[0;34m\u001b[0m\u001b[0m\n",
            "\u001b[0;32m~/.venv/lib/python3.9/site-packages/transformers/trainer.py\u001b[0m in \u001b[0;36mprediction_step\u001b[0;34m(self, model, inputs, prediction_loss_only, ignore_keys)\u001b[0m\n\u001b[1;32m   3501\u001b[0m                 \u001b[0;32mif\u001b[0m \u001b[0mhas_labels\u001b[0m \u001b[0;32mor\u001b[0m \u001b[0mloss_without_labels\u001b[0m\u001b[0;34m:\u001b[0m\u001b[0;34m\u001b[0m\u001b[0;34m\u001b[0m\u001b[0m\n\u001b[1;32m   3502\u001b[0m                     \u001b[0;32mwith\u001b[0m \u001b[0mself\u001b[0m\u001b[0;34m.\u001b[0m\u001b[0mcompute_loss_context_manager\u001b[0m\u001b[0;34m(\u001b[0m\u001b[0;34m)\u001b[0m\u001b[0;34m:\u001b[0m\u001b[0;34m\u001b[0m\u001b[0;34m\u001b[0m\u001b[0m\n\u001b[0;32m-> 3503\u001b[0;31m                         \u001b[0mloss\u001b[0m\u001b[0;34m,\u001b[0m \u001b[0moutputs\u001b[0m \u001b[0;34m=\u001b[0m \u001b[0mself\u001b[0m\u001b[0;34m.\u001b[0m\u001b[0mcompute_loss\u001b[0m\u001b[0;34m(\u001b[0m\u001b[0mmodel\u001b[0m\u001b[0;34m,\u001b[0m \u001b[0minputs\u001b[0m\u001b[0;34m,\u001b[0m \u001b[0mreturn_outputs\u001b[0m\u001b[0;34m=\u001b[0m\u001b[0;32mTrue\u001b[0m\u001b[0;34m)\u001b[0m\u001b[0;34m\u001b[0m\u001b[0;34m\u001b[0m\u001b[0m\n\u001b[0m\u001b[1;32m   3504\u001b[0m                     \u001b[0mloss\u001b[0m \u001b[0;34m=\u001b[0m \u001b[0mloss\u001b[0m\u001b[0;34m.\u001b[0m\u001b[0mmean\u001b[0m\u001b[0;34m(\u001b[0m\u001b[0;34m)\u001b[0m\u001b[0;34m.\u001b[0m\u001b[0mdetach\u001b[0m\u001b[0;34m(\u001b[0m\u001b[0;34m)\u001b[0m\u001b[0;34m\u001b[0m\u001b[0;34m\u001b[0m\u001b[0m\n\u001b[1;32m   3505\u001b[0m \u001b[0;34m\u001b[0m\u001b[0m\n",
            "\u001b[0;32m~/.venv/lib/python3.9/site-packages/transformers/trainer.py\u001b[0m in \u001b[0;36mcompute_loss\u001b[0;34m(self, model, inputs, return_outputs)\u001b[0m\n\u001b[1;32m   2782\u001b[0m         \u001b[0;32melse\u001b[0m\u001b[0;34m:\u001b[0m\u001b[0;34m\u001b[0m\u001b[0;34m\u001b[0m\u001b[0m\n\u001b[1;32m   2783\u001b[0m             \u001b[0mlabels\u001b[0m \u001b[0;34m=\u001b[0m \u001b[0;32mNone\u001b[0m\u001b[0;34m\u001b[0m\u001b[0;34m\u001b[0m\u001b[0m\n\u001b[0;32m-> 2784\u001b[0;31m         \u001b[0moutputs\u001b[0m \u001b[0;34m=\u001b[0m \u001b[0mmodel\u001b[0m\u001b[0;34m(\u001b[0m\u001b[0;34m**\u001b[0m\u001b[0minputs\u001b[0m\u001b[0;34m)\u001b[0m\u001b[0;34m\u001b[0m\u001b[0;34m\u001b[0m\u001b[0m\n\u001b[0m\u001b[1;32m   2785\u001b[0m         \u001b[0;31m# Save past state if it exists\u001b[0m\u001b[0;34m\u001b[0m\u001b[0;34m\u001b[0m\u001b[0;34m\u001b[0m\u001b[0m\n\u001b[1;32m   2786\u001b[0m         \u001b[0;31m# TODO: this needs to be fixed and made cleaner later.\u001b[0m\u001b[0;34m\u001b[0m\u001b[0;34m\u001b[0m\u001b[0;34m\u001b[0m\u001b[0m\n",
            "\u001b[0;32m~/.venv/lib/python3.9/site-packages/torch/nn/modules/module.py\u001b[0m in \u001b[0;36m_wrapped_call_impl\u001b[0;34m(self, *args, **kwargs)\u001b[0m\n\u001b[1;32m   1516\u001b[0m             \u001b[0;32mreturn\u001b[0m \u001b[0mself\u001b[0m\u001b[0;34m.\u001b[0m\u001b[0m_compiled_call_impl\u001b[0m\u001b[0;34m(\u001b[0m\u001b[0;34m*\u001b[0m\u001b[0margs\u001b[0m\u001b[0;34m,\u001b[0m \u001b[0;34m**\u001b[0m\u001b[0mkwargs\u001b[0m\u001b[0;34m)\u001b[0m  \u001b[0;31m# type: ignore[misc]\u001b[0m\u001b[0;34m\u001b[0m\u001b[0;34m\u001b[0m\u001b[0m\n\u001b[1;32m   1517\u001b[0m         \u001b[0;32melse\u001b[0m\u001b[0;34m:\u001b[0m\u001b[0;34m\u001b[0m\u001b[0;34m\u001b[0m\u001b[0m\n\u001b[0;32m-> 1518\u001b[0;31m             \u001b[0;32mreturn\u001b[0m \u001b[0mself\u001b[0m\u001b[0;34m.\u001b[0m\u001b[0m_call_impl\u001b[0m\u001b[0;34m(\u001b[0m\u001b[0;34m*\u001b[0m\u001b[0margs\u001b[0m\u001b[0;34m,\u001b[0m \u001b[0;34m**\u001b[0m\u001b[0mkwargs\u001b[0m\u001b[0;34m)\u001b[0m\u001b[0;34m\u001b[0m\u001b[0;34m\u001b[0m\u001b[0m\n\u001b[0m\u001b[1;32m   1519\u001b[0m \u001b[0;34m\u001b[0m\u001b[0m\n\u001b[1;32m   1520\u001b[0m     \u001b[0;32mdef\u001b[0m \u001b[0m_call_impl\u001b[0m\u001b[0;34m(\u001b[0m\u001b[0mself\u001b[0m\u001b[0;34m,\u001b[0m \u001b[0;34m*\u001b[0m\u001b[0margs\u001b[0m\u001b[0;34m,\u001b[0m \u001b[0;34m**\u001b[0m\u001b[0mkwargs\u001b[0m\u001b[0;34m)\u001b[0m\u001b[0;34m:\u001b[0m\u001b[0;34m\u001b[0m\u001b[0;34m\u001b[0m\u001b[0m\n",
            "\u001b[0;32m~/.venv/lib/python3.9/site-packages/torch/nn/modules/module.py\u001b[0m in \u001b[0;36m_call_impl\u001b[0;34m(self, *args, **kwargs)\u001b[0m\n\u001b[1;32m   1525\u001b[0m                 \u001b[0;32mor\u001b[0m \u001b[0m_global_backward_pre_hooks\u001b[0m \u001b[0;32mor\u001b[0m \u001b[0m_global_backward_hooks\u001b[0m\u001b[0;34m\u001b[0m\u001b[0;34m\u001b[0m\u001b[0m\n\u001b[1;32m   1526\u001b[0m                 or _global_forward_hooks or _global_forward_pre_hooks):\n\u001b[0;32m-> 1527\u001b[0;31m             \u001b[0;32mreturn\u001b[0m \u001b[0mforward_call\u001b[0m\u001b[0;34m(\u001b[0m\u001b[0;34m*\u001b[0m\u001b[0margs\u001b[0m\u001b[0;34m,\u001b[0m \u001b[0;34m**\u001b[0m\u001b[0mkwargs\u001b[0m\u001b[0;34m)\u001b[0m\u001b[0;34m\u001b[0m\u001b[0;34m\u001b[0m\u001b[0m\n\u001b[0m\u001b[1;32m   1528\u001b[0m \u001b[0;34m\u001b[0m\u001b[0m\n\u001b[1;32m   1529\u001b[0m         \u001b[0;32mtry\u001b[0m\u001b[0;34m:\u001b[0m\u001b[0;34m\u001b[0m\u001b[0;34m\u001b[0m\u001b[0m\n",
            "\u001b[0;32m~/.venv/lib/python3.9/site-packages/transformers/models/bert/modeling_bert.py\u001b[0m in \u001b[0;36mforward\u001b[0;34m(self, input_ids, attention_mask, token_type_ids, position_ids, head_mask, inputs_embeds, labels, output_attentions, output_hidden_states, return_dict)\u001b[0m\n\u001b[1;32m   1756\u001b[0m         \u001b[0mreturn_dict\u001b[0m \u001b[0;34m=\u001b[0m \u001b[0mreturn_dict\u001b[0m \u001b[0;32mif\u001b[0m \u001b[0mreturn_dict\u001b[0m \u001b[0;32mis\u001b[0m \u001b[0;32mnot\u001b[0m \u001b[0;32mNone\u001b[0m \u001b[0;32melse\u001b[0m \u001b[0mself\u001b[0m\u001b[0;34m.\u001b[0m\u001b[0mconfig\u001b[0m\u001b[0;34m.\u001b[0m\u001b[0muse_return_dict\u001b[0m\u001b[0;34m\u001b[0m\u001b[0;34m\u001b[0m\u001b[0m\n\u001b[1;32m   1757\u001b[0m \u001b[0;34m\u001b[0m\u001b[0m\n\u001b[0;32m-> 1758\u001b[0;31m         outputs = self.bert(\n\u001b[0m\u001b[1;32m   1759\u001b[0m             \u001b[0minput_ids\u001b[0m\u001b[0;34m,\u001b[0m\u001b[0;34m\u001b[0m\u001b[0;34m\u001b[0m\u001b[0m\n\u001b[1;32m   1760\u001b[0m             \u001b[0mattention_mask\u001b[0m\u001b[0;34m=\u001b[0m\u001b[0mattention_mask\u001b[0m\u001b[0;34m,\u001b[0m\u001b[0;34m\u001b[0m\u001b[0;34m\u001b[0m\u001b[0m\n",
            "\u001b[0;32m~/.venv/lib/python3.9/site-packages/torch/nn/modules/module.py\u001b[0m in \u001b[0;36m_wrapped_call_impl\u001b[0;34m(self, *args, **kwargs)\u001b[0m\n\u001b[1;32m   1516\u001b[0m             \u001b[0;32mreturn\u001b[0m \u001b[0mself\u001b[0m\u001b[0;34m.\u001b[0m\u001b[0m_compiled_call_impl\u001b[0m\u001b[0;34m(\u001b[0m\u001b[0;34m*\u001b[0m\u001b[0margs\u001b[0m\u001b[0;34m,\u001b[0m \u001b[0;34m**\u001b[0m\u001b[0mkwargs\u001b[0m\u001b[0;34m)\u001b[0m  \u001b[0;31m# type: ignore[misc]\u001b[0m\u001b[0;34m\u001b[0m\u001b[0;34m\u001b[0m\u001b[0m\n\u001b[1;32m   1517\u001b[0m         \u001b[0;32melse\u001b[0m\u001b[0;34m:\u001b[0m\u001b[0;34m\u001b[0m\u001b[0;34m\u001b[0m\u001b[0m\n\u001b[0;32m-> 1518\u001b[0;31m             \u001b[0;32mreturn\u001b[0m \u001b[0mself\u001b[0m\u001b[0;34m.\u001b[0m\u001b[0m_call_impl\u001b[0m\u001b[0;34m(\u001b[0m\u001b[0;34m*\u001b[0m\u001b[0margs\u001b[0m\u001b[0;34m,\u001b[0m \u001b[0;34m**\u001b[0m\u001b[0mkwargs\u001b[0m\u001b[0;34m)\u001b[0m\u001b[0;34m\u001b[0m\u001b[0;34m\u001b[0m\u001b[0m\n\u001b[0m\u001b[1;32m   1519\u001b[0m \u001b[0;34m\u001b[0m\u001b[0m\n\u001b[1;32m   1520\u001b[0m     \u001b[0;32mdef\u001b[0m \u001b[0m_call_impl\u001b[0m\u001b[0;34m(\u001b[0m\u001b[0mself\u001b[0m\u001b[0;34m,\u001b[0m \u001b[0;34m*\u001b[0m\u001b[0margs\u001b[0m\u001b[0;34m,\u001b[0m \u001b[0;34m**\u001b[0m\u001b[0mkwargs\u001b[0m\u001b[0;34m)\u001b[0m\u001b[0;34m:\u001b[0m\u001b[0;34m\u001b[0m\u001b[0;34m\u001b[0m\u001b[0m\n",
            "\u001b[0;32m~/.venv/lib/python3.9/site-packages/torch/nn/modules/module.py\u001b[0m in \u001b[0;36m_call_impl\u001b[0;34m(self, *args, **kwargs)\u001b[0m\n\u001b[1;32m   1525\u001b[0m                 \u001b[0;32mor\u001b[0m \u001b[0m_global_backward_pre_hooks\u001b[0m \u001b[0;32mor\u001b[0m \u001b[0m_global_backward_hooks\u001b[0m\u001b[0;34m\u001b[0m\u001b[0;34m\u001b[0m\u001b[0m\n\u001b[1;32m   1526\u001b[0m                 or _global_forward_hooks or _global_forward_pre_hooks):\n\u001b[0;32m-> 1527\u001b[0;31m             \u001b[0;32mreturn\u001b[0m \u001b[0mforward_call\u001b[0m\u001b[0;34m(\u001b[0m\u001b[0;34m*\u001b[0m\u001b[0margs\u001b[0m\u001b[0;34m,\u001b[0m \u001b[0;34m**\u001b[0m\u001b[0mkwargs\u001b[0m\u001b[0;34m)\u001b[0m\u001b[0;34m\u001b[0m\u001b[0;34m\u001b[0m\u001b[0m\n\u001b[0m\u001b[1;32m   1528\u001b[0m \u001b[0;34m\u001b[0m\u001b[0m\n\u001b[1;32m   1529\u001b[0m         \u001b[0;32mtry\u001b[0m\u001b[0;34m:\u001b[0m\u001b[0;34m\u001b[0m\u001b[0;34m\u001b[0m\u001b[0m\n",
            "\u001b[0;32m~/.venv/lib/python3.9/site-packages/transformers/models/bert/modeling_bert.py\u001b[0m in \u001b[0;36mforward\u001b[0;34m(self, input_ids, attention_mask, token_type_ids, position_ids, head_mask, inputs_embeds, encoder_hidden_states, encoder_attention_mask, past_key_values, use_cache, output_attentions, output_hidden_states, return_dict)\u001b[0m\n\u001b[1;32m   1011\u001b[0m         \u001b[0mhead_mask\u001b[0m \u001b[0;34m=\u001b[0m \u001b[0mself\u001b[0m\u001b[0;34m.\u001b[0m\u001b[0mget_head_mask\u001b[0m\u001b[0;34m(\u001b[0m\u001b[0mhead_mask\u001b[0m\u001b[0;34m,\u001b[0m \u001b[0mself\u001b[0m\u001b[0;34m.\u001b[0m\u001b[0mconfig\u001b[0m\u001b[0;34m.\u001b[0m\u001b[0mnum_hidden_layers\u001b[0m\u001b[0;34m)\u001b[0m\u001b[0;34m\u001b[0m\u001b[0;34m\u001b[0m\u001b[0m\n\u001b[1;32m   1012\u001b[0m \u001b[0;34m\u001b[0m\u001b[0m\n\u001b[0;32m-> 1013\u001b[0;31m         embedding_output = self.embeddings(\n\u001b[0m\u001b[1;32m   1014\u001b[0m             \u001b[0minput_ids\u001b[0m\u001b[0;34m=\u001b[0m\u001b[0minput_ids\u001b[0m\u001b[0;34m,\u001b[0m\u001b[0;34m\u001b[0m\u001b[0;34m\u001b[0m\u001b[0m\n\u001b[1;32m   1015\u001b[0m             \u001b[0mposition_ids\u001b[0m\u001b[0;34m=\u001b[0m\u001b[0mposition_ids\u001b[0m\u001b[0;34m,\u001b[0m\u001b[0;34m\u001b[0m\u001b[0;34m\u001b[0m\u001b[0m\n",
            "\u001b[0;32m~/.venv/lib/python3.9/site-packages/torch/nn/modules/module.py\u001b[0m in \u001b[0;36m_wrapped_call_impl\u001b[0;34m(self, *args, **kwargs)\u001b[0m\n\u001b[1;32m   1516\u001b[0m             \u001b[0;32mreturn\u001b[0m \u001b[0mself\u001b[0m\u001b[0;34m.\u001b[0m\u001b[0m_compiled_call_impl\u001b[0m\u001b[0;34m(\u001b[0m\u001b[0;34m*\u001b[0m\u001b[0margs\u001b[0m\u001b[0;34m,\u001b[0m \u001b[0;34m**\u001b[0m\u001b[0mkwargs\u001b[0m\u001b[0;34m)\u001b[0m  \u001b[0;31m# type: ignore[misc]\u001b[0m\u001b[0;34m\u001b[0m\u001b[0;34m\u001b[0m\u001b[0m\n\u001b[1;32m   1517\u001b[0m         \u001b[0;32melse\u001b[0m\u001b[0;34m:\u001b[0m\u001b[0;34m\u001b[0m\u001b[0;34m\u001b[0m\u001b[0m\n\u001b[0;32m-> 1518\u001b[0;31m             \u001b[0;32mreturn\u001b[0m \u001b[0mself\u001b[0m\u001b[0;34m.\u001b[0m\u001b[0m_call_impl\u001b[0m\u001b[0;34m(\u001b[0m\u001b[0;34m*\u001b[0m\u001b[0margs\u001b[0m\u001b[0;34m,\u001b[0m \u001b[0;34m**\u001b[0m\u001b[0mkwargs\u001b[0m\u001b[0;34m)\u001b[0m\u001b[0;34m\u001b[0m\u001b[0;34m\u001b[0m\u001b[0m\n\u001b[0m\u001b[1;32m   1519\u001b[0m \u001b[0;34m\u001b[0m\u001b[0m\n\u001b[1;32m   1520\u001b[0m     \u001b[0;32mdef\u001b[0m \u001b[0m_call_impl\u001b[0m\u001b[0;34m(\u001b[0m\u001b[0mself\u001b[0m\u001b[0;34m,\u001b[0m \u001b[0;34m*\u001b[0m\u001b[0margs\u001b[0m\u001b[0;34m,\u001b[0m \u001b[0;34m**\u001b[0m\u001b[0mkwargs\u001b[0m\u001b[0;34m)\u001b[0m\u001b[0;34m:\u001b[0m\u001b[0;34m\u001b[0m\u001b[0;34m\u001b[0m\u001b[0m\n",
            "\u001b[0;32m~/.venv/lib/python3.9/site-packages/torch/nn/modules/module.py\u001b[0m in \u001b[0;36m_call_impl\u001b[0;34m(self, *args, **kwargs)\u001b[0m\n\u001b[1;32m   1525\u001b[0m                 \u001b[0;32mor\u001b[0m \u001b[0m_global_backward_pre_hooks\u001b[0m \u001b[0;32mor\u001b[0m \u001b[0m_global_backward_hooks\u001b[0m\u001b[0;34m\u001b[0m\u001b[0;34m\u001b[0m\u001b[0m\n\u001b[1;32m   1526\u001b[0m                 or _global_forward_hooks or _global_forward_pre_hooks):\n\u001b[0;32m-> 1527\u001b[0;31m             \u001b[0;32mreturn\u001b[0m \u001b[0mforward_call\u001b[0m\u001b[0;34m(\u001b[0m\u001b[0;34m*\u001b[0m\u001b[0margs\u001b[0m\u001b[0;34m,\u001b[0m \u001b[0;34m**\u001b[0m\u001b[0mkwargs\u001b[0m\u001b[0;34m)\u001b[0m\u001b[0;34m\u001b[0m\u001b[0;34m\u001b[0m\u001b[0m\n\u001b[0m\u001b[1;32m   1528\u001b[0m \u001b[0;34m\u001b[0m\u001b[0m\n\u001b[1;32m   1529\u001b[0m         \u001b[0;32mtry\u001b[0m\u001b[0;34m:\u001b[0m\u001b[0;34m\u001b[0m\u001b[0;34m\u001b[0m\u001b[0m\n",
            "\u001b[0;32m~/.venv/lib/python3.9/site-packages/transformers/models/bert/modeling_bert.py\u001b[0m in \u001b[0;36mforward\u001b[0;34m(self, input_ids, token_type_ids, position_ids, inputs_embeds, past_key_values_length)\u001b[0m\n\u001b[1;32m    228\u001b[0m \u001b[0;34m\u001b[0m\u001b[0m\n\u001b[1;32m    229\u001b[0m         \u001b[0;32mif\u001b[0m \u001b[0minputs_embeds\u001b[0m \u001b[0;32mis\u001b[0m \u001b[0;32mNone\u001b[0m\u001b[0;34m:\u001b[0m\u001b[0;34m\u001b[0m\u001b[0;34m\u001b[0m\u001b[0m\n\u001b[0;32m--> 230\u001b[0;31m             \u001b[0minputs_embeds\u001b[0m \u001b[0;34m=\u001b[0m \u001b[0mself\u001b[0m\u001b[0;34m.\u001b[0m\u001b[0mword_embeddings\u001b[0m\u001b[0;34m(\u001b[0m\u001b[0minput_ids\u001b[0m\u001b[0;34m)\u001b[0m\u001b[0;34m\u001b[0m\u001b[0;34m\u001b[0m\u001b[0m\n\u001b[0m\u001b[1;32m    231\u001b[0m         \u001b[0mtoken_type_embeddings\u001b[0m \u001b[0;34m=\u001b[0m \u001b[0mself\u001b[0m\u001b[0;34m.\u001b[0m\u001b[0mtoken_type_embeddings\u001b[0m\u001b[0;34m(\u001b[0m\u001b[0mtoken_type_ids\u001b[0m\u001b[0;34m)\u001b[0m\u001b[0;34m\u001b[0m\u001b[0;34m\u001b[0m\u001b[0m\n\u001b[1;32m    232\u001b[0m \u001b[0;34m\u001b[0m\u001b[0m\n",
            "\u001b[0;32m~/.venv/lib/python3.9/site-packages/torch/nn/modules/module.py\u001b[0m in \u001b[0;36m_wrapped_call_impl\u001b[0;34m(self, *args, **kwargs)\u001b[0m\n\u001b[1;32m   1516\u001b[0m             \u001b[0;32mreturn\u001b[0m \u001b[0mself\u001b[0m\u001b[0;34m.\u001b[0m\u001b[0m_compiled_call_impl\u001b[0m\u001b[0;34m(\u001b[0m\u001b[0;34m*\u001b[0m\u001b[0margs\u001b[0m\u001b[0;34m,\u001b[0m \u001b[0;34m**\u001b[0m\u001b[0mkwargs\u001b[0m\u001b[0;34m)\u001b[0m  \u001b[0;31m# type: ignore[misc]\u001b[0m\u001b[0;34m\u001b[0m\u001b[0;34m\u001b[0m\u001b[0m\n\u001b[1;32m   1517\u001b[0m         \u001b[0;32melse\u001b[0m\u001b[0;34m:\u001b[0m\u001b[0;34m\u001b[0m\u001b[0;34m\u001b[0m\u001b[0m\n\u001b[0;32m-> 1518\u001b[0;31m             \u001b[0;32mreturn\u001b[0m \u001b[0mself\u001b[0m\u001b[0;34m.\u001b[0m\u001b[0m_call_impl\u001b[0m\u001b[0;34m(\u001b[0m\u001b[0;34m*\u001b[0m\u001b[0margs\u001b[0m\u001b[0;34m,\u001b[0m \u001b[0;34m**\u001b[0m\u001b[0mkwargs\u001b[0m\u001b[0;34m)\u001b[0m\u001b[0;34m\u001b[0m\u001b[0;34m\u001b[0m\u001b[0m\n\u001b[0m\u001b[1;32m   1519\u001b[0m \u001b[0;34m\u001b[0m\u001b[0m\n\u001b[1;32m   1520\u001b[0m     \u001b[0;32mdef\u001b[0m \u001b[0m_call_impl\u001b[0m\u001b[0;34m(\u001b[0m\u001b[0mself\u001b[0m\u001b[0;34m,\u001b[0m \u001b[0;34m*\u001b[0m\u001b[0margs\u001b[0m\u001b[0;34m,\u001b[0m \u001b[0;34m**\u001b[0m\u001b[0mkwargs\u001b[0m\u001b[0;34m)\u001b[0m\u001b[0;34m:\u001b[0m\u001b[0;34m\u001b[0m\u001b[0;34m\u001b[0m\u001b[0m\n",
            "\u001b[0;32m~/.venv/lib/python3.9/site-packages/torch/nn/modules/module.py\u001b[0m in \u001b[0;36m_call_impl\u001b[0;34m(self, *args, **kwargs)\u001b[0m\n\u001b[1;32m   1525\u001b[0m                 \u001b[0;32mor\u001b[0m \u001b[0m_global_backward_pre_hooks\u001b[0m \u001b[0;32mor\u001b[0m \u001b[0m_global_backward_hooks\u001b[0m\u001b[0;34m\u001b[0m\u001b[0;34m\u001b[0m\u001b[0m\n\u001b[1;32m   1526\u001b[0m                 or _global_forward_hooks or _global_forward_pre_hooks):\n\u001b[0;32m-> 1527\u001b[0;31m             \u001b[0;32mreturn\u001b[0m \u001b[0mforward_call\u001b[0m\u001b[0;34m(\u001b[0m\u001b[0;34m*\u001b[0m\u001b[0margs\u001b[0m\u001b[0;34m,\u001b[0m \u001b[0;34m**\u001b[0m\u001b[0mkwargs\u001b[0m\u001b[0;34m)\u001b[0m\u001b[0;34m\u001b[0m\u001b[0;34m\u001b[0m\u001b[0m\n\u001b[0m\u001b[1;32m   1528\u001b[0m \u001b[0;34m\u001b[0m\u001b[0m\n\u001b[1;32m   1529\u001b[0m         \u001b[0;32mtry\u001b[0m\u001b[0;34m:\u001b[0m\u001b[0;34m\u001b[0m\u001b[0;34m\u001b[0m\u001b[0m\n",
            "\u001b[0;32m~/.venv/lib/python3.9/site-packages/torch/nn/modules/sparse.py\u001b[0m in \u001b[0;36mforward\u001b[0;34m(self, input)\u001b[0m\n\u001b[1;32m    160\u001b[0m \u001b[0;34m\u001b[0m\u001b[0m\n\u001b[1;32m    161\u001b[0m     \u001b[0;32mdef\u001b[0m \u001b[0mforward\u001b[0m\u001b[0;34m(\u001b[0m\u001b[0mself\u001b[0m\u001b[0;34m,\u001b[0m \u001b[0minput\u001b[0m\u001b[0;34m:\u001b[0m \u001b[0mTensor\u001b[0m\u001b[0;34m)\u001b[0m \u001b[0;34m->\u001b[0m \u001b[0mTensor\u001b[0m\u001b[0;34m:\u001b[0m\u001b[0;34m\u001b[0m\u001b[0;34m\u001b[0m\u001b[0m\n\u001b[0;32m--> 162\u001b[0;31m         return F.embedding(\n\u001b[0m\u001b[1;32m    163\u001b[0m             \u001b[0minput\u001b[0m\u001b[0;34m,\u001b[0m \u001b[0mself\u001b[0m\u001b[0;34m.\u001b[0m\u001b[0mweight\u001b[0m\u001b[0;34m,\u001b[0m \u001b[0mself\u001b[0m\u001b[0;34m.\u001b[0m\u001b[0mpadding_idx\u001b[0m\u001b[0;34m,\u001b[0m \u001b[0mself\u001b[0m\u001b[0;34m.\u001b[0m\u001b[0mmax_norm\u001b[0m\u001b[0;34m,\u001b[0m\u001b[0;34m\u001b[0m\u001b[0;34m\u001b[0m\u001b[0m\n\u001b[1;32m    164\u001b[0m             self.norm_type, self.scale_grad_by_freq, self.sparse)\n",
            "\u001b[0;32m~/.venv/lib/python3.9/site-packages/torch/nn/functional.py\u001b[0m in \u001b[0;36membedding\u001b[0;34m(input, weight, padding_idx, max_norm, norm_type, scale_grad_by_freq, sparse)\u001b[0m\n\u001b[1;32m   2231\u001b[0m         \u001b[0;31m# remove once script supports set_grad_enabled\u001b[0m\u001b[0;34m\u001b[0m\u001b[0;34m\u001b[0m\u001b[0;34m\u001b[0m\u001b[0m\n\u001b[1;32m   2232\u001b[0m         \u001b[0m_no_grad_embedding_renorm_\u001b[0m\u001b[0;34m(\u001b[0m\u001b[0mweight\u001b[0m\u001b[0;34m,\u001b[0m \u001b[0minput\u001b[0m\u001b[0;34m,\u001b[0m \u001b[0mmax_norm\u001b[0m\u001b[0;34m,\u001b[0m \u001b[0mnorm_type\u001b[0m\u001b[0;34m)\u001b[0m\u001b[0;34m\u001b[0m\u001b[0;34m\u001b[0m\u001b[0m\n\u001b[0;32m-> 2233\u001b[0;31m     \u001b[0;32mreturn\u001b[0m \u001b[0mtorch\u001b[0m\u001b[0;34m.\u001b[0m\u001b[0membedding\u001b[0m\u001b[0;34m(\u001b[0m\u001b[0mweight\u001b[0m\u001b[0;34m,\u001b[0m \u001b[0minput\u001b[0m\u001b[0;34m,\u001b[0m \u001b[0mpadding_idx\u001b[0m\u001b[0;34m,\u001b[0m \u001b[0mscale_grad_by_freq\u001b[0m\u001b[0;34m,\u001b[0m \u001b[0msparse\u001b[0m\u001b[0;34m)\u001b[0m\u001b[0;34m\u001b[0m\u001b[0;34m\u001b[0m\u001b[0m\n\u001b[0m\u001b[1;32m   2234\u001b[0m \u001b[0;34m\u001b[0m\u001b[0m\n\u001b[1;32m   2235\u001b[0m \u001b[0;34m\u001b[0m\u001b[0m\n",
            "\u001b[0;31mRuntimeError\u001b[0m: Placeholder storage has not been allocated on MPS device!"
          ]
        }
      ],
      "source": [
        "# что мы видим без дообучения модели\n",
        "import numpy as np\n",
        "\n",
        "def compute_metrics(p):\n",
        "    predictions, labels = p\n",
        "    predictions = np.argmax(predictions, axis=2)\n",
        "\n",
        "    # Remove ignored index (special tokens)\n",
        "    true_predictions = [\n",
        "        [label_list[p] for (p, l) in zip(prediction, label) if l != -100]\n",
        "        for prediction, label in zip(predictions, labels)\n",
        "    ]\n",
        "    true_labels = [\n",
        "        [label_list[l] for (p, l) in zip(prediction, label) if l != -100]\n",
        "        for prediction, label in zip(predictions, labels)\n",
        "    ]\n",
        "\n",
        "    results = metric.compute(predictions=true_predictions, references=true_labels, zero_division=0)\n",
        "    return {\n",
        "        \"precision\": results[\"overall_precision\"],\n",
        "        \"recall\": results[\"overall_recall\"],\n",
        "        \"f1\": results[\"overall_f1\"],\n",
        "        \"accuracy\": results[\"overall_accuracy\"],\n",
        "    }\n",
        "trainer = Trainer(\n",
        "    model,\n",
        "    args,\n",
        "    train_dataset=tokenized_datasets[\"train\"],\n",
        "    eval_dataset=tokenized_datasets[\"test\"],\n",
        "    data_collator=data_collator,\n",
        "    tokenizer=tokenizer,\n",
        "    compute_metrics=compute_metrics\n",
        ")\n",
        "\n",
        "trainer.evaluate()"
      ]
    },
    {
      "cell_type": "code",
      "execution_count": null,
      "id": "0f88a098",
      "metadata": {
        "id": "0f88a098",
        "outputId": "87cb7566-c33c-4a79-9cbc-1b87158261b5"
      },
      "outputs": [
        {
          "name": "stdout",
          "output_type": "stream",
          "text": [
            "huggingface/tokenizers: The current process just got forked, after parallelism has already been used. Disabling parallelism to avoid deadlocks...\n",
            "To disable this warning, you can either:\n",
            "\t- Avoid using `tokenizers` before the fork if possible\n",
            "\t- Explicitly set the environment variable TOKENIZERS_PARALLELISM=(true | false)\n",
            "Requirement already satisfied: torch in /Users/gskvortsov/.venv/lib/python3.9/site-packages (2.1.0)\n",
            "Requirement already satisfied: torchvision in /Users/gskvortsov/.venv/lib/python3.9/site-packages (0.16.0)\n",
            "Collecting torchaudio\n",
            "  Obtaining dependency information for torchaudio from https://files.pythonhosted.org/packages/9e/e2/812b1a2a5ec34fe7c0a5cf11b4e62709172fd71783cbc8b7875e3051e8a5/torchaudio-2.1.0-cp39-cp39-macosx_11_0_arm64.whl.metadata\n",
            "  Downloading torchaudio-2.1.0-cp39-cp39-macosx_11_0_arm64.whl.metadata (5.7 kB)\n",
            "Requirement already satisfied: filelock in /Users/gskvortsov/.venv/lib/python3.9/site-packages (from torch) (3.11.0)\n",
            "Requirement already satisfied: typing-extensions in /Users/gskvortsov/.venv/lib/python3.9/site-packages (from torch) (4.5.0)\n",
            "Requirement already satisfied: sympy in /Users/gskvortsov/.venv/lib/python3.9/site-packages (from torch) (1.12)\n",
            "Requirement already satisfied: networkx in /Users/gskvortsov/.venv/lib/python3.9/site-packages (from torch) (3.1)\n",
            "Requirement already satisfied: jinja2 in /Users/gskvortsov/.venv/lib/python3.9/site-packages (from torch) (3.1.2)\n",
            "Requirement already satisfied: fsspec in /Users/gskvortsov/.venv/lib/python3.9/site-packages (from torch) (2023.3.0)\n",
            "Requirement already satisfied: numpy in /Users/gskvortsov/.venv/lib/python3.9/site-packages (from torchvision) (1.25.2)\n",
            "Requirement already satisfied: requests in /Users/gskvortsov/.venv/lib/python3.9/site-packages (from torchvision) (2.25.1)\n",
            "Requirement already satisfied: pillow!=8.3.*,>=5.3.0 in /Users/gskvortsov/.venv/lib/python3.9/site-packages (from torchvision) (9.5.0)\n",
            "Requirement already satisfied: MarkupSafe>=2.0 in /Users/gskvortsov/.venv/lib/python3.9/site-packages (from jinja2->torch) (2.1.2)\n",
            "Requirement already satisfied: chardet<5,>=3.0.2 in /Users/gskvortsov/.venv/lib/python3.9/site-packages (from requests->torchvision) (4.0.0)\n",
            "Requirement already satisfied: idna<3,>=2.5 in /Users/gskvortsov/.venv/lib/python3.9/site-packages (from requests->torchvision) (2.10)\n",
            "Requirement already satisfied: urllib3<1.27,>=1.21.1 in /Users/gskvortsov/.venv/lib/python3.9/site-packages (from requests->torchvision) (1.26.15)\n",
            "Requirement already satisfied: certifi>=2017.4.17 in /Users/gskvortsov/.venv/lib/python3.9/site-packages (from requests->torchvision) (2022.12.7)\n",
            "Requirement already satisfied: mpmath>=0.19 in /Users/gskvortsov/.venv/lib/python3.9/site-packages (from sympy->torch) (1.3.0)\n",
            "Downloading torchaudio-2.1.0-cp39-cp39-macosx_11_0_arm64.whl (1.7 MB)\n",
            "\u001b[2K   \u001b[38;2;114;156;31m━━━━━━━━━━━━━━━━━━━━━━━━━━━━━━━━━━━━━━━━\u001b[0m \u001b[32m1.7/1.7 MB\u001b[0m \u001b[31m43.9 kB/s\u001b[0m eta \u001b[36m0:00:00\u001b[0mm eta \u001b[36m0:00:01\u001b[0m[36m0:00:01\u001b[0mm\n",
            "\u001b[?25hInstalling collected packages: torchaudio\n",
            "Successfully installed torchaudio-2.1.0\n",
            "\n",
            "\u001b[1m[\u001b[0m\u001b[34;49mnotice\u001b[0m\u001b[1;39;49m]\u001b[0m\u001b[39;49m A new release of pip is available: \u001b[0m\u001b[31;49m23.2.1\u001b[0m\u001b[39;49m -> \u001b[0m\u001b[32;49m23.3.1\u001b[0m\n",
            "\u001b[1m[\u001b[0m\u001b[34;49mnotice\u001b[0m\u001b[1;39;49m]\u001b[0m\u001b[39;49m To update, run: \u001b[0m\u001b[32;49mpip install --upgrade pip\u001b[0m\n",
            "Note: you may need to restart the kernel to use updated packages.\n"
          ]
        }
      ],
      "source": [
        "pip install torch torchvision torchaudio"
      ]
    },
    {
      "cell_type": "code",
      "execution_count": null,
      "id": "9441d5bb-9bf3-4f3d-ad2d-24e577ed5418",
      "metadata": {
        "id": "9441d5bb-9bf3-4f3d-ad2d-24e577ed5418"
      },
      "outputs": [],
      "source": [
        "import logging\n",
        "from transformers.trainer import logger as noisy_logger\n",
        "noisy_logger.setLevel(logging.WARNING)"
      ]
    },
    {
      "cell_type": "code",
      "execution_count": null,
      "id": "bf85ec22-19e5-4e10-be46-bf99fb57a815",
      "metadata": {
        "id": "bf85ec22-19e5-4e10-be46-bf99fb57a815"
      },
      "outputs": [],
      "source": [
        "# Для дообучения берта можно эксперементировать с заморозкой/разморозкой разных слоев, здесь мы оставим все слои размороженными\n",
        "# Для быстроты обучения можно заморозить всю бертовую часть, кроме классификатора, но тогда качесвто будет похуже\n",
        "for param in model.parameters():\n",
        "    param.requires_grad = True"
      ]
    },
    {
      "cell_type": "code",
      "execution_count": null,
      "id": "9b907071-d37c-4d5b-8ce6-57aea13663bc",
      "metadata": {
        "id": "9b907071-d37c-4d5b-8ce6-57aea13663bc"
      },
      "outputs": [],
      "source": [
        "args = TrainingArguments(\n",
        "    \"ner\",\n",
        "    evaluation_strategy = \"epoch\",\n",
        "    learning_rate=1e-5,\n",
        "    per_device_train_batch_size=batch_size,\n",
        "    per_device_eval_batch_size=batch_size,\n",
        "    num_train_epochs=20,\n",
        "    weight_decay=0.01,\n",
        "    save_strategy='no',\n",
        "    report_to='none',\n",
        ")"
      ]
    },
    {
      "cell_type": "code",
      "execution_count": null,
      "id": "5195e9a2-2c31-47f0-b539-512c486e99dd",
      "metadata": {
        "id": "5195e9a2-2c31-47f0-b539-512c486e99dd"
      },
      "outputs": [],
      "source": [
        "trainer = Trainer(\n",
        "    model,\n",
        "    args,\n",
        "    train_dataset=tokenized_datasets[\"train\"],\n",
        "    eval_dataset=tokenized_datasets[\"test\"],\n",
        "    data_collator=data_collator,\n",
        "    tokenizer=tokenizer,\n",
        "    compute_metrics=compute_metrics\n",
        ")"
      ]
    },
    {
      "cell_type": "code",
      "execution_count": null,
      "id": "90d12a5c-639b-4d84-a8c0-92b52b3cdf60",
      "metadata": {
        "scrolled": true,
        "id": "90d12a5c-639b-4d84-a8c0-92b52b3cdf60"
      },
      "outputs": [],
      "source": [
        "trainer.train()"
      ]
    },
    {
      "cell_type": "code",
      "execution_count": null,
      "id": "95a36b49-d3d3-4dcc-bb33-5b3cbdb555ce",
      "metadata": {
        "id": "95a36b49-d3d3-4dcc-bb33-5b3cbdb555ce"
      },
      "outputs": [],
      "source": [
        "trainer.evaluate()"
      ]
    },
    {
      "cell_type": "code",
      "execution_count": null,
      "id": "33edf3c3-70e7-49c4-a9b6-842a0eb4f014",
      "metadata": {
        "scrolled": true,
        "id": "33edf3c3-70e7-49c4-a9b6-842a0eb4f014"
      },
      "outputs": [],
      "source": [
        "# Посчитаем метрики на отложенном датасете\n",
        "\n",
        "predictions, labels, _ = trainer.predict(tokenized_datasets[\"test\"])\n",
        "predictions = np.argmax(predictions, axis=2)\n",
        "\n",
        "# Remove ignored index (special tokens)\n",
        "true_predictions = [\n",
        "    [label_list[p] for (p, l) in zip(prediction, label) if l != -100]\n",
        "    for prediction, label in zip(predictions, labels)\n",
        "]\n",
        "true_labels = [\n",
        "    [label_list[l] for (p, l) in zip(prediction, label) if l != -100]\n",
        "    for prediction, label in zip(predictions, labels)\n",
        "]\n",
        "\n",
        "results = metric.compute(predictions=true_predictions, references=true_labels)\n",
        "results"
      ]
    },
    {
      "cell_type": "code",
      "execution_count": null,
      "id": "de83f349-9ba5-42fe-8f5f-780c6f26d918",
      "metadata": {
        "id": "de83f349-9ba5-42fe-8f5f-780c6f26d918"
      },
      "outputs": [],
      "source": [
        "from sklearn.metrics import confusion_matrix\n",
        "import pandas as pd"
      ]
    },
    {
      "cell_type": "code",
      "execution_count": null,
      "id": "eead2c66-11d0-4cb8-ab58-530d2524b941",
      "metadata": {
        "scrolled": true,
        "id": "eead2c66-11d0-4cb8-ab58-530d2524b941"
      },
      "outputs": [],
      "source": [
        "cm = pd.DataFrame(\n",
        "    confusion_matrix(sum(true_labels, []), sum(true_predictions, []), labels=label_list),\n",
        "    index=label_list,\n",
        "    columns=label_list\n",
        ")\n",
        "cm"
      ]
    },
    {
      "cell_type": "code",
      "execution_count": null,
      "id": "b7cd985f-b4f6-4e6f-b28a-a54bf2e59c4a",
      "metadata": {
        "id": "b7cd985f-b4f6-4e6f-b28a-a54bf2e59c4a"
      },
      "outputs": [],
      "source": [
        "model.save_pretrained('ner_bert.bin')\n",
        "tokenizer.save_pretrained('ner_bert.bin')"
      ]
    },
    {
      "cell_type": "markdown",
      "id": "fea14342-bbf6-40c0-aa44-3c2db9c8215b",
      "metadata": {
        "id": "fea14342-bbf6-40c0-aa44-3c2db9c8215b"
      },
      "source": [
        "### Посмотрим на результаты"
      ]
    },
    {
      "cell_type": "code",
      "source": [
        "!pip install transformers\n",
        "!pip install razdel\n",
        "!pip install datasets"
      ],
      "metadata": {
        "colab": {
          "base_uri": "https://localhost:8080/"
        },
        "id": "R-6A52FDc_L4",
        "outputId": "652c6e6c-1ecb-449f-e438-88dc6ae401c3"
      },
      "id": "R-6A52FDc_L4",
      "execution_count": 3,
      "outputs": [
        {
          "output_type": "stream",
          "name": "stdout",
          "text": [
            "Collecting transformers\n",
            "  Downloading transformers-4.34.1-py3-none-any.whl (7.7 MB)\n",
            "\u001b[2K     \u001b[90m━━━━━━━━━━━━━━━━━━━━━━━━━━━━━━━━━━━━━━━━\u001b[0m \u001b[32m7.7/7.7 MB\u001b[0m \u001b[31m60.8 MB/s\u001b[0m eta \u001b[36m0:00:00\u001b[0m\n",
            "\u001b[?25hRequirement already satisfied: filelock in /usr/local/lib/python3.10/dist-packages (from transformers) (3.12.4)\n",
            "Collecting huggingface-hub<1.0,>=0.16.4 (from transformers)\n",
            "  Downloading huggingface_hub-0.18.0-py3-none-any.whl (301 kB)\n",
            "\u001b[2K     \u001b[90m━━━━━━━━━━━━━━━━━━━━━━━━━━━━━━━━━━━━━━━━\u001b[0m \u001b[32m302.0/302.0 kB\u001b[0m \u001b[31m36.4 MB/s\u001b[0m eta \u001b[36m0:00:00\u001b[0m\n",
            "\u001b[?25hRequirement already satisfied: numpy>=1.17 in /usr/local/lib/python3.10/dist-packages (from transformers) (1.23.5)\n",
            "Requirement already satisfied: packaging>=20.0 in /usr/local/lib/python3.10/dist-packages (from transformers) (23.2)\n",
            "Requirement already satisfied: pyyaml>=5.1 in /usr/local/lib/python3.10/dist-packages (from transformers) (6.0.1)\n",
            "Requirement already satisfied: regex!=2019.12.17 in /usr/local/lib/python3.10/dist-packages (from transformers) (2023.6.3)\n",
            "Requirement already satisfied: requests in /usr/local/lib/python3.10/dist-packages (from transformers) (2.31.0)\n",
            "Collecting tokenizers<0.15,>=0.14 (from transformers)\n",
            "  Downloading tokenizers-0.14.1-cp310-cp310-manylinux_2_17_x86_64.manylinux2014_x86_64.whl (3.8 MB)\n",
            "\u001b[2K     \u001b[90m━━━━━━━━━━━━━━━━━━━━━━━━━━━━━━━━━━━━━━━━\u001b[0m \u001b[32m3.8/3.8 MB\u001b[0m \u001b[31m97.9 MB/s\u001b[0m eta \u001b[36m0:00:00\u001b[0m\n",
            "\u001b[?25hCollecting safetensors>=0.3.1 (from transformers)\n",
            "  Downloading safetensors-0.4.0-cp310-cp310-manylinux_2_17_x86_64.manylinux2014_x86_64.whl (1.3 MB)\n",
            "\u001b[2K     \u001b[90m━━━━━━━━━━━━━━━━━━━━━━━━━━━━━━━━━━━━━━━━\u001b[0m \u001b[32m1.3/1.3 MB\u001b[0m \u001b[31m87.5 MB/s\u001b[0m eta \u001b[36m0:00:00\u001b[0m\n",
            "\u001b[?25hRequirement already satisfied: tqdm>=4.27 in /usr/local/lib/python3.10/dist-packages (from transformers) (4.66.1)\n",
            "Requirement already satisfied: fsspec>=2023.5.0 in /usr/local/lib/python3.10/dist-packages (from huggingface-hub<1.0,>=0.16.4->transformers) (2023.6.0)\n",
            "Requirement already satisfied: typing-extensions>=3.7.4.3 in /usr/local/lib/python3.10/dist-packages (from huggingface-hub<1.0,>=0.16.4->transformers) (4.5.0)\n",
            "Collecting huggingface-hub<1.0,>=0.16.4 (from transformers)\n",
            "  Downloading huggingface_hub-0.17.3-py3-none-any.whl (295 kB)\n",
            "\u001b[2K     \u001b[90m━━━━━━━━━━━━━━━━━━━━━━━━━━━━━━━━━━━━━━━━\u001b[0m \u001b[32m295.0/295.0 kB\u001b[0m \u001b[31m32.7 MB/s\u001b[0m eta \u001b[36m0:00:00\u001b[0m\n",
            "\u001b[?25hRequirement already satisfied: charset-normalizer<4,>=2 in /usr/local/lib/python3.10/dist-packages (from requests->transformers) (3.3.1)\n",
            "Requirement already satisfied: idna<4,>=2.5 in /usr/local/lib/python3.10/dist-packages (from requests->transformers) (3.4)\n",
            "Requirement already satisfied: urllib3<3,>=1.21.1 in /usr/local/lib/python3.10/dist-packages (from requests->transformers) (2.0.7)\n",
            "Requirement already satisfied: certifi>=2017.4.17 in /usr/local/lib/python3.10/dist-packages (from requests->transformers) (2023.7.22)\n",
            "Installing collected packages: safetensors, huggingface-hub, tokenizers, transformers\n",
            "Successfully installed huggingface-hub-0.17.3 safetensors-0.4.0 tokenizers-0.14.1 transformers-4.34.1\n",
            "Collecting razdel\n",
            "  Downloading razdel-0.5.0-py3-none-any.whl (21 kB)\n",
            "Installing collected packages: razdel\n",
            "Successfully installed razdel-0.5.0\n",
            "Collecting datasets\n",
            "  Downloading datasets-2.14.6-py3-none-any.whl (493 kB)\n",
            "\u001b[2K     \u001b[90m━━━━━━━━━━━━━━━━━━━━━━━━━━━━━━━━━━━━━━━━\u001b[0m \u001b[32m493.7/493.7 kB\u001b[0m \u001b[31m7.4 MB/s\u001b[0m eta \u001b[36m0:00:00\u001b[0m\n",
            "\u001b[?25hRequirement already satisfied: numpy>=1.17 in /usr/local/lib/python3.10/dist-packages (from datasets) (1.23.5)\n",
            "Requirement already satisfied: pyarrow>=8.0.0 in /usr/local/lib/python3.10/dist-packages (from datasets) (9.0.0)\n",
            "Collecting dill<0.3.8,>=0.3.0 (from datasets)\n",
            "  Downloading dill-0.3.7-py3-none-any.whl (115 kB)\n",
            "\u001b[2K     \u001b[90m━━━━━━━━━━━━━━━━━━━━━━━━━━━━━━━━━━━━━━━━\u001b[0m \u001b[32m115.3/115.3 kB\u001b[0m \u001b[31m8.5 MB/s\u001b[0m eta \u001b[36m0:00:00\u001b[0m\n",
            "\u001b[?25hRequirement already satisfied: pandas in /usr/local/lib/python3.10/dist-packages (from datasets) (1.5.3)\n",
            "Requirement already satisfied: requests>=2.19.0 in /usr/local/lib/python3.10/dist-packages (from datasets) (2.31.0)\n",
            "Requirement already satisfied: tqdm>=4.62.1 in /usr/local/lib/python3.10/dist-packages (from datasets) (4.66.1)\n",
            "Requirement already satisfied: xxhash in /usr/local/lib/python3.10/dist-packages (from datasets) (3.4.1)\n",
            "Collecting multiprocess (from datasets)\n",
            "  Downloading multiprocess-0.70.15-py310-none-any.whl (134 kB)\n",
            "\u001b[2K     \u001b[90m━━━━━━━━━━━━━━━━━━━━━━━━━━━━━━━━━━━━━━━━\u001b[0m \u001b[32m134.8/134.8 kB\u001b[0m \u001b[31m9.3 MB/s\u001b[0m eta \u001b[36m0:00:00\u001b[0m\n",
            "\u001b[?25hRequirement already satisfied: fsspec[http]<=2023.10.0,>=2023.1.0 in /usr/local/lib/python3.10/dist-packages (from datasets) (2023.6.0)\n",
            "Requirement already satisfied: aiohttp in /usr/local/lib/python3.10/dist-packages (from datasets) (3.8.6)\n",
            "Requirement already satisfied: huggingface-hub<1.0.0,>=0.14.0 in /usr/local/lib/python3.10/dist-packages (from datasets) (0.17.3)\n",
            "Requirement already satisfied: packaging in /usr/local/lib/python3.10/dist-packages (from datasets) (23.2)\n",
            "Requirement already satisfied: pyyaml>=5.1 in /usr/local/lib/python3.10/dist-packages (from datasets) (6.0.1)\n",
            "Requirement already satisfied: attrs>=17.3.0 in /usr/local/lib/python3.10/dist-packages (from aiohttp->datasets) (23.1.0)\n",
            "Requirement already satisfied: charset-normalizer<4.0,>=2.0 in /usr/local/lib/python3.10/dist-packages (from aiohttp->datasets) (3.3.1)\n",
            "Requirement already satisfied: multidict<7.0,>=4.5 in /usr/local/lib/python3.10/dist-packages (from aiohttp->datasets) (6.0.4)\n",
            "Requirement already satisfied: async-timeout<5.0,>=4.0.0a3 in /usr/local/lib/python3.10/dist-packages (from aiohttp->datasets) (4.0.3)\n",
            "Requirement already satisfied: yarl<2.0,>=1.0 in /usr/local/lib/python3.10/dist-packages (from aiohttp->datasets) (1.9.2)\n",
            "Requirement already satisfied: frozenlist>=1.1.1 in /usr/local/lib/python3.10/dist-packages (from aiohttp->datasets) (1.4.0)\n",
            "Requirement already satisfied: aiosignal>=1.1.2 in /usr/local/lib/python3.10/dist-packages (from aiohttp->datasets) (1.3.1)\n",
            "Requirement already satisfied: filelock in /usr/local/lib/python3.10/dist-packages (from huggingface-hub<1.0.0,>=0.14.0->datasets) (3.12.4)\n",
            "Requirement already satisfied: typing-extensions>=3.7.4.3 in /usr/local/lib/python3.10/dist-packages (from huggingface-hub<1.0.0,>=0.14.0->datasets) (4.5.0)\n",
            "Requirement already satisfied: idna<4,>=2.5 in /usr/local/lib/python3.10/dist-packages (from requests>=2.19.0->datasets) (3.4)\n",
            "Requirement already satisfied: urllib3<3,>=1.21.1 in /usr/local/lib/python3.10/dist-packages (from requests>=2.19.0->datasets) (2.0.7)\n",
            "Requirement already satisfied: certifi>=2017.4.17 in /usr/local/lib/python3.10/dist-packages (from requests>=2.19.0->datasets) (2023.7.22)\n",
            "Requirement already satisfied: python-dateutil>=2.8.1 in /usr/local/lib/python3.10/dist-packages (from pandas->datasets) (2.8.2)\n",
            "Requirement already satisfied: pytz>=2020.1 in /usr/local/lib/python3.10/dist-packages (from pandas->datasets) (2023.3.post1)\n",
            "Requirement already satisfied: six>=1.5 in /usr/local/lib/python3.10/dist-packages (from python-dateutil>=2.8.1->pandas->datasets) (1.16.0)\n",
            "Installing collected packages: dill, multiprocess, datasets\n",
            "Successfully installed datasets-2.14.6 dill-0.3.7 multiprocess-0.70.15\n"
          ]
        }
      ]
    },
    {
      "cell_type": "code",
      "source": [
        "from google.colab import drive\n",
        "drive.mount('/content/drive')"
      ],
      "metadata": {
        "colab": {
          "base_uri": "https://localhost:8080/"
        },
        "id": "k6ac-BvMZ8rT",
        "outputId": "fdd3e545-8e79-44d4-a93f-39a04c7fb305"
      },
      "id": "k6ac-BvMZ8rT",
      "execution_count": 1,
      "outputs": [
        {
          "output_type": "stream",
          "name": "stdout",
          "text": [
            "Mounted at /content/drive\n"
          ]
        }
      ]
    },
    {
      "cell_type": "code",
      "execution_count": 41,
      "id": "2519aaaf-02b8-4f66-885c-8930073508a6",
      "metadata": {
        "id": "2519aaaf-02b8-4f66-885c-8930073508a6"
      },
      "outputs": [],
      "source": [
        "import pandas as pd\n",
        "import json\n",
        "import torch\n",
        "\n",
        "data1 = pd.read_csv(\"/content/drive/MyDrive/ner_DP/ner_data_test.csv\")\n",
        "\n",
        "df1 = data1.copy()\n",
        "df1['entities'] = df1['entities'].apply(lambda l: l.replace('\\,', ',')if isinstance(l, str) else l)\n",
        "df1['entities'] = df1['entities'].apply(lambda l: l.replace('\\\\\\\\', '\\\\')if isinstance(l, str) else l)\n",
        "df1['entities'] = df1['entities'].apply(lambda l: '[' + l + ']'if isinstance(l, str) else l)\n",
        "df1['entities'] = df1['entities'].apply(lambda l: json.loads(l)if isinstance(l, str) else l)\n",
        "\n",
        "# Теперь из наших данных нам нужно извлечь для каждого слова (токена) его тег (label) из разметки, чтобы потом предать в модель классификации токенов\n",
        "from razdel import tokenize\n",
        "\n",
        "def extract_labels(item):\n",
        "\n",
        "    # воспользуемся удобным токенайзером из библиотеки razdel,\n",
        "    # она помимо разбиения на слова, сохраняет важные для нас числа - начало и конец слова в токенах\n",
        "\n",
        "    raw_toks = list(tokenize(item['video_info']))\n",
        "    words = [tok.text for tok in raw_toks]\n",
        "    # присвоим для начала каждому слову тег 'О' - тег, означающий отсутствие NER-а\n",
        "    word_labels = ['O'] * len(raw_toks)\n",
        "    char2word = [None] * len(item['video_info'])\n",
        "    # так как NER можем состаять из нескольких слов, то нам нужно сохранить эту инфорцию\n",
        "    for i, word in enumerate(raw_toks):\n",
        "        char2word[word.start:word.stop] = [i] * len(word.text)\n",
        "\n",
        "    labels = item['entities']\n",
        "    if isinstance(labels, dict):\n",
        "        labels = [labels]\n",
        "    if labels is not None:\n",
        "        for e in labels:\n",
        "            if e['label'] != 'не найдено':\n",
        "                e_words = sorted({idx for idx in char2word[e['offset']:e['offset']+e['length']] if idx is not None})\n",
        "                if e_words:\n",
        "                    word_labels[e_words[0]] = 'B-' + e['label']\n",
        "                    for idx in e_words[1:]:\n",
        "                        word_labels[idx] = 'I-' + e['label']\n",
        "                else:\n",
        "                    continue\n",
        "            else:\n",
        "                continue\n",
        "        return {'tokens': words, 'tags': word_labels}\n",
        "    else: return {'tokens': words, 'tags': word_labels}\n",
        "\n",
        "# ner_data = [extract_labels(item) for i, item in df1.iterrows()]\n"
      ]
    },
    {
      "cell_type": "code",
      "source": [
        "ner_data[0]"
      ],
      "metadata": {
        "id": "z2cB8oYgcjeB"
      },
      "id": "z2cB8oYgcjeB",
      "execution_count": null,
      "outputs": []
    },
    {
      "cell_type": "code",
      "execution_count": null,
      "id": "daee5bc1-634c-4bde-aa51-64425aba5931",
      "metadata": {
        "id": "daee5bc1-634c-4bde-aa51-64425aba5931"
      },
      "outputs": [],
      "source": [
        "# import torch\n",
        "# from transformers import pipeline\n",
        "# from transformers import AutoModelForTokenClassification\n",
        "# from transformers import AutoTokenizer\n",
        "\n",
        "# def predict_ner(text, tokenizer, model, pipe, verbose=True):\n",
        "#     tokens = tokenizer(text, truncation=True, is_split_into_words=True, return_tensors='pt')\n",
        "#     tokens = {k: v.to(model.device) for k, v in tokens.items()}\n",
        "\n",
        "#     with torch.no_grad():\n",
        "#         pred = model(**tokens)\n",
        "#     # print(pred.logits.shape)\n",
        "#     indices = pred.logits.argmax(dim=-1)[0].cpu().numpy()\n",
        "#     token_text = tokenizer.convert_ids_to_tokens(tokens['input_ids'][0])\n",
        "#     labels = []\n",
        "#     for t, idx in zip(token_text, indices):\n",
        "#         if '##' not in t:\n",
        "#             labels.append(label_list[idx])\n",
        "#         if verbose:\n",
        "#             print(f'{t:15s} {label_list[idx]:10s}')\n",
        "#     return text, pipe(text), labels\n",
        "\n",
        "# def tokenize_and_align_labels(examples, label_all_tokens=True):\n",
        "    # tokenized_inputs = tokenizer(examples[\"tokens\"], truncation=True, is_split_into_words=True)\n",
        "\n",
        "    # labels = []\n",
        "    # for i, label in enumerate(examples['tags']):\n",
        "    #     word_ids = tokenized_inputs.word_ids(batch_index=i)\n",
        "    #     previous_word_idx = None\n",
        "    #     label_ids = []\n",
        "    #     for word_idx in word_ids:\n",
        "    #         # Special tokens have a word id that is None. We set the label to -100 so they are automatically\n",
        "    #         # ignored in the loss function.\n",
        "    #         if word_idx is None:\n",
        "    #             label_ids.append(-100)\n",
        "    #         # We set the label for the first token of each word.\n",
        "    #         elif word_idx != previous_word_idx:\n",
        "    #             label_ids.append(label[word_idx])\n",
        "    #         # For the other tokens in a word, we set the label to either the current label or -100, depending on\n",
        "    #         # the label_all_tokens flag.\n",
        "    #         else:\n",
        "    #             label_ids.append(label[word_idx] if label_all_tokens else -100)\n",
        "    #         previous_word_idx = word_idx\n",
        "\n",
        "    #     label_ids = [label_list.index(idx) if isinstance(idx, str) else idx for idx in label_ids]\n",
        "\n",
        "    #     labels.append(label_ids)\n",
        "\n",
        "    # tokenized_inputs[\"labels\"] = labels\n",
        "    # return tokenized_inputs"
      ]
    },
    {
      "cell_type": "code",
      "execution_count": 50,
      "id": "d93a3a44-a23d-4615-8885-63da60761d78",
      "metadata": {
        "id": "d93a3a44-a23d-4615-8885-63da60761d78"
      },
      "outputs": [],
      "source": [
        "from transformers import pipeline\n",
        "from transformers import AutoModelForTokenClassification\n",
        "from transformers import AutoTokenizer\n",
        "\n",
        "model_check = '/content/drive/MyDrive/ner_DP/distilbert/ner_bert'\n",
        "\n",
        "model = AutoModelForTokenClassification.from_pretrained(model_check) # num_labels=len(label_list)\n",
        "tokenizer = AutoTokenizer.from_pretrained(model_check, device='cpu')\n",
        "pipe = pipeline(model=model, tokenizer=tokenizer, task='ner', aggregation_strategy='average', device='cpu')\n"
      ]
    },
    {
      "cell_type": "code",
      "source": [
        "# from datasets import Dataset, DatasetDict\n",
        "\n",
        "# ner_data = DatasetDict({\n",
        "#     'data': Dataset.from_pandas(pd.DataFrame(ner_data))\n",
        "# })\n",
        "\n",
        "# tokenized_datasets = ner_data.map(tokenize_and_align_labels, batched=True)"
      ],
      "metadata": {
        "id": "MOvPDyAcdqcf"
      },
      "id": "MOvPDyAcdqcf",
      "execution_count": null,
      "outputs": []
    },
    {
      "cell_type": "code",
      "execution_count": null,
      "id": "7f3f580a-4542-42ea-98f4-de4a89fed35d",
      "metadata": {
        "id": "7f3f580a-4542-42ea-98f4-de4a89fed35d"
      },
      "outputs": [],
      "source": [
        "ner_data[0]"
      ]
    },
    {
      "cell_type": "markdown",
      "id": "b333764e-e82d-4c8f-9f89-8390f92da7cb",
      "metadata": {
        "id": "b333764e-e82d-4c8f-9f89-8390f92da7cb"
      },
      "source": [
        "### Тестового датасета у вас пока нет, по которому будет считаться метрика на лидерборде, но прогоним для примера через нашу отложенную выборку, чтобы понять формат выходных данных.\n",
        "ВАЖНО: в тестовом датасете у вас будет тест в том же формате, что он был в трейне 'video_info', в финальном сабмишене эту колонку и индексы менять нельзя, нужно будет только заполнить колонку 'entities_prediction'"
      ]
    },
    {
      "cell_type": "code",
      "source": [
        "import torch\n",
        "from transformers import pipeline\n",
        "import re\n",
        "from tqdm import tqdm\n",
        "\n",
        "# Теперь из наших данных нам нужно извлечь для каждого слова (токена) его тег (label) из разметки, чтобы потом предать в модель классификации токенов\n",
        "from razdel import tokenize\n",
        "\n",
        "def extract_labels(item):\n",
        "\n",
        "    # воспользуемся удобным токенайзером из библиотеки razdel,\n",
        "    # она помимо разбиения на слова, сохраняет важные для нас числа - начало и конец слова в токенах\n",
        "\n",
        "    raw_toks = list(tokenize(item['video_info']))\n",
        "    words = [tok.text for tok in raw_toks]\n",
        "    # присвоим для начала каждому слову тег 'О' - тег, означающий отсутствие NER-а\n",
        "    word_labels = ['O'] * len(raw_toks)\n",
        "    char2word = [None] * len(item['video_info'])\n",
        "    # так как NER можем состаять из нескольких слов, то нам нужно сохранить эту инфорцию\n",
        "    for i, word in enumerate(raw_toks):\n",
        "        char2word[word.start:word.stop] = [i] * len(word.text)\n",
        "\n",
        "    labels = None\n",
        "    if labels is not None:\n",
        "        for e in labels:\n",
        "            if e['label'] != 'не найдено':\n",
        "                e_words = sorted({idx for idx in char2word[e['offset']:e['offset']+e['length']] if idx is not None})\n",
        "                if e_words:\n",
        "                    word_labels[e_words[0]] = 'B-' + e['label']\n",
        "                    for idx in e_words[1:]:\n",
        "                        word_labels[idx] = 'I-' + e['label']\n",
        "                else:\n",
        "                    continue\n",
        "            else:\n",
        "                continue\n",
        "        return {'tokens': words, 'tags': word_labels}\n",
        "    else: return {'tokens': words, 'tags': word_labels}\n",
        "\n",
        "def predict_ner(text, tokenizer, model, pipe, verbose=True):\n",
        "\n",
        "    dismissed_token = re.compile(r'\\xad+|\\u200b+')\n",
        "    text = [re.sub(dismissed_token, '[UNK]', tok) for tok in text]\n",
        "\n",
        "    # print(text)\n",
        "\n",
        "    tokens = tokenizer(text, truncation=True, is_split_into_words=True, return_tensors='pt')\n",
        "    words = tokens.words()\n",
        "\n",
        "    tokens = {k: v.to(model.device) for k, v in tokens.items()}\n",
        "\n",
        "    with torch.no_grad():\n",
        "        pred = model(**tokens)\n",
        "\n",
        "    indices = pred.logits.argmax(dim=-1)[0].cpu().numpy()\n",
        "    # print('indices', indices)\n",
        "    labels = []\n",
        "    prev=words[1] # это всегда ноль - первое слово\n",
        "    # print(prev)\n",
        "    labels = [label_list[indices[1]]]\n",
        "    # print(labels)\n",
        "    for word, tag in zip(words[1:-1], indices[1:-1]):\n",
        "        if word != prev:\n",
        "            labels.append(label_list[tag])\n",
        "            prev=word\n",
        "    return labels\n",
        "\n",
        "\n",
        "submission = pd.DataFrame(columns=[['video_info', 'entities_prediction']])\n",
        "submission['entities_prediction'] = submission['entities_prediction'].astype('object')\n",
        "\n",
        "def sample_submission(df, tokenizer, model, pipe, submission):\n",
        "\n",
        "    for i, elem in tqdm(df.iterrows()):\n",
        "        tokens = extract_labels(elem)\n",
        "        labels = predict_ner(tokens['tokens'], tokenizer, model, pipe, verbose=False)\n",
        "        if len(tokens['tokens'])!= len(labels):\n",
        "            print(tokens['tokens'])\n",
        "        submission.loc[i, 'video_info'] = elem['video_info']\n",
        "\n",
        "        submission.loc[i, 'entities_prediction'] = [[label] for label in labels]\n",
        "    return submission"
      ],
      "metadata": {
        "id": "gGCcDD_hwY4P"
      },
      "id": "gGCcDD_hwY4P",
      "execution_count": 44,
      "outputs": []
    },
    {
      "cell_type": "code",
      "source": [],
      "metadata": {
        "id": "AOLijIP960iL"
      },
      "id": "AOLijIP960iL",
      "execution_count": null,
      "outputs": []
    },
    {
      "cell_type": "code",
      "source": [
        "res.to_csv('/content/drive/MyDrive/ner_DP/result_total_2_1.csv', index=False)"
      ],
      "metadata": {
        "id": "zl2a-X7s60kT"
      },
      "id": "zl2a-X7s60kT",
      "execution_count": null,
      "outputs": []
    },
    {
      "cell_type": "code",
      "source": [],
      "metadata": {
        "id": "Zy3TJBmY60oD"
      },
      "id": "Zy3TJBmY60oD",
      "execution_count": null,
      "outputs": []
    },
    {
      "cell_type": "code",
      "source": [],
      "metadata": {
        "id": "pfmbjrpk60qa"
      },
      "id": "pfmbjrpk60qa",
      "execution_count": null,
      "outputs": []
    },
    {
      "cell_type": "code",
      "execution_count": null,
      "id": "6d5ccfdd-46aa-49a0-af51-c7adea1d0237",
      "metadata": {
        "id": "6d5ccfdd-46aa-49a0-af51-c7adea1d0237"
      },
      "outputs": [],
      "source": [
        "# from tqdm.notebook import tqdm\n",
        "\n",
        "# submission = pd.DataFrame(columns=[['video_info', 'entities_prediction']])\n",
        "# submission['entities_prediction'] = submission['entities_prediction'].astype('object')\n",
        "\n",
        "# def sample_submission(data, tokenizer, model, pipe, submission):\n",
        "#     i = 0\n",
        "#     for elem, text in tqdm(zip(data, data1['video_info'])):\n",
        "#         # print(elem)\n",
        "#         # print(text)\n",
        "#         _, _, labels = predict_ner(elem['tokens'], tokenizer, model, pipe, verbose=False)\n",
        "#         submission.loc[i, 'video_info'] = text\n",
        "\n",
        "#         submission.loc[i, 'entities_prediction'] = [[label] for label in labels]\n",
        "#         i += 1\n",
        "#     return submission\n",
        "'''\n",
        "['<', 'НАЗВАНИЕ', ':', '>', 'Масложор', 'после', 'удаления', 'катализатора', 'и'\n",
        "['<', 'НАЗВАНИЕ', ':', '>', '33', '💎с', 'Сэмюэлем', '.', 'Я', 'ОХОЧУСЬ', 'НА', 'ТЕБЯ',\n",
        "['<', 'НАЗВАНИЕ', ':', '>', 'ДОГАДКИ', ',', 'ГИПОТИЗЫ', 'И', 'СТРАШН\n",
        "['<', 'НАЗВАНИЕ', ':', '>', 'ВЛАД', 'ОСОЗНАЁТ', 'ОШИ\n",
        "<', 'НАЗВАНИЕ', ':', '>', 'ТАНЦЫ', 'С', 'СОБАЧКОЙ',\n",
        "['<', 'НАЗВАНИЕ', ':', '>', 'Вариаторный', 'впуск', 'или', 'впуск',\n",
        "['<', 'НАЗВАНИЕ', ':', '>', 'Проблема', 'опускания', 'люльки', 'на', 'автовышке', 'Manotti', '"
      ]
    },
    {
      "cell_type": "code",
      "source": [
        "l1 = [len(x[0]) for x in result['entities_prediction'].values.tolist()]"
      ],
      "metadata": {
        "id": "9cIqS5XQwrTr"
      },
      "id": "9cIqS5XQwrTr",
      "execution_count": 74,
      "outputs": []
    },
    {
      "cell_type": "code",
      "source": [
        "l2 = [len(x.split(',')) for x in list(pd.read_csv('/content/submission.csv')['entities_prediction'].iloc[1145])]\n",
        "l1 = [len(x.split(',')) for x in list(pd.read_csv('/content/drive/MyDrive/ner_DP/result_total_2.csv')['entities_prediction'].iloc[1145])]"
      ],
      "metadata": {
        "id": "lY--_mfi5cV4"
      },
      "id": "lY--_mfi5cV4",
      "execution_count": 126,
      "outputs": []
    },
    {
      "cell_type": "code",
      "source": [
        "# for c, (i, j) in enumerate(zip(l1, l2)):\n",
        "#   if i != j:\n",
        "#     print(i, j, c)\n",
        "len(l1), len(l2)"
      ],
      "metadata": {
        "colab": {
          "base_uri": "https://localhost:8080/"
        },
        "id": "veyzX_xf0GgV",
        "outputId": "7cd26a7d-5b56-40ce-d3bd-7c48359fa064"
      },
      "id": "veyzX_xf0GgV",
      "execution_count": 127,
      "outputs": [
        {
          "output_type": "execute_result",
          "data": {
            "text/plain": [
              "(940, 970)"
            ]
          },
          "metadata": {},
          "execution_count": 127
        }
      ]
    },
    {
      "cell_type": "code",
      "source": [
        "len(eval(res.iloc[1145]['entities_prediction']))"
      ],
      "metadata": {
        "colab": {
          "base_uri": "https://localhost:8080/"
        },
        "id": "FER-kTInycXa",
        "outputId": "632e1454-84bc-4a11-a200-49a2840a1a68"
      },
      "id": "FER-kTInycXa",
      "execution_count": 121,
      "outputs": [
        {
          "output_type": "execute_result",
          "data": {
            "text/plain": [
              "194"
            ]
          },
          "metadata": {},
          "execution_count": 121
        }
      ]
    },
    {
      "cell_type": "code",
      "source": [
        "print(eval(pd.read_csv('/content/submission.csv').iloc[1145]['entities_prediction']))"
      ],
      "metadata": {
        "colab": {
          "base_uri": "https://localhost:8080/"
        },
        "id": "t0k8p7Ec098t",
        "outputId": "c227cf05-0fdb-4a91-f8ef-64800fc6ac1e"
      },
      "id": "t0k8p7Ec098t",
      "execution_count": 108,
      "outputs": [
        {
          "output_type": "stream",
          "name": "stdout",
          "text": [
            "['O', 'O', 'O', 'O', 'O', 'O', 'O', 'O', 'O', 'O', 'O', 'O', 'O', 'O', 'O', 'O', 'O', 'O', 'O', 'O', 'O', 'O', 'O', 'O', 'O', 'O', 'O', 'O', 'O', 'O', 'O', 'O', 'O', 'O', 'O', 'O', 'O', 'O', 'O', 'O', 'O', 'O', 'O', 'O', 'O', 'O', 'O', 'O', 'O', 'O', 'O', 'O', 'O', 'O', 'O', 'O', 'O', 'O', 'O', 'O', 'O', 'O', 'O', 'O', 'O', 'O', 'O', 'O', 'O', 'O', 'O', 'O', 'O', 'O', 'O', 'O', 'O', 'O', 'O', 'O', 'O', 'O', 'O', 'O', 'O', 'O', 'O', 'O', 'O', 'O', 'O', 'O', 'O', 'O', 'O', 'O', 'O', 'O', 'O', 'O', 'O', 'O', 'O', 'O', 'O', 'O', 'O', 'O', 'O', 'O', 'O', 'O', 'O', 'O', 'O', 'O', 'O', 'O', 'O', 'O', 'O', 'O', 'O', 'O', 'O', 'O', 'O', 'O', 'O', 'O', 'O', 'O', 'O', 'O', 'O', 'O', 'O', 'O', 'O', 'O', 'O', 'O', 'O', 'O', 'O', 'O', 'O', 'O', 'O', 'O', 'O', 'O', 'O', 'O', 'O', 'O', 'O', 'O', 'O', 'O', 'O', 'O', 'O', 'O', 'O', 'O', 'O', 'O', 'O', 'O', 'O', 'O', 'O', 'O', 'O', 'O', 'O', 'O', 'O', 'O', 'O', 'O', 'O', 'O', 'O', 'O', 'O', 'O', 'O', 'O', 'O', 'O', 'O', 'O']\n"
          ]
        }
      ]
    },
    {
      "cell_type": "code",
      "source": [
        "res = pd.read_csv('/content/drive/MyDrive/ner_DP/result_total_2.csv')\n",
        "res.iloc[1145]['entities_prediction'] = str(['O', 'O', 'O', 'O', 'O', 'O', 'O', 'O', 'O', 'O', 'O', 'O', 'O', 'O', 'O', 'O', 'O', 'O', 'O', 'O', 'O', 'O', 'O', 'O', 'O', 'O', 'O', 'O', 'O', 'O', 'O', 'O', 'O', 'O', 'O', 'O', 'O', 'O', 'O', 'O', 'O', 'O', 'O', 'O', 'O', 'O', 'O', 'O', 'O', 'O', 'O', 'O', 'O', 'O', 'O', 'O', 'O', 'O', 'O', 'O', 'O', 'O', 'O', 'O', 'O', 'O', 'O', 'O', 'O', 'O', 'O', 'O', 'O', 'O', 'O', 'O', 'O', 'O', 'O', 'O', 'O', 'O', 'O', 'O', 'O', 'O', 'O', 'O', 'O', 'O', 'O', 'O', 'O', 'O', 'O', 'O', 'O', 'O', 'O', 'O', 'O', 'O', 'O', 'O', 'O', 'O', 'O', 'O', 'O', 'O', 'O', 'O', 'O', 'O', 'O', 'O', 'O', 'O', 'O', 'O', 'O', 'O', 'O', 'O', 'O', 'O', 'O', 'O', 'O', 'O', 'O', 'O', 'O', 'O', 'O', 'O', 'O', 'O', 'O', 'O', 'O', 'O', 'O', 'O', 'O', 'O', 'O', 'O', 'O', 'O', 'O', 'O', 'O', 'O', 'O', 'O', 'O', 'O', 'O', 'O', 'O', 'O', 'O', 'O', 'O', 'O', 'O', 'O', 'O', 'O', 'O', 'O', 'O', 'O', 'O', 'O', 'O', 'O', 'O', 'O', 'O', 'O', 'O', 'O', 'O', 'O', 'O', 'O', 'O', 'O', 'O', 'O', 'O', 'O'])"
      ],
      "metadata": {
        "id": "HZ0lNzCl1eDV"
      },
      "id": "HZ0lNzCl1eDV",
      "execution_count": 124,
      "outputs": []
    },
    {
      "cell_type": "code",
      "source": [
        "res.to_csv('/content/drive/MyDrive/ner_DP/result_total_2_1.csv', index=False)"
      ],
      "metadata": {
        "id": "JwVUa4372mML"
      },
      "id": "JwVUa4372mML",
      "execution_count": 125,
      "outputs": []
    },
    {
      "cell_type": "code",
      "source": [
        "res.iloc[1145]['entities_prediction'])"
      ],
      "metadata": {
        "colab": {
          "base_uri": "https://localhost:8080/",
          "height": 175
        },
        "id": "DbuErT362N73",
        "outputId": "a3656f24-68b1-4380-82b1-6a888437d213"
      },
      "id": "DbuErT362N73",
      "execution_count": 119,
      "outputs": [
        {
          "output_type": "error",
          "ename": "TypeError",
          "evalue": "ignored",
          "traceback": [
            "\u001b[0;31m---------------------------------------------------------------------------\u001b[0m",
            "\u001b[0;31mTypeError\u001b[0m                                 Traceback (most recent call last)",
            "\u001b[0;32m<ipython-input-119-28f889a5783c>\u001b[0m in \u001b[0;36m<cell line: 1>\u001b[0;34m()\u001b[0m\n\u001b[0;32m----> 1\u001b[0;31m \u001b[0meval\u001b[0m\u001b[0;34m(\u001b[0m\u001b[0mres\u001b[0m\u001b[0;34m.\u001b[0m\u001b[0miloc\u001b[0m\u001b[0;34m[\u001b[0m\u001b[0;36m1145\u001b[0m\u001b[0;34m]\u001b[0m\u001b[0;34m[\u001b[0m\u001b[0;34m'entities_prediction'\u001b[0m\u001b[0;34m]\u001b[0m\u001b[0;34m)\u001b[0m\u001b[0;34m\u001b[0m\u001b[0;34m\u001b[0m\u001b[0m\n\u001b[0m",
            "\u001b[0;31mTypeError\u001b[0m: eval() arg 1 must be a string, bytes or code object"
          ]
        }
      ]
    },
    {
      "cell_type": "code",
      "source": [
        "['O', 'O', 'O', 'O', 'O', 'O', 'O', 'O', 'O', 'O', 'O', 'O', 'O', 'O', 'O', 'O', 'O', 'O', 'O', 'O', 'O', 'O', 'O', 'O', 'O', 'O', 'O', 'O', 'O', 'O', 'O', 'O', 'O', 'O', 'O', 'O', 'O', 'O', 'O', 'O', 'O', 'O', 'O', 'O', 'O', 'O', 'O', 'O', 'O', 'O', 'O', 'O', 'O', 'O', 'O', 'O', 'O', 'O', 'O', 'O', 'O', 'O', 'O', 'O', 'O', 'O', 'O', 'O', 'O', 'O', 'O', 'O', 'O', 'O', 'O', 'O', 'O', 'O', 'O', 'O', 'O', 'O', 'O', 'O', 'O', 'O', 'O', 'O', 'O', 'O', 'O', 'O', 'O', 'O', 'O', 'O', 'O', 'O', 'O', 'O', 'O', 'O', 'O', 'O', 'O', 'O', 'O', 'O', 'O', 'O', 'O', 'O', 'O', 'O', 'O', 'O', 'O', 'O', 'O', 'O', 'O', 'O', 'O', 'O', 'O', 'O', 'O', 'O', 'O', 'O', 'O', 'O', 'O', 'O', 'O', 'O', 'O', 'O', 'O', 'O', 'O', 'O', 'O', 'O', 'O', 'O', 'O', 'O', 'O', 'O', 'O', 'O', 'O', 'O', 'O', 'O', 'O', 'O', 'O', 'O', 'O', 'O', 'O', 'O', 'O', 'O', 'O', 'O', 'O', 'O', 'O', 'O', 'O', 'O', 'O', 'O', 'O', 'O', 'O', 'O', 'O', 'O', 'O', 'O', 'O', 'O', 'O', 'O', 'O', 'O', 'O', 'O', 'O', 'O']\n"
      ],
      "metadata": {
        "id": "d34OwOcf17_p"
      },
      "id": "d34OwOcf17_p",
      "execution_count": null,
      "outputs": []
    },
    {
      "cell_type": "code",
      "source": [
        "pd.read_csv('/content/submission.csv')"
      ],
      "metadata": {
        "colab": {
          "base_uri": "https://localhost:8080/",
          "height": 423
        },
        "id": "tMJ1Jt7Mxr_2",
        "outputId": "82034790-d840-4726-8091-abe3a40af745"
      },
      "id": "tMJ1Jt7Mxr_2",
      "execution_count": 85,
      "outputs": [
        {
          "output_type": "execute_result",
          "data": {
            "text/plain": [
              "                                             video_info  \\\n",
              "0     <НАЗВАНИЕ:> БОЕЦ БЕЗ ПРАВИЛ, ТРЕЙЛЕР на русско...   \n",
              "1     <НАЗВАНИЕ:> ШОК! КАК ЖЕ ЭТОМУ БОМЖУ ВЕЗЕТ В Br...   \n",
              "2     <НАЗВАНИЕ:> ДРЕВНИЕ РОБОТЫ NATASHA TALON И LEO...   \n",
              "3     <НАЗВАНИЕ:> ЖЕНА ПУТЕШЕСТВЕННИКА ВО ВРЕМЕНИ = ...   \n",
              "4     <НАЗВАНИЕ:> Кинозал ДК приглашает на мультфиль...   \n",
              "...                                                 ...   \n",
              "1601  <НАЗВАНИЕ:> Милейшие детеныши животных, которы...   \n",
              "1602  <НАЗВАНИЕ:> Диана Шурыгина набросилась на зрит...   \n",
              "1603  <НАЗВАНИЕ:> Губернатор Евгений Куйвашев и непо...   \n",
              "1604  <НАЗВАНИЕ:> Александр Горелов = о вакцинации о...   \n",
              "1605  <НАЗВАНИЕ:> Смотрела УЖАСТИК и забыла, что не ...   \n",
              "\n",
              "                                    entities_prediction  \n",
              "0     ['O', 'O', 'O', 'O', 'B-название проекта', 'I-...  \n",
              "1     ['O', 'O', 'O', 'O', 'O', 'O', 'O', 'O', 'O', ...  \n",
              "2     ['O', 'O', 'O', 'O', 'O', 'O', 'O', 'O', 'O', ...  \n",
              "3     ['O', 'O', 'O', 'O', 'O', 'O', 'O', 'O', 'O', ...  \n",
              "4     ['O', 'O', 'O', 'O', 'B-название проекта', 'I-...  \n",
              "...                                                 ...  \n",
              "1601  ['O', 'O', 'O', 'O', 'O', 'O', 'O', 'O', 'O', ...  \n",
              "1602  ['O', 'O', 'O', 'O', 'B-персона', 'I-персона',...  \n",
              "1603  ['O', 'O', 'O', 'O', 'B-персона', 'B-персона',...  \n",
              "1604  ['O', 'O', 'O', 'O', 'B-персона', 'I-персона',...  \n",
              "1605  ['O', 'O', 'O', 'O', 'O', 'O', 'O', 'O', 'O', ...  \n",
              "\n",
              "[1606 rows x 2 columns]"
            ],
            "text/html": [
              "\n",
              "  <div id=\"df-7e5fd59f-ec4b-4354-916e-a507b324a19e\" class=\"colab-df-container\">\n",
              "    <div>\n",
              "<style scoped>\n",
              "    .dataframe tbody tr th:only-of-type {\n",
              "        vertical-align: middle;\n",
              "    }\n",
              "\n",
              "    .dataframe tbody tr th {\n",
              "        vertical-align: top;\n",
              "    }\n",
              "\n",
              "    .dataframe thead th {\n",
              "        text-align: right;\n",
              "    }\n",
              "</style>\n",
              "<table border=\"1\" class=\"dataframe\">\n",
              "  <thead>\n",
              "    <tr style=\"text-align: right;\">\n",
              "      <th></th>\n",
              "      <th>video_info</th>\n",
              "      <th>entities_prediction</th>\n",
              "    </tr>\n",
              "  </thead>\n",
              "  <tbody>\n",
              "    <tr>\n",
              "      <th>0</th>\n",
              "      <td>&lt;НАЗВАНИЕ:&gt; БОЕЦ БЕЗ ПРАВИЛ, ТРЕЙЛЕР на русско...</td>\n",
              "      <td>['O', 'O', 'O', 'O', 'B-название проекта', 'I-...</td>\n",
              "    </tr>\n",
              "    <tr>\n",
              "      <th>1</th>\n",
              "      <td>&lt;НАЗВАНИЕ:&gt; ШОК! КАК ЖЕ ЭТОМУ БОМЖУ ВЕЗЕТ В Br...</td>\n",
              "      <td>['O', 'O', 'O', 'O', 'O', 'O', 'O', 'O', 'O', ...</td>\n",
              "    </tr>\n",
              "    <tr>\n",
              "      <th>2</th>\n",
              "      <td>&lt;НАЗВАНИЕ:&gt; ДРЕВНИЕ РОБОТЫ NATASHA TALON И LEO...</td>\n",
              "      <td>['O', 'O', 'O', 'O', 'O', 'O', 'O', 'O', 'O', ...</td>\n",
              "    </tr>\n",
              "    <tr>\n",
              "      <th>3</th>\n",
              "      <td>&lt;НАЗВАНИЕ:&gt; ЖЕНА ПУТЕШЕСТВЕННИКА ВО ВРЕМЕНИ = ...</td>\n",
              "      <td>['O', 'O', 'O', 'O', 'O', 'O', 'O', 'O', 'O', ...</td>\n",
              "    </tr>\n",
              "    <tr>\n",
              "      <th>4</th>\n",
              "      <td>&lt;НАЗВАНИЕ:&gt; Кинозал ДК приглашает на мультфиль...</td>\n",
              "      <td>['O', 'O', 'O', 'O', 'B-название проекта', 'I-...</td>\n",
              "    </tr>\n",
              "    <tr>\n",
              "      <th>...</th>\n",
              "      <td>...</td>\n",
              "      <td>...</td>\n",
              "    </tr>\n",
              "    <tr>\n",
              "      <th>1601</th>\n",
              "      <td>&lt;НАЗВАНИЕ:&gt; Милейшие детеныши животных, которы...</td>\n",
              "      <td>['O', 'O', 'O', 'O', 'O', 'O', 'O', 'O', 'O', ...</td>\n",
              "    </tr>\n",
              "    <tr>\n",
              "      <th>1602</th>\n",
              "      <td>&lt;НАЗВАНИЕ:&gt; Диана Шурыгина набросилась на зрит...</td>\n",
              "      <td>['O', 'O', 'O', 'O', 'B-персона', 'I-персона',...</td>\n",
              "    </tr>\n",
              "    <tr>\n",
              "      <th>1603</th>\n",
              "      <td>&lt;НАЗВАНИЕ:&gt; Губернатор Евгений Куйвашев и непо...</td>\n",
              "      <td>['O', 'O', 'O', 'O', 'B-персона', 'B-персона',...</td>\n",
              "    </tr>\n",
              "    <tr>\n",
              "      <th>1604</th>\n",
              "      <td>&lt;НАЗВАНИЕ:&gt; Александр Горелов = о вакцинации о...</td>\n",
              "      <td>['O', 'O', 'O', 'O', 'B-персона', 'I-персона',...</td>\n",
              "    </tr>\n",
              "    <tr>\n",
              "      <th>1605</th>\n",
              "      <td>&lt;НАЗВАНИЕ:&gt; Смотрела УЖАСТИК и забыла, что не ...</td>\n",
              "      <td>['O', 'O', 'O', 'O', 'O', 'O', 'O', 'O', 'O', ...</td>\n",
              "    </tr>\n",
              "  </tbody>\n",
              "</table>\n",
              "<p>1606 rows × 2 columns</p>\n",
              "</div>\n",
              "    <div class=\"colab-df-buttons\">\n",
              "\n",
              "  <div class=\"colab-df-container\">\n",
              "    <button class=\"colab-df-convert\" onclick=\"convertToInteractive('df-7e5fd59f-ec4b-4354-916e-a507b324a19e')\"\n",
              "            title=\"Convert this dataframe to an interactive table.\"\n",
              "            style=\"display:none;\">\n",
              "\n",
              "  <svg xmlns=\"http://www.w3.org/2000/svg\" height=\"24px\" viewBox=\"0 -960 960 960\">\n",
              "    <path d=\"M120-120v-720h720v720H120Zm60-500h600v-160H180v160Zm220 220h160v-160H400v160Zm0 220h160v-160H400v160ZM180-400h160v-160H180v160Zm440 0h160v-160H620v160ZM180-180h160v-160H180v160Zm440 0h160v-160H620v160Z\"/>\n",
              "  </svg>\n",
              "    </button>\n",
              "\n",
              "  <style>\n",
              "    .colab-df-container {\n",
              "      display:flex;\n",
              "      gap: 12px;\n",
              "    }\n",
              "\n",
              "    .colab-df-convert {\n",
              "      background-color: #E8F0FE;\n",
              "      border: none;\n",
              "      border-radius: 50%;\n",
              "      cursor: pointer;\n",
              "      display: none;\n",
              "      fill: #1967D2;\n",
              "      height: 32px;\n",
              "      padding: 0 0 0 0;\n",
              "      width: 32px;\n",
              "    }\n",
              "\n",
              "    .colab-df-convert:hover {\n",
              "      background-color: #E2EBFA;\n",
              "      box-shadow: 0px 1px 2px rgba(60, 64, 67, 0.3), 0px 1px 3px 1px rgba(60, 64, 67, 0.15);\n",
              "      fill: #174EA6;\n",
              "    }\n",
              "\n",
              "    .colab-df-buttons div {\n",
              "      margin-bottom: 4px;\n",
              "    }\n",
              "\n",
              "    [theme=dark] .colab-df-convert {\n",
              "      background-color: #3B4455;\n",
              "      fill: #D2E3FC;\n",
              "    }\n",
              "\n",
              "    [theme=dark] .colab-df-convert:hover {\n",
              "      background-color: #434B5C;\n",
              "      box-shadow: 0px 1px 3px 1px rgba(0, 0, 0, 0.15);\n",
              "      filter: drop-shadow(0px 1px 2px rgba(0, 0, 0, 0.3));\n",
              "      fill: #FFFFFF;\n",
              "    }\n",
              "  </style>\n",
              "\n",
              "    <script>\n",
              "      const buttonEl =\n",
              "        document.querySelector('#df-7e5fd59f-ec4b-4354-916e-a507b324a19e button.colab-df-convert');\n",
              "      buttonEl.style.display =\n",
              "        google.colab.kernel.accessAllowed ? 'block' : 'none';\n",
              "\n",
              "      async function convertToInteractive(key) {\n",
              "        const element = document.querySelector('#df-7e5fd59f-ec4b-4354-916e-a507b324a19e');\n",
              "        const dataTable =\n",
              "          await google.colab.kernel.invokeFunction('convertToInteractive',\n",
              "                                                    [key], {});\n",
              "        if (!dataTable) return;\n",
              "\n",
              "        const docLinkHtml = 'Like what you see? Visit the ' +\n",
              "          '<a target=\"_blank\" href=https://colab.research.google.com/notebooks/data_table.ipynb>data table notebook</a>'\n",
              "          + ' to learn more about interactive tables.';\n",
              "        element.innerHTML = '';\n",
              "        dataTable['output_type'] = 'display_data';\n",
              "        await google.colab.output.renderOutput(dataTable, element);\n",
              "        const docLink = document.createElement('div');\n",
              "        docLink.innerHTML = docLinkHtml;\n",
              "        element.appendChild(docLink);\n",
              "      }\n",
              "    </script>\n",
              "  </div>\n",
              "\n",
              "\n",
              "<div id=\"df-8065d799-65f3-4a4d-8a3f-f1b746789365\">\n",
              "  <button class=\"colab-df-quickchart\" onclick=\"quickchart('df-8065d799-65f3-4a4d-8a3f-f1b746789365')\"\n",
              "            title=\"Suggest charts.\"\n",
              "            style=\"display:none;\">\n",
              "\n",
              "<svg xmlns=\"http://www.w3.org/2000/svg\" height=\"24px\"viewBox=\"0 0 24 24\"\n",
              "     width=\"24px\">\n",
              "    <g>\n",
              "        <path d=\"M19 3H5c-1.1 0-2 .9-2 2v14c0 1.1.9 2 2 2h14c1.1 0 2-.9 2-2V5c0-1.1-.9-2-2-2zM9 17H7v-7h2v7zm4 0h-2V7h2v10zm4 0h-2v-4h2v4z\"/>\n",
              "    </g>\n",
              "</svg>\n",
              "  </button>\n",
              "\n",
              "<style>\n",
              "  .colab-df-quickchart {\n",
              "      --bg-color: #E8F0FE;\n",
              "      --fill-color: #1967D2;\n",
              "      --hover-bg-color: #E2EBFA;\n",
              "      --hover-fill-color: #174EA6;\n",
              "      --disabled-fill-color: #AAA;\n",
              "      --disabled-bg-color: #DDD;\n",
              "  }\n",
              "\n",
              "  [theme=dark] .colab-df-quickchart {\n",
              "      --bg-color: #3B4455;\n",
              "      --fill-color: #D2E3FC;\n",
              "      --hover-bg-color: #434B5C;\n",
              "      --hover-fill-color: #FFFFFF;\n",
              "      --disabled-bg-color: #3B4455;\n",
              "      --disabled-fill-color: #666;\n",
              "  }\n",
              "\n",
              "  .colab-df-quickchart {\n",
              "    background-color: var(--bg-color);\n",
              "    border: none;\n",
              "    border-radius: 50%;\n",
              "    cursor: pointer;\n",
              "    display: none;\n",
              "    fill: var(--fill-color);\n",
              "    height: 32px;\n",
              "    padding: 0;\n",
              "    width: 32px;\n",
              "  }\n",
              "\n",
              "  .colab-df-quickchart:hover {\n",
              "    background-color: var(--hover-bg-color);\n",
              "    box-shadow: 0 1px 2px rgba(60, 64, 67, 0.3), 0 1px 3px 1px rgba(60, 64, 67, 0.15);\n",
              "    fill: var(--button-hover-fill-color);\n",
              "  }\n",
              "\n",
              "  .colab-df-quickchart-complete:disabled,\n",
              "  .colab-df-quickchart-complete:disabled:hover {\n",
              "    background-color: var(--disabled-bg-color);\n",
              "    fill: var(--disabled-fill-color);\n",
              "    box-shadow: none;\n",
              "  }\n",
              "\n",
              "  .colab-df-spinner {\n",
              "    border: 2px solid var(--fill-color);\n",
              "    border-color: transparent;\n",
              "    border-bottom-color: var(--fill-color);\n",
              "    animation:\n",
              "      spin 1s steps(1) infinite;\n",
              "  }\n",
              "\n",
              "  @keyframes spin {\n",
              "    0% {\n",
              "      border-color: transparent;\n",
              "      border-bottom-color: var(--fill-color);\n",
              "      border-left-color: var(--fill-color);\n",
              "    }\n",
              "    20% {\n",
              "      border-color: transparent;\n",
              "      border-left-color: var(--fill-color);\n",
              "      border-top-color: var(--fill-color);\n",
              "    }\n",
              "    30% {\n",
              "      border-color: transparent;\n",
              "      border-left-color: var(--fill-color);\n",
              "      border-top-color: var(--fill-color);\n",
              "      border-right-color: var(--fill-color);\n",
              "    }\n",
              "    40% {\n",
              "      border-color: transparent;\n",
              "      border-right-color: var(--fill-color);\n",
              "      border-top-color: var(--fill-color);\n",
              "    }\n",
              "    60% {\n",
              "      border-color: transparent;\n",
              "      border-right-color: var(--fill-color);\n",
              "    }\n",
              "    80% {\n",
              "      border-color: transparent;\n",
              "      border-right-color: var(--fill-color);\n",
              "      border-bottom-color: var(--fill-color);\n",
              "    }\n",
              "    90% {\n",
              "      border-color: transparent;\n",
              "      border-bottom-color: var(--fill-color);\n",
              "    }\n",
              "  }\n",
              "</style>\n",
              "\n",
              "  <script>\n",
              "    async function quickchart(key) {\n",
              "      const quickchartButtonEl =\n",
              "        document.querySelector('#' + key + ' button');\n",
              "      quickchartButtonEl.disabled = true;  // To prevent multiple clicks.\n",
              "      quickchartButtonEl.classList.add('colab-df-spinner');\n",
              "      try {\n",
              "        const charts = await google.colab.kernel.invokeFunction(\n",
              "            'suggestCharts', [key], {});\n",
              "      } catch (error) {\n",
              "        console.error('Error during call to suggestCharts:', error);\n",
              "      }\n",
              "      quickchartButtonEl.classList.remove('colab-df-spinner');\n",
              "      quickchartButtonEl.classList.add('colab-df-quickchart-complete');\n",
              "    }\n",
              "    (() => {\n",
              "      let quickchartButtonEl =\n",
              "        document.querySelector('#df-8065d799-65f3-4a4d-8a3f-f1b746789365 button');\n",
              "      quickchartButtonEl.style.display =\n",
              "        google.colab.kernel.accessAllowed ? 'block' : 'none';\n",
              "    })();\n",
              "  </script>\n",
              "</div>\n",
              "    </div>\n",
              "  </div>\n"
            ]
          },
          "metadata": {},
          "execution_count": 85
        }
      ]
    },
    {
      "cell_type": "code",
      "execution_count": 52,
      "id": "958310b4-09fa-41bd-b888-b4364be3f397",
      "metadata": {
        "scrolled": true,
        "id": "958310b4-09fa-41bd-b888-b4364be3f397",
        "colab": {
          "base_uri": "https://localhost:8080/"
        },
        "outputId": "69a2fc57-2c28-4d81-ac79-746e7fd2f16c"
      },
      "outputs": [
        {
          "output_type": "stream",
          "name": "stderr",
          "text": [
            "\r0it [00:00, ?it/s]/usr/local/lib/python3.10/dist-packages/transformers/tokenization_utils_base.py:360: FutureWarning: `BatchEncoding.words()` property is deprecated and should be replaced with the identical, but more self-explanatory `BatchEncoding.word_ids()` property.\n",
            "  warnings.warn(\n",
            "1146it [07:25,  2.30it/s]"
          ]
        },
        {
          "output_type": "stream",
          "name": "stdout",
          "text": [
            "['<', 'НАЗВАНИЕ', ':', '>', 'НА', 'КОГО', 'ПОТРАТИТЬ', '20', 'АЛМАЗОВ', 'В', '3', 'СЕРИИ', '_', 'УЛУЧШЕНИЕ', 'ОТНОШЕНИЙ', '_', 'СЕКРЕТ', 'НЕБЕС', '_', 'КЛУБ', 'РОМАНТИКИ', '<', 'ОПИСАНИЕ', ':', '>', '#', 'romanceclub', '#', 'клубромантики', '#', 'прохождение', '#', 'игра', '#', 'новелла', '#', 'визуальнаяновелла', '#', 'гайд', '#', 'аудиокнига', '#', 'Озвучка', '#', 'ДИЛ', '#', 'Идеал', '#', 'ЯОНТ', '#', 'ЯТ', '#', 'РЛ', '#', 'ЛИ', '#', 'ПВ', '#', 'КЗ', '30', 'Д', '#', 'СБиП', '#', 'ПСИ', '#', 'ЦиОТ', '#', 'Теодора', '#', 'Аркакнум', '#', 'ХГ', '#', 'ПТЛ', '#', 'ГЛ', '#', 'ДЖС', '#', 'ЛСЗ', '#', 'СН', '#', 'ВП', '#', 'ТС', '#', 'ПвТ', '#', 'МГИ', '#', 'ВРС', '#', 'ПВ', '#', 'КЗТ', '#', 'Озвучка_КР', '#', 'ДИЛ_КР', '#', 'Идеал_КР', '#', 'ЯОНТ_КР', '#', 'ЯТ_КР', '#', 'РЛ_КР', '#', 'ЛИ_КР', '#', 'ПВ_КР', '#', 'КЗ', '30', 'Д_КР', '#', 'СБиП_КР', '#', 'ПСИ_КР', '#', 'ЦиОТ_КР', '#', 'Теодора_КР', '#', 'Аркакнум_КР', '#', 'ХГ_КР', '#', 'ПТЛ_КР', '#', 'ГЛ_КР', '#', 'ДЖС_КР', '#', 'ЛСЗ_КР', '#', 'СН_КР', '#', 'ВП_КР', '#', 'ТС_КР', '#', 'ПвТ_КР', '#', 'МГИ_КР', '#', 'ВРС_КР', '#', 'ПВ_КР', '#', 'КЗТ_КР', '#', 'гайды_КР', '#', 'ПСИ', '#', 'ПСИ_КР', '#', 'покоряяверсаль', '#', 'thedesertrose', '#', 'розапустыни', '#', 'РП_КР', '#', 'СЕКРЕТНЕБЕС', '2', '#', 'СН', '2', '#', 'СН', '2_КР', '#', 'гайд_кр', '#', 'самоеинтересное', '#', 'самоесвежее_КР', '#', 'Novels', '#', 'драконвмоейпостели', '#', 'Ирен', '#', 'АлексКейн', '#', 'песньопрекрасномниле', '#', 'ПоПН_КР']\n"
          ]
        },
        {
          "output_type": "stream",
          "name": "stderr",
          "text": [
            "1606it [10:25,  2.57it/s]\n"
          ]
        }
      ],
      "source": [
        "label_list = sorted({label for item in ner_data for label in item['tags']})\n",
        "# label_list = sorted({label for item in ner_train for label in item['tags']})\n",
        "if 'O' in label_list:\n",
        "    label_list.remove('O')\n",
        "    label_list = ['O'] + label_list\n",
        "# ner_data = ner_data[:2]\n",
        "result = sample_submission(data1[['video_info']], tokenizer, model, pipe, submission)"
      ]
    },
    {
      "cell_type": "code",
      "execution_count": 53,
      "id": "4c0588b1-6e42-4f37-bfe6-2f695cb6971e",
      "metadata": {
        "id": "4c0588b1-6e42-4f37-bfe6-2f695cb6971e",
        "colab": {
          "base_uri": "https://localhost:8080/",
          "height": 423
        },
        "outputId": "0492fc0b-5f66-4e67-acfc-0cf62f0749bb"
      },
      "outputs": [
        {
          "output_type": "execute_result",
          "data": {
            "text/plain": [
              "                                             video_info  \\\n",
              "0     <НАЗВАНИЕ:> БОЕЦ БЕЗ ПРАВИЛ, ТРЕЙЛЕР на русско...   \n",
              "1     <НАЗВАНИЕ:> ШОК! КАК ЖЕ ЭТОМУ БОМЖУ ВЕЗЕТ В Br...   \n",
              "2     <НАЗВАНИЕ:> ДРЕВНИЕ РОБОТЫ NATASHA TALON И LEO...   \n",
              "3     <НАЗВАНИЕ:> ЖЕНА ПУТЕШЕСТВЕННИКА ВО ВРЕМЕНИ = ...   \n",
              "4     <НАЗВАНИЕ:> Кинозал ДК приглашает на мультфиль...   \n",
              "...                                                 ...   \n",
              "1601  <НАЗВАНИЕ:> Милейшие детеныши животных, которы...   \n",
              "1602  <НАЗВАНИЕ:> Диана Шурыгина набросилась на зрит...   \n",
              "1603  <НАЗВАНИЕ:> Губернатор Евгений Куйвашев и непо...   \n",
              "1604  <НАЗВАНИЕ:> Александр Горелов = о вакцинации о...   \n",
              "1605  <НАЗВАНИЕ:> Смотрела УЖАСТИК и забыла, что не ...   \n",
              "\n",
              "                                    entities_prediction  \n",
              "0     [O, O, O, O, B-название проекта, I-название пр...  \n",
              "1     [O, O, O, O, O, O, O, O, O, O, O, O, B-видеоиг...  \n",
              "2     [O, O, O, O, O, O, O, O, O, O, O, O, O, O, O, ...  \n",
              "3     [O, O, O, O, O, O, O, O, O, O, O, O, O, O, O, ...  \n",
              "4     [O, O, O, O, O, O, O, O, O, O, B-название прое...  \n",
              "...                                                 ...  \n",
              "1601  [O, O, O, O, O, O, O, O, O, O, O, O, O, O, O, ...  \n",
              "1602  [O, O, O, O, B-персона, I-персона, O, O, O, O,...  \n",
              "1603  [O, O, O, O, O, B-персона, I-персона, O, O, O,...  \n",
              "1604  [O, O, O, O, B-персона, I-персона, O, O, O, O,...  \n",
              "1605  [O, O, O, O, O, O, O, O, O, O, O, O, O, O, O, ...  \n",
              "\n",
              "[1606 rows x 2 columns]"
            ],
            "text/html": [
              "\n",
              "  <div id=\"df-e10cd54a-729a-454f-b62f-73b82435279a\" class=\"colab-df-container\">\n",
              "    <div>\n",
              "<style scoped>\n",
              "    .dataframe tbody tr th:only-of-type {\n",
              "        vertical-align: middle;\n",
              "    }\n",
              "\n",
              "    .dataframe tbody tr th {\n",
              "        vertical-align: top;\n",
              "    }\n",
              "\n",
              "    .dataframe thead tr th {\n",
              "        text-align: left;\n",
              "    }\n",
              "</style>\n",
              "<table border=\"1\" class=\"dataframe\">\n",
              "  <thead>\n",
              "    <tr>\n",
              "      <th></th>\n",
              "      <th>video_info</th>\n",
              "      <th>entities_prediction</th>\n",
              "    </tr>\n",
              "  </thead>\n",
              "  <tbody>\n",
              "    <tr>\n",
              "      <th>0</th>\n",
              "      <td>&lt;НАЗВАНИЕ:&gt; БОЕЦ БЕЗ ПРАВИЛ, ТРЕЙЛЕР на русско...</td>\n",
              "      <td>[O, O, O, O, B-название проекта, I-название пр...</td>\n",
              "    </tr>\n",
              "    <tr>\n",
              "      <th>1</th>\n",
              "      <td>&lt;НАЗВАНИЕ:&gt; ШОК! КАК ЖЕ ЭТОМУ БОМЖУ ВЕЗЕТ В Br...</td>\n",
              "      <td>[O, O, O, O, O, O, O, O, O, O, O, O, B-видеоиг...</td>\n",
              "    </tr>\n",
              "    <tr>\n",
              "      <th>2</th>\n",
              "      <td>&lt;НАЗВАНИЕ:&gt; ДРЕВНИЕ РОБОТЫ NATASHA TALON И LEO...</td>\n",
              "      <td>[O, O, O, O, O, O, O, O, O, O, O, O, O, O, O, ...</td>\n",
              "    </tr>\n",
              "    <tr>\n",
              "      <th>3</th>\n",
              "      <td>&lt;НАЗВАНИЕ:&gt; ЖЕНА ПУТЕШЕСТВЕННИКА ВО ВРЕМЕНИ = ...</td>\n",
              "      <td>[O, O, O, O, O, O, O, O, O, O, O, O, O, O, O, ...</td>\n",
              "    </tr>\n",
              "    <tr>\n",
              "      <th>4</th>\n",
              "      <td>&lt;НАЗВАНИЕ:&gt; Кинозал ДК приглашает на мультфиль...</td>\n",
              "      <td>[O, O, O, O, O, O, O, O, O, O, B-название прое...</td>\n",
              "    </tr>\n",
              "    <tr>\n",
              "      <th>...</th>\n",
              "      <td>...</td>\n",
              "      <td>...</td>\n",
              "    </tr>\n",
              "    <tr>\n",
              "      <th>1601</th>\n",
              "      <td>&lt;НАЗВАНИЕ:&gt; Милейшие детеныши животных, которы...</td>\n",
              "      <td>[O, O, O, O, O, O, O, O, O, O, O, O, O, O, O, ...</td>\n",
              "    </tr>\n",
              "    <tr>\n",
              "      <th>1602</th>\n",
              "      <td>&lt;НАЗВАНИЕ:&gt; Диана Шурыгина набросилась на зрит...</td>\n",
              "      <td>[O, O, O, O, B-персона, I-персона, O, O, O, O,...</td>\n",
              "    </tr>\n",
              "    <tr>\n",
              "      <th>1603</th>\n",
              "      <td>&lt;НАЗВАНИЕ:&gt; Губернатор Евгений Куйвашев и непо...</td>\n",
              "      <td>[O, O, O, O, O, B-персона, I-персона, O, O, O,...</td>\n",
              "    </tr>\n",
              "    <tr>\n",
              "      <th>1604</th>\n",
              "      <td>&lt;НАЗВАНИЕ:&gt; Александр Горелов = о вакцинации о...</td>\n",
              "      <td>[O, O, O, O, B-персона, I-персона, O, O, O, O,...</td>\n",
              "    </tr>\n",
              "    <tr>\n",
              "      <th>1605</th>\n",
              "      <td>&lt;НАЗВАНИЕ:&gt; Смотрела УЖАСТИК и забыла, что не ...</td>\n",
              "      <td>[O, O, O, O, O, O, O, O, O, O, O, O, O, O, O, ...</td>\n",
              "    </tr>\n",
              "  </tbody>\n",
              "</table>\n",
              "<p>1606 rows × 2 columns</p>\n",
              "</div>\n",
              "    <div class=\"colab-df-buttons\">\n",
              "\n",
              "  <div class=\"colab-df-container\">\n",
              "    <button class=\"colab-df-convert\" onclick=\"convertToInteractive('df-e10cd54a-729a-454f-b62f-73b82435279a')\"\n",
              "            title=\"Convert this dataframe to an interactive table.\"\n",
              "            style=\"display:none;\">\n",
              "\n",
              "  <svg xmlns=\"http://www.w3.org/2000/svg\" height=\"24px\" viewBox=\"0 -960 960 960\">\n",
              "    <path d=\"M120-120v-720h720v720H120Zm60-500h600v-160H180v160Zm220 220h160v-160H400v160Zm0 220h160v-160H400v160ZM180-400h160v-160H180v160Zm440 0h160v-160H620v160ZM180-180h160v-160H180v160Zm440 0h160v-160H620v160Z\"/>\n",
              "  </svg>\n",
              "    </button>\n",
              "\n",
              "  <style>\n",
              "    .colab-df-container {\n",
              "      display:flex;\n",
              "      gap: 12px;\n",
              "    }\n",
              "\n",
              "    .colab-df-convert {\n",
              "      background-color: #E8F0FE;\n",
              "      border: none;\n",
              "      border-radius: 50%;\n",
              "      cursor: pointer;\n",
              "      display: none;\n",
              "      fill: #1967D2;\n",
              "      height: 32px;\n",
              "      padding: 0 0 0 0;\n",
              "      width: 32px;\n",
              "    }\n",
              "\n",
              "    .colab-df-convert:hover {\n",
              "      background-color: #E2EBFA;\n",
              "      box-shadow: 0px 1px 2px rgba(60, 64, 67, 0.3), 0px 1px 3px 1px rgba(60, 64, 67, 0.15);\n",
              "      fill: #174EA6;\n",
              "    }\n",
              "\n",
              "    .colab-df-buttons div {\n",
              "      margin-bottom: 4px;\n",
              "    }\n",
              "\n",
              "    [theme=dark] .colab-df-convert {\n",
              "      background-color: #3B4455;\n",
              "      fill: #D2E3FC;\n",
              "    }\n",
              "\n",
              "    [theme=dark] .colab-df-convert:hover {\n",
              "      background-color: #434B5C;\n",
              "      box-shadow: 0px 1px 3px 1px rgba(0, 0, 0, 0.15);\n",
              "      filter: drop-shadow(0px 1px 2px rgba(0, 0, 0, 0.3));\n",
              "      fill: #FFFFFF;\n",
              "    }\n",
              "  </style>\n",
              "\n",
              "    <script>\n",
              "      const buttonEl =\n",
              "        document.querySelector('#df-e10cd54a-729a-454f-b62f-73b82435279a button.colab-df-convert');\n",
              "      buttonEl.style.display =\n",
              "        google.colab.kernel.accessAllowed ? 'block' : 'none';\n",
              "\n",
              "      async function convertToInteractive(key) {\n",
              "        const element = document.querySelector('#df-e10cd54a-729a-454f-b62f-73b82435279a');\n",
              "        const dataTable =\n",
              "          await google.colab.kernel.invokeFunction('convertToInteractive',\n",
              "                                                    [key], {});\n",
              "        if (!dataTable) return;\n",
              "\n",
              "        const docLinkHtml = 'Like what you see? Visit the ' +\n",
              "          '<a target=\"_blank\" href=https://colab.research.google.com/notebooks/data_table.ipynb>data table notebook</a>'\n",
              "          + ' to learn more about interactive tables.';\n",
              "        element.innerHTML = '';\n",
              "        dataTable['output_type'] = 'display_data';\n",
              "        await google.colab.output.renderOutput(dataTable, element);\n",
              "        const docLink = document.createElement('div');\n",
              "        docLink.innerHTML = docLinkHtml;\n",
              "        element.appendChild(docLink);\n",
              "      }\n",
              "    </script>\n",
              "  </div>\n",
              "\n",
              "\n",
              "<div id=\"df-c6854ac7-93f0-4c61-a96b-bf618ca426ef\">\n",
              "  <button class=\"colab-df-quickchart\" onclick=\"quickchart('df-c6854ac7-93f0-4c61-a96b-bf618ca426ef')\"\n",
              "            title=\"Suggest charts.\"\n",
              "            style=\"display:none;\">\n",
              "\n",
              "<svg xmlns=\"http://www.w3.org/2000/svg\" height=\"24px\"viewBox=\"0 0 24 24\"\n",
              "     width=\"24px\">\n",
              "    <g>\n",
              "        <path d=\"M19 3H5c-1.1 0-2 .9-2 2v14c0 1.1.9 2 2 2h14c1.1 0 2-.9 2-2V5c0-1.1-.9-2-2-2zM9 17H7v-7h2v7zm4 0h-2V7h2v10zm4 0h-2v-4h2v4z\"/>\n",
              "    </g>\n",
              "</svg>\n",
              "  </button>\n",
              "\n",
              "<style>\n",
              "  .colab-df-quickchart {\n",
              "      --bg-color: #E8F0FE;\n",
              "      --fill-color: #1967D2;\n",
              "      --hover-bg-color: #E2EBFA;\n",
              "      --hover-fill-color: #174EA6;\n",
              "      --disabled-fill-color: #AAA;\n",
              "      --disabled-bg-color: #DDD;\n",
              "  }\n",
              "\n",
              "  [theme=dark] .colab-df-quickchart {\n",
              "      --bg-color: #3B4455;\n",
              "      --fill-color: #D2E3FC;\n",
              "      --hover-bg-color: #434B5C;\n",
              "      --hover-fill-color: #FFFFFF;\n",
              "      --disabled-bg-color: #3B4455;\n",
              "      --disabled-fill-color: #666;\n",
              "  }\n",
              "\n",
              "  .colab-df-quickchart {\n",
              "    background-color: var(--bg-color);\n",
              "    border: none;\n",
              "    border-radius: 50%;\n",
              "    cursor: pointer;\n",
              "    display: none;\n",
              "    fill: var(--fill-color);\n",
              "    height: 32px;\n",
              "    padding: 0;\n",
              "    width: 32px;\n",
              "  }\n",
              "\n",
              "  .colab-df-quickchart:hover {\n",
              "    background-color: var(--hover-bg-color);\n",
              "    box-shadow: 0 1px 2px rgba(60, 64, 67, 0.3), 0 1px 3px 1px rgba(60, 64, 67, 0.15);\n",
              "    fill: var(--button-hover-fill-color);\n",
              "  }\n",
              "\n",
              "  .colab-df-quickchart-complete:disabled,\n",
              "  .colab-df-quickchart-complete:disabled:hover {\n",
              "    background-color: var(--disabled-bg-color);\n",
              "    fill: var(--disabled-fill-color);\n",
              "    box-shadow: none;\n",
              "  }\n",
              "\n",
              "  .colab-df-spinner {\n",
              "    border: 2px solid var(--fill-color);\n",
              "    border-color: transparent;\n",
              "    border-bottom-color: var(--fill-color);\n",
              "    animation:\n",
              "      spin 1s steps(1) infinite;\n",
              "  }\n",
              "\n",
              "  @keyframes spin {\n",
              "    0% {\n",
              "      border-color: transparent;\n",
              "      border-bottom-color: var(--fill-color);\n",
              "      border-left-color: var(--fill-color);\n",
              "    }\n",
              "    20% {\n",
              "      border-color: transparent;\n",
              "      border-left-color: var(--fill-color);\n",
              "      border-top-color: var(--fill-color);\n",
              "    }\n",
              "    30% {\n",
              "      border-color: transparent;\n",
              "      border-left-color: var(--fill-color);\n",
              "      border-top-color: var(--fill-color);\n",
              "      border-right-color: var(--fill-color);\n",
              "    }\n",
              "    40% {\n",
              "      border-color: transparent;\n",
              "      border-right-color: var(--fill-color);\n",
              "      border-top-color: var(--fill-color);\n",
              "    }\n",
              "    60% {\n",
              "      border-color: transparent;\n",
              "      border-right-color: var(--fill-color);\n",
              "    }\n",
              "    80% {\n",
              "      border-color: transparent;\n",
              "      border-right-color: var(--fill-color);\n",
              "      border-bottom-color: var(--fill-color);\n",
              "    }\n",
              "    90% {\n",
              "      border-color: transparent;\n",
              "      border-bottom-color: var(--fill-color);\n",
              "    }\n",
              "  }\n",
              "</style>\n",
              "\n",
              "  <script>\n",
              "    async function quickchart(key) {\n",
              "      const quickchartButtonEl =\n",
              "        document.querySelector('#' + key + ' button');\n",
              "      quickchartButtonEl.disabled = true;  // To prevent multiple clicks.\n",
              "      quickchartButtonEl.classList.add('colab-df-spinner');\n",
              "      try {\n",
              "        const charts = await google.colab.kernel.invokeFunction(\n",
              "            'suggestCharts', [key], {});\n",
              "      } catch (error) {\n",
              "        console.error('Error during call to suggestCharts:', error);\n",
              "      }\n",
              "      quickchartButtonEl.classList.remove('colab-df-spinner');\n",
              "      quickchartButtonEl.classList.add('colab-df-quickchart-complete');\n",
              "    }\n",
              "    (() => {\n",
              "      let quickchartButtonEl =\n",
              "        document.querySelector('#df-c6854ac7-93f0-4c61-a96b-bf618ca426ef button');\n",
              "      quickchartButtonEl.style.display =\n",
              "        google.colab.kernel.accessAllowed ? 'block' : 'none';\n",
              "    })();\n",
              "  </script>\n",
              "</div>\n",
              "    </div>\n",
              "  </div>\n"
            ]
          },
          "metadata": {},
          "execution_count": 53
        }
      ],
      "source": [
        "result"
      ]
    },
    {
      "cell_type": "code",
      "source": [
        "result.to_csv('/content/drive/MyDrive/ner_DP/result_total_2.csv', index=False)"
      ],
      "metadata": {
        "id": "4BkHRaUsLv0E"
      },
      "id": "4BkHRaUsLv0E",
      "execution_count": 54,
      "outputs": []
    },
    {
      "cell_type": "code",
      "execution_count": null,
      "id": "b15cdcc7-3750-46ad-abea-36fc712feb60",
      "metadata": {
        "id": "b15cdcc7-3750-46ad-abea-36fc712feb60"
      },
      "outputs": [],
      "source": [
        "len(ner_test)"
      ]
    }
  ],
  "metadata": {
    "kernelspec": {
      "display_name": "Python 3",
      "name": "python3"
    },
    "language_info": {
      "codemirror_mode": {
        "name": "ipython",
        "version": 3
      },
      "file_extension": ".py",
      "mimetype": "text/x-python",
      "name": "python",
      "nbconvert_exporter": "python",
      "pygments_lexer": "ipython3",
      "version": "3.9.12"
    },
    "colab": {
      "provenance": []
    }
  },
  "nbformat": 4,
  "nbformat_minor": 5
}